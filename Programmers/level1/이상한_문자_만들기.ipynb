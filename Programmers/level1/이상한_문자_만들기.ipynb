{
 "metadata": {
  "language_info": {
   "codemirror_mode": {
    "name": "ipython",
    "version": 3
   },
   "file_extension": ".py",
   "mimetype": "text/x-python",
   "name": "python",
   "nbconvert_exporter": "python",
   "pygments_lexer": "ipython3",
   "version": 3
  },
  "orig_nbformat": 2
 },
 "nbformat": 4,
 "nbformat_minor": 2,
 "cells": [
  {
   "cell_type": "markdown",
   "metadata": {},
   "source": [
    "# 이상한 문자 만들기\n",
    "\n",
    "[링크](https://programmers.co.kr/learn/courses/30/lessons/12930)\n",
    "\n",
    "<br>\n",
    "\n",
    "## 문제 설명\n",
    "문자열 s는 한 개 이상의 단어로 구성되어 있습니다. \n",
    "<br>각 단어는 하나 이상의 공백문자로 구분되어 있습니다. \n",
    "<br>각 단어의 짝수번째 알파벳은 대문자로, 홀수번째 알파벳은 소문자로 바꾼 문자열을 리턴하는 함수, solution을 완성하세요.\n",
    "\n",
    "<br>\n",
    "\n",
    "## 제한 사항\n",
    "- 문자열 전체의 짝/홀수 인덱스가 아니라, 단어(공백을 기준)별로 짝/홀수 인덱스를 판단해야합니다.\n",
    "- 첫 번째 글자는 0번째 인덱스로 보아 짝수번째 알파벳으로 처리해야 합니다.\n",
    "\n",
    "<br>\n",
    "\n",
    "## 입출력 예\n",
    "| s | return |\n",
    "| :-: | :-: |\n",
    "| `\"try hello world\"` |\t`\"TrY HeLlO WoRlD\"` |\n",
    "\n",
    "<br>\n",
    "\n",
    "## 입출력 예 설명\n",
    "`\"try hello world\"`는 세 단어 `\"try\"`, `\"hello\"`, `\"world\"`로 구성되어 있습니다. \n",
    "<br>각 단어의 짝수번째 문자를 대문자로, 홀수번째 문자를 소문자로 바꾸면 `\"TrY\"`, `\"HeLlO\"`, `\"WoRlD\"`입니다. \n",
    "<br>따라서 `\"TrY HeLlO WoRlD\"` 를 리턴합니다.\n",
    "\n"
   ]
  },
  {
   "cell_type": "code",
   "execution_count": null,
   "metadata": {},
   "outputs": [],
   "source": [
    "def solution(s):\n",
    "    tmp = []\n",
    "    for word in s.split(' '):\n",
    "        tmp.append(''.join([s.upper() if i%2 == 0 else s.lower() for i, s in enumerate(word)]))\n",
    "    answer = ' '.join(tmp)\n",
    "    return answer"
   ]
  },
  {
   "cell_type": "markdown",
   "metadata": {},
   "source": [
    "<img src='https://imgur.com/Wcr7y2W.png' width='70%' align='left'>"
   ]
  }
 ]
}