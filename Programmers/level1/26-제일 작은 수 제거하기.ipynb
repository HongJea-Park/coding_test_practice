{
 "metadata": {
  "language_info": {
   "codemirror_mode": {
    "name": "ipython",
    "version": 3
   },
   "file_extension": ".py",
   "mimetype": "text/x-python",
   "name": "python",
   "nbconvert_exporter": "python",
   "pygments_lexer": "ipython3",
   "version": 3
  },
  "orig_nbformat": 2
 },
 "nbformat": 4,
 "nbformat_minor": 2,
 "cells": [
  {
   "cell_type": "markdown",
   "metadata": {},
   "source": [
    "# 제일 작은 수 제거하기\n",
    "\n",
    "[링크](https://programmers.co.kr/learn/courses/30/lessons/12935)\n",
    "\n",
    "<br>\n",
    "\n",
    "## 문제 설명\n",
    "정수를 저장한 배열, arr 에서 가장 작은 수를 제거한 배열을 리턴하는 함수, solution을 완성해주세요. \n",
    "<br>단, 리턴하려는 배열이 빈 배열인 경우엔 배열에 -1을 채워 리턴하세요. \n",
    "<br>예를들어 arr이 `[4,3,2,1]`인 경우는 `[4,3,2]`를 리턴 하고, `[10]`면 `[-1]`을 리턴 합니다.\n",
    "\n",
    "<br>\n",
    "\n",
    "## 제한 조건\n",
    "- `arr`은 길이 1 이상인 배열입니다.\n",
    "- 인덱스 `i`, `j`에 대해 `i` ≠ `j`이면 `arr[i]` ≠ `arr[j]` 입니다.\n",
    "\n",
    "<br>\n",
    "\n",
    "## 입출력 예\n",
    "| arr |\treturn |\n",
    "| :-: | :-: |\n",
    "| `[4,3,2,1]` | `[4,3,2]` |\n",
    "| `[10]` | `[-1]` |\n"
   ]
  },
  {
   "cell_type": "code",
   "execution_count": null,
   "metadata": {},
   "outputs": [],
   "source": [
    "def solution(arr):\n",
    "    arr.remove(min(arr))\n",
    "    return arr if arr else [-1]"
   ]
  },
  {
   "cell_type": "markdown",
   "metadata": {},
   "source": [
    "<img src='https://imgur.com/QhdGF11.png' width='70%' align='left'>"
   ]
  }
 ]
}