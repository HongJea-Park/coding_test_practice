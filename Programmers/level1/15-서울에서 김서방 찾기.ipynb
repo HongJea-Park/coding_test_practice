{
 "metadata": {
  "language_info": {
   "codemirror_mode": {
    "name": "ipython",
    "version": 3
   },
   "file_extension": ".py",
   "mimetype": "text/x-python",
   "name": "python",
   "nbconvert_exporter": "python",
   "pygments_lexer": "ipython3",
   "version": 3
  },
  "orig_nbformat": 2
 },
 "nbformat": 4,
 "nbformat_minor": 2,
 "cells": [
  {
   "cell_type": "markdown",
   "metadata": {},
   "source": [
    "# 서울에서 김서방 찾기\n",
    "\n",
    "[링크](https://programmers.co.kr/learn/courses/30/lessons/12919)\n",
    "\n",
    "### 문제 설명\n",
    "String형 배열 seoul의 element중 Kim의 위치 x를 찾아, 김서방은 x에 있다는 String을 반환하는 함수, solution을 완성하세요. \n",
    "<br>seoul에 Kim은 오직 한 번만 나타나며 잘못된 값이 입력되는 경우는 없습니다.\n",
    "\n",
    "### 제한 사항\n",
    "- seoul은 길이 1 이상, 1000 이하인 배열입니다.\n",
    "- seoul의 원소는 길이 1 이상, 20 이하인 문자열입니다.\n",
    "- Kim은 반드시 seoul 안에 포함되어 있습니다.\n",
    "\n",
    "### 입출력 예\n",
    "| seoul | return |\n",
    "| :-: | :-: |\n",
    "| `[Jane, Kim]`\t| `\"김서방은 1에 있다\"` |"
   ]
  },
  {
   "cell_type": "code",
   "execution_count": null,
   "metadata": {},
   "outputs": [],
   "source": [
    "def solution(seoul):\n",
    "    for idx, name in enumerate(seoul):\n",
    "        if name == 'Kim':\n",
    "            return f'김서방은 {idx}에 있다'"
   ]
  },
  {
   "cell_type": "markdown",
   "metadata": {},
   "source": [
    "<img src='https://imgur.com/5rAhokj.png' width='70%' align='left'>"
   ]
  }
 ]
}