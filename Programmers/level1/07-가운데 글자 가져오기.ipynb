{
 "metadata": {
  "language_info": {
   "codemirror_mode": {
    "name": "ipython",
    "version": 3
   },
   "file_extension": ".py",
   "mimetype": "text/x-python",
   "name": "python",
   "nbconvert_exporter": "python",
   "pygments_lexer": "ipython3",
   "version": 3
  },
  "orig_nbformat": 2
 },
 "nbformat": 4,
 "nbformat_minor": 2,
 "cells": [
  {
   "cell_type": "markdown",
   "metadata": {},
   "source": [
    "# 가운데 글자 가져오기\n",
    "\n",
    "[링크](https://programmers.co.kr/learn/courses/30/lessons/12903)\n",
    "\n",
    "### 문제 설명\n",
    "\n",
    "단어 s의 가운데 글자를 반환하는 함수, solution을 만들어 보세요. \n",
    "<br>단어의 길이가 짝수라면 가운데 두글자를 반환하면 됩니다.\n",
    "\n",
    "### 재한사항\n",
    "- s는 길이가 1 이상, 100이하인 스트링입니다.\n",
    "\n",
    "### 입출력 예\n",
    "| s | return |\n",
    "| :-: | :-: |\n",
    "| abcde\t| c |\n",
    "| qwer | we |\n"
   ]
  },
  {
   "cell_type": "code",
   "execution_count": null,
   "metadata": {},
   "outputs": [],
   "source": [
    "def solution(s):\n",
    "    q, r = divmod(len(s), 2)\n",
    "    if r == 0:\n",
    "        answer = s[q-1:q+1]\n",
    "    else:\n",
    "        answer = s[q]\n",
    "    return answer"
   ]
  },
  {
   "cell_type": "markdown",
   "metadata": {},
   "source": [
    "<img src='https://imgur.com/ErqguBK.png' width='70%' align='left'>"
   ]
  }
 ]
}