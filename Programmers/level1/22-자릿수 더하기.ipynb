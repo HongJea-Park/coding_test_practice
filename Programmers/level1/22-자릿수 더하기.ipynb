{
 "metadata": {
  "language_info": {
   "codemirror_mode": {
    "name": "ipython",
    "version": 3
   },
   "file_extension": ".py",
   "mimetype": "text/x-python",
   "name": "python",
   "nbconvert_exporter": "python",
   "pygments_lexer": "ipython3",
   "version": 3
  },
  "orig_nbformat": 2
 },
 "nbformat": 4,
 "nbformat_minor": 2,
 "cells": [
  {
   "cell_type": "markdown",
   "metadata": {},
   "source": [
    "# 자릿수 더하기\n",
    "\n",
    "[링크](https://programmers.co.kr/learn/courses/30/lessons/12931)\n",
    "\n",
    "<br>\n",
    "\n",
    "## 문제 설명\n",
    "자연수 N이 주어지면, N의 각 자릿수의 합을 구해서 return 하는 solution 함수를 만들어 주세요.\n",
    "<br>예를들어 N = 123이면 1 + 2 + 3 = 6을 return 하면 됩니다.\n",
    "\n",
    "<br>\n",
    "\n",
    "## 제한사항\n",
    "- N의 범위 : 100,000,000 이하의 자연수\n",
    "\n",
    "<br>\n",
    "\n",
    "## 입출력 예\n",
    "| N | answer |\n",
    "| :-: | :-: |\n",
    "| 123 |\t6 |\n",
    "| 987 |\t24 |\n",
    "\n",
    "<br>\n",
    "\n",
    "## 입출력 예 설명\n",
    "\n",
    "### 입출력 예 #1\n",
    "\n",
    "문제의 예시와 같습니다.\n",
    "\n",
    "### 입출력 예 #2\n",
    "\n",
    "9 + 8 + 7 = 24이므로 24를 return 하면 됩니다.\n",
    "\n"
   ]
  },
  {
   "cell_type": "code",
   "execution_count": null,
   "metadata": {},
   "outputs": [],
   "source": [
    "def solution(n):\n",
    "    answer = 0\n",
    "    for digit in str(n):\n",
    "        answer += int(digit)\n",
    "    return answer"
   ]
  },
  {
   "cell_type": "markdown",
   "metadata": {},
   "source": [
    "<img src='https://imgur.com/iixc2TM.png' width='70%' align='left'>"
   ]
  }
 ]
}