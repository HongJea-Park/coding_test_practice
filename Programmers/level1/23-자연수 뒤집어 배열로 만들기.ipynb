{
 "metadata": {
  "language_info": {
   "codemirror_mode": {
    "name": "ipython",
    "version": 3
   },
   "file_extension": ".py",
   "mimetype": "text/x-python",
   "name": "python",
   "nbconvert_exporter": "python",
   "pygments_lexer": "ipython3",
   "version": 3
  },
  "orig_nbformat": 2
 },
 "nbformat": 4,
 "nbformat_minor": 2,
 "cells": [
  {
   "cell_type": "markdown",
   "metadata": {},
   "source": [
    "# 자연수 뒤집어 배열로 만들기\n",
    "\n",
    "[링크](https://programmers.co.kr/learn/courses/30/lessons/12932)\n",
    "\n",
    "<br>\n",
    "\n",
    "## 문제 설명\n",
    "자연수 n을 뒤집어 각 자리 숫자를 원소로 가지는 배열 형태로 리턴해주세요. \n",
    "<br>예를들어 n이 `12345`이면 `[5,4,3,2,1]`을 리턴합니다.\n",
    "\n",
    "<br>\n",
    "\n",
    "## 제한 조건\n",
    "- n은 10,000,000,000이하인 자연수입니다.\n",
    "\n",
    "<br>\n",
    "\n",
    "## 입출력 예\n",
    "| n | return |\n",
    "| :-: | :-: |\n",
    "| `12345` | `[5,4,3,2,1]` |\n"
   ]
  },
  {
   "cell_type": "code",
   "execution_count": null,
   "metadata": {},
   "outputs": [],
   "source": [
    "def solution(n):\n",
    "    return [int(s) for s in str(n)[::-1]]"
   ]
  },
  {
   "cell_type": "markdown",
   "metadata": {},
   "source": [
    "<img src='https://imgur.com/1CYKv60.png' width='70%' align='left'>"
   ]
  }
 ]
}