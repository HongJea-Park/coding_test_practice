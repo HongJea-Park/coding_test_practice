{
 "metadata": {
  "language_info": {
   "codemirror_mode": {
    "name": "ipython",
    "version": 3
   },
   "file_extension": ".py",
   "mimetype": "text/x-python",
   "name": "python",
   "nbconvert_exporter": "python",
   "pygments_lexer": "ipython3",
   "version": 3
  },
  "orig_nbformat": 2
 },
 "nbformat": 4,
 "nbformat_minor": 2,
 "cells": [
  {
   "cell_type": "markdown",
   "metadata": {},
   "source": [
    "# 같은 숫자는 싫어\n",
    "\n",
    "[링크](https://programmers.co.kr/learn/courses/30/lessons/12906)\n",
    "\n",
    "<br>\n",
    "\n",
    "## 문제 설명\n",
    "배열 arr가 주어집니다. \n",
    "<br>배열 arr의 각 원소는 숫자 0부터 9까지로 이루어져 있습니다. \n",
    "<br>이때, 배열 arr에서 연속적으로 나타나는 숫자는 하나만 남기고 전부 제거하려고 합니다. \n",
    "<br>단, 제거된 후 남은 수들을 반환할 때는 배열 arr의 원소들의 순서를 유지해야 합니다. \n",
    "<br>예를 들면,\n",
    "<br>\n",
    "- `arr = [1, 1, 3, 3, 0, 1, 1]` 이면 `[1, 3, 0, 1]` 을 return 합니다.\n",
    "- `arr = [4, 4, 4, 3, 3]` 이면 `[4, 3]` 을 return 합니다.\n",
    "<br>배열 arr에서 연속적으로 나타나는 숫자는 제거하고 남은 수들을 return 하는 solution 함수를 완성해 주세요.\n",
    "\n",
    "<br>\n",
    "\n",
    "## 제한사항\n",
    "- 배열 arr의 크기 : 1,000,000 이하의 자연수\n",
    "- 배열 arr의 원소의 크기 : 0보다 크거나 같고 9보다 작거나 같은 정수\n",
    "\n",
    "<br>\n",
    "\n",
    "## 입출력 예\n",
    "| arr |\tanswer |\n",
    "| :-: | :-: |\n",
    "| `[1,1,3,3,0,1,1]` | `[1,3,0,1]` |\n",
    "| `[4,4,4,3,3]` | `[4,3]` |\n",
    "\n",
    "<br>\n",
    "\n",
    "## 입출력 예 설명\n",
    "\n",
    "### 입출력 예 #1,2\n",
    "문제의 예시와 같습니다."
   ]
  },
  {
   "cell_type": "code",
   "execution_count": null,
   "metadata": {},
   "outputs": [],
   "source": [
    "def solution(arr):\n",
    "    answer = [arr[0]]\n",
    "    for v in arr[1:]:\n",
    "        if answer[-1] != v:\n",
    "            answer.append(v)           \n",
    "    return answer"
   ]
  },
  {
   "cell_type": "markdown",
   "metadata": {},
   "source": [
    "<img src='https://imgur.com/4bO1AsF.png' width='70%' align='left'>"
   ]
  }
 ]
}