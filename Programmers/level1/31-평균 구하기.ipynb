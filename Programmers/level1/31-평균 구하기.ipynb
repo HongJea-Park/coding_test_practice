{
 "metadata": {
  "language_info": {
   "codemirror_mode": {
    "name": "ipython",
    "version": 3
   },
   "file_extension": ".py",
   "mimetype": "text/x-python",
   "name": "python",
   "nbconvert_exporter": "python",
   "pygments_lexer": "ipython3",
   "version": 3
  },
  "orig_nbformat": 2
 },
 "nbformat": 4,
 "nbformat_minor": 2,
 "cells": [
  {
   "cell_type": "markdown",
   "metadata": {},
   "source": [
    "# 평균 구하기\n",
    "\n",
    "[링크](https://programmers.co.kr/learn/courses/30/lessons/12944)\n",
    "\n",
    "<br>\n",
    "\n",
    "## 문제 설명\n",
    "\n",
    "정수를 담고 있는 배열 arr의 평균값을 return하는 함수, solution을 완성해보세요.\n",
    "\n",
    "<br>\n",
    "\n",
    "## 제한사항\n",
    "- arr은 길이 1 이상, 100 이하인 배열입니다.\n",
    "- arr의 원소는 -10,000 이상 10,000 이하인 정수입니다.\n",
    "\n",
    "<br>\n",
    "\n",
    "## 입출력 예\n",
    "| arr |\treturn |\n",
    "| :-: | :-: |\n",
    "| `[1,2,3,4]` |\t2.5 |\n",
    "| `[5,5]` |\t5 |\n"
   ]
  },
  {
   "cell_type": "code",
   "execution_count": null,
   "metadata": {},
   "outputs": [],
   "source": [
    "def solution(arr):\n",
    "    return sum(arr) / len(arr)"
   ]
  },
  {
   "cell_type": "markdown",
   "metadata": {},
   "source": [
    "<img src='https://imgur.com/pbaupsw.png' width='70%' align='left'>"
   ]
  }
 ]
}