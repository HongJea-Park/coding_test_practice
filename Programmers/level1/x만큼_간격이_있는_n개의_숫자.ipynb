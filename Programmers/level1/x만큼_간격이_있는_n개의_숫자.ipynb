{
 "metadata": {
  "language_info": {
   "codemirror_mode": {
    "name": "ipython",
    "version": 3
   },
   "file_extension": ".py",
   "mimetype": "text/x-python",
   "name": "python",
   "nbconvert_exporter": "python",
   "pygments_lexer": "ipython3",
   "version": 3
  },
  "orig_nbformat": 2
 },
 "nbformat": 4,
 "nbformat_minor": 2,
 "cells": [
  {
   "cell_type": "markdown",
   "metadata": {},
   "source": [
    "# x만큼 간격이 있는 n개의 숫자\n",
    "\n",
    "[링크](https://programmers.co.kr/learn/courses/30/lessons/12954)\n",
    "\n",
    "<br>\n",
    "\n",
    "## 문제 설명\n",
    "함수 solution은 정수 x와 자연수 n을 입력 받아, x부터 시작해 x씩 증가하는 숫자를 n개 지니는 리스트를 리턴해야 합니다. \n",
    "<br>다음 제한 조건을 보고, 조건을 만족하는 함수, solution을 완성해주세요.\n",
    "\n",
    "<br>\n",
    "\n",
    "## 제한 조건\n",
    "- x는 -10000000 이상, 10000000 이하인 정수입니다.\n",
    "- n은 1000 이하인 자연수입니다.\n",
    "\n",
    "<br>\n",
    "\n",
    "## 입출력 예\n",
    "| x\t| n\t| answer |\n",
    "| :-: | :-: | :-: |\n",
    "| 2\t| 5\t| `[2,4,6,8,10]` |\n",
    "| 4\t| 3\t| `[4,8,12]` |\n",
    "| -4 | 2 | `[-4, -8]` |\n"
   ]
  },
  {
   "cell_type": "code",
   "execution_count": null,
   "metadata": {},
   "outputs": [],
   "source": [
    "def solution(x, n):\n",
    "    return [x*i for i in range(1, n+1)]"
   ]
  },
  {
   "cell_type": "markdown",
   "metadata": {},
   "source": [
    "<img src='https://imgur.com/VJGnmfu.png' width='70%' align='left'>"
   ]
  }
 ]
}