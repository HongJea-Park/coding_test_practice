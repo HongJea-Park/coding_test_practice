{
 "metadata": {
  "language_info": {
   "codemirror_mode": {
    "name": "ipython",
    "version": 3
   },
   "file_extension": ".py",
   "mimetype": "text/x-python",
   "name": "python",
   "nbconvert_exporter": "python",
   "pygments_lexer": "ipython3",
   "version": 3
  },
  "orig_nbformat": 2
 },
 "nbformat": 4,
 "nbformat_minor": 2,
 "cells": [
  {
   "cell_type": "markdown",
   "metadata": {},
   "source": [
    "# 문자열 다루기 기본\n",
    "\n",
    "[링크](https://programmers.co.kr/learn/courses/30/lessons/12918)\n",
    "\n",
    "<br>\n",
    "\n",
    "## 문제 설명\n",
    "문자열 s의 길이가 4 혹은 6이고, 숫자로만 구성돼있는지 확인해주는 함수, solution을 완성하세요. \n",
    "<br>예를 들어 s가 a234이면 False를 리턴하고 1234라면 True를 리턴하면 됩니다.\n",
    "\n",
    "<br>\n",
    "\n",
    "## 제한 사항\n",
    "- s는 길이 1 이상, 길이 8 이하인 문자열입니다.\n",
    "\n",
    "<br>\n",
    "\n",
    "## 입출력 예\n",
    "| s\t| return |\n",
    "| :-: | :-: |\n",
    "| a234 | False |\n",
    "| 1234 | True |"
   ]
  },
  {
   "cell_type": "code",
   "execution_count": null,
   "metadata": {},
   "outputs": [],
   "source": [
    "def solution(s):\n",
    "    if len(s) == 4 or len(s) == 6:\n",
    "        return s.isdigit()\n",
    "    else:\n",
    "        return False"
   ]
  },
  {
   "cell_type": "markdown",
   "metadata": {},
   "source": [
    "<img src='https://imgur.com/j0mPxVa.png' width='70%' align='left'>"
   ]
  }
 ]
}