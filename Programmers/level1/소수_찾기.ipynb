{
 "metadata": {
  "language_info": {
   "codemirror_mode": {
    "name": "ipython",
    "version": 3
   },
   "file_extension": ".py",
   "mimetype": "text/x-python",
   "name": "python",
   "nbconvert_exporter": "python",
   "pygments_lexer": "ipython3",
   "version": 3
  },
  "orig_nbformat": 2
 },
 "nbformat": 4,
 "nbformat_minor": 2,
 "cells": [
  {
   "cell_type": "markdown",
   "metadata": {},
   "source": [
    "# 소수 찾기\n",
    "\n",
    "[링크](https://programmers.co.kr/learn/courses/30/lessons/12921)\n",
    "\n",
    "<br>\n",
    "\n",
    "## 문제 설명\n",
    "1부터 입력받은 숫자 n 사이에 있는 소수의 개수를 반환하는 함수, solution을 만들어 보세요.\n",
    "<br>소수는 1과 자기 자신으로만 나누어지는 수를 의미합니다.\n",
    "<br>(1은 소수가 아닙니다.)\n",
    "\n",
    "<br>\n",
    "\n",
    "## 제한 조건\n",
    "- n은 2이상 1000000이하의 자연수입니다.\n",
    "\n",
    "<br>\n",
    "\n",
    "## 입출력 예\n",
    "| n\t| result |\n",
    "| :-: | :-: |\n",
    "| 10 |4 |\n",
    "| 5\t| 3 |\n",
    "\n",
    "<br>\n",
    "\n",
    "## 입출력 예 설명\n",
    "\n",
    "### 입출력 예 #1\n",
    "\n",
    "1부터 10 사이의 소수는 `[2,3,5,7]` 4개가 존재하므로 4를 반환\n",
    "\n",
    "### 입출력 예 #2\n",
    "\n",
    "1부터 5 사이의 소수는 `[2,3,5]` 3개가 존재하므로 3를 반환"
   ]
  },
  {
   "cell_type": "code",
   "execution_count": null,
   "metadata": {},
   "outputs": [],
   "source": [
    "def solution(n):\n",
    "    prime_list = [2]\n",
    "    for c in range(3, n+1, 2):\n",
    "        check = True\n",
    "        for p in prime_list:\n",
    "            if p <= c ** 0.5:\n",
    "                if c % p == 0:\n",
    "                    check = False\n",
    "                    break\n",
    "            else:\n",
    "                break\n",
    "        if check:\n",
    "            prime_list.append(c)\n",
    "    return len(prime_list)"
   ]
  },
  {
   "cell_type": "markdown",
   "metadata": {},
   "source": [
    "<img src='https://imgur.com/Ux6JQuT.png' width='70%' align='left'>"
   ]
  },
  {
   "cell_type": "markdown",
   "metadata": {},
   "source": [
    "# Best Solution"
   ]
  },
  {
   "cell_type": "code",
   "execution_count": null,
   "metadata": {},
   "outputs": [],
   "source": [
    "def solution(n):\n",
    "    primt_list = [False, False] + [True] * (n-1)\n",
    "    for i in range(2, int(n**0.5+1)):\n",
    "        if primt_list[i]:\n",
    "            primt_list[i*2::i] = [False] * ((n-i)//i)\n",
    "    return sum(primt_list)"
   ]
  }
 ]
}