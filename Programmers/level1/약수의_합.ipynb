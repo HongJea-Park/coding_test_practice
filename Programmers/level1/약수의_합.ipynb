{
 "metadata": {
  "language_info": {
   "codemirror_mode": {
    "name": "ipython",
    "version": 3
   },
   "file_extension": ".py",
   "mimetype": "text/x-python",
   "name": "python",
   "nbconvert_exporter": "python",
   "pygments_lexer": "ipython3",
   "version": 3
  },
  "orig_nbformat": 2
 },
 "nbformat": 4,
 "nbformat_minor": 2,
 "cells": [
  {
   "cell_type": "markdown",
   "metadata": {},
   "source": [
    "# 약수의 합\n",
    "\n",
    "[링크](https://programmers.co.kr/learn/courses/30/lessons/12928)\n",
    "\n",
    "<br>\n",
    "\n",
    "## 문제 설명\n",
    "정수 n을 입력받아 n의 약수를 모두 더한 값을 리턴하는 함수, solution을 완성해주세요.\n",
    "\n",
    "<br>\n",
    "\n",
    "## 제한 사항\n",
    "- n은 0 이상 3000이하인 정수입니다.\n",
    "\n",
    "<br>\n",
    "\n",
    "## 입출력 예\n",
    "| n\t| return |\n",
    "| :-: | :-: |\n",
    "|12 | 28 |\n",
    "| 5 | 6 |\n",
    "\n",
    "<br>\n",
    "\n",
    "## 입출력 예 설명\n",
    "\n",
    "### 입출력 예 #1\n",
    "\n",
    "12의 약수는 1, 2, 3, 4, 6, 12입니다. 이를 모두 더하면 28입니다.\n",
    "\n",
    "### 입출력 예 #2\n",
    "\n",
    "5의 약수는 1, 5입니다. 이를 모두 더하면 6입니다."
   ]
  },
  {
   "cell_type": "code",
   "execution_count": null,
   "metadata": {},
   "outputs": [],
   "source": [
    "def solution(n):\n",
    "    divided = []\n",
    "    for i in range(1, n//2+1):\n",
    "        if n % i == 0:\n",
    "            divided.append(i)\n",
    "    divided.append(n)\n",
    "    return sum(divided)"
   ]
  },
  {
   "cell_type": "markdown",
   "metadata": {},
   "source": [
    "<img src='https://imgur.com/SaHeLaB.png' width='70%' align='left'>"
   ]
  }
 ]
}