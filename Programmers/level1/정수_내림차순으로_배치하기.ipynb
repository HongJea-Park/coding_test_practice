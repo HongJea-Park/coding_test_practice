{
 "metadata": {
  "language_info": {
   "codemirror_mode": {
    "name": "ipython",
    "version": 3
   },
   "file_extension": ".py",
   "mimetype": "text/x-python",
   "name": "python",
   "nbconvert_exporter": "python",
   "pygments_lexer": "ipython3",
   "version": 3
  },
  "orig_nbformat": 2
 },
 "nbformat": 4,
 "nbformat_minor": 2,
 "cells": [
  {
   "cell_type": "markdown",
   "metadata": {},
   "source": [
    "# 정수 내림차순으로 배치하기\n",
    "\n",
    "[링크](https://programmers.co.kr/learn/courses/30/lessons/12933)\n",
    "\n",
    "<br>\n",
    "\n",
    "## 문제 설명\n",
    "함수 solution은 정수 n을 매개변수로 입력받습니다. \n",
    "<br>n의 각 자릿수를 큰것부터 작은 순으로 정렬한 새로운 정수를 리턴해주세요. \n",
    "<br>예를들어 n이 `118372`면 `873211`을 리턴하면 됩니다.\n",
    "\n",
    "<br>\n",
    "\n",
    "## 제한 조건\n",
    "- n은 1이상 8000000000 이하인 자연수입니다.\n",
    "\n",
    "<br>\n",
    "\n",
    "## 입출력 예\n",
    "| n | return |\n",
    "| :-: | :-: |\n",
    "| `118372` | `873211` |\n"
   ]
  },
  {
   "cell_type": "code",
   "execution_count": null,
   "metadata": {},
   "outputs": [],
   "source": [
    "def solution(n):\n",
    "    return int(''.join(sorted([s for s in str(n)], reverse=True)))"
   ]
  },
  {
   "cell_type": "markdown",
   "metadata": {},
   "source": [
    "<img src='https://imgur.com/aHrV90N.png' width='70%' align='left'>"
   ]
  }
 ]
}