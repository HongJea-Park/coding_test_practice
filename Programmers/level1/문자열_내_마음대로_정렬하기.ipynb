{
 "metadata": {
  "language_info": {
   "codemirror_mode": {
    "name": "ipython",
    "version": 3
   },
   "file_extension": ".py",
   "mimetype": "text/x-python",
   "name": "python",
   "nbconvert_exporter": "python",
   "pygments_lexer": "ipython3",
   "version": 3
  },
  "orig_nbformat": 2
 },
 "nbformat": 4,
 "nbformat_minor": 2,
 "cells": [
  {
   "cell_type": "markdown",
   "metadata": {},
   "source": [
    "# 문자열 내 마음대로 정렬하기\n",
    "\n",
    "[링크](https://programmers.co.kr/learn/courses/30/lessons/12915)\n",
    "\n",
    "<br>\n",
    "\n",
    "## 문제 설명\n",
    "문자열로 구성된 리스트 strings와, 정수 n이 주어졌을 때, 각 문자열의 인덱스 n번째 글자를 기준으로 오름차순 정렬하려 합니다. \n",
    "<br>예를 들어 strings가 `[sun, bed, car]`이고 n이 1이면 각 단어의 인덱스 1의 문자 `[u, e, a]`로 strings를 정렬합니다.\n",
    "\n",
    "<br>\n",
    "\n",
    "## 제한 조건\n",
    "- strings는 길이 1 이상, 50이하인 배열입니다.\n",
    "- strings의 원소는 소문자 알파벳으로 이루어져 있습니다.\n",
    "- strings의 원소는 길이 1 이상, 100이하인 문자열입니다.\n",
    "- 모든 strings의 원소의 길이는 n보다 큽니다.\n",
    "- 인덱스 1의 문자가 같은 문자열이 여럿 일 경우, 사전순으로 앞선 문자열이 앞쪽에 위치합니다.\n",
    "\n",
    "<br>\n",
    "\n",
    "## 입출력 예\n",
    "| strings |\tn |\treturn |\n",
    "| :-: | :-: | :-: |\n",
    "| `[sun, bed, car]` | 1 | `[car, bed, sun]`|\n",
    "| `[abce, abcd, cdx]` |\t2 |\t`[abcd, abce, cdx]` |\n",
    "\n",
    "<br>\n",
    "\n",
    "## 입출력 예 설명\n",
    "\n",
    "### 입출력 예 1\n",
    "\n",
    "`[sun, bed, car]`의 1번째 인덱스 값은 각각 `[u, e, a]` 입니다. \n",
    "<br>이를 기준으로 strings를 정렬하면 `[car, bed, sun]` 입니다.\n",
    "\n",
    "### 입출력 예 2\n",
    "\n",
    "`[abce와 abcd, cdx]`의 2번째 인덱스 값은 `[c, c, x]`입니다. 따라서 정렬 후에는 cdx가 가장 뒤에 위치합니다. \n",
    "<br>abce와 abcd는 사전순으로 정렬하면 abcd가 우선하므로, 답은 `[abcd, abce, cdx]` 입니다."
   ]
  },
  {
   "cell_type": "code",
   "execution_count": null,
   "metadata": {},
   "outputs": [],
   "source": [
    "def solution(strings, n):\n",
    "    return sorted(sorted(strings), key=lambda x: x[n])"
   ]
  },
  {
   "cell_type": "markdown",
   "metadata": {},
   "source": [
    "<img src='https://imgur.com/7jHw5Ce.png' width='70%' align='left'>"
   ]
  }
 ]
}