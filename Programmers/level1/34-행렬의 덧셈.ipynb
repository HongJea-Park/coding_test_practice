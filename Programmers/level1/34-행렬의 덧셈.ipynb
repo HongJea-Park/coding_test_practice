{
 "metadata": {
  "language_info": {
   "codemirror_mode": {
    "name": "ipython",
    "version": 3
   },
   "file_extension": ".py",
   "mimetype": "text/x-python",
   "name": "python",
   "nbconvert_exporter": "python",
   "pygments_lexer": "ipython3",
   "version": 3
  },
  "orig_nbformat": 2
 },
 "nbformat": 4,
 "nbformat_minor": 2,
 "cells": [
  {
   "cell_type": "markdown",
   "metadata": {},
   "source": [
    "# 행렬의 덧셈\n",
    "\n",
    "[링크](https://programmers.co.kr/learn/courses/30/lessons/12950)\n",
    "\n",
    "<br>\n",
    "\n",
    "## 문제 설명\n",
    "행렬의 덧셈은 행과 열의 크기가 같은 두 행렬의 같은 행, 같은 열의 값을 서로 더한 결과가 됩니다. \n",
    "<br>2개의 행렬 arr1과 arr2를 입력받아, 행렬 덧셈의 결과를 반환하는 함수, solution을 완성해주세요.\n",
    "\n",
    "<br>\n",
    "\n",
    "## 제한 조건\n",
    "- 행렬 arr1, arr2의 행과 열의 길이는 500을 넘지 않습니다.\n",
    "\n",
    "<br>\n",
    "\n",
    "## 입출력 예\n",
    "| arr1 | arr2 |\treturn |\n",
    "| :-: | :-: | :-: |\n",
    "| `[[1,2],[2,3]]` |\t`[[3,4],[5,6]]` | `[[4,6],[7,9]]` |\n",
    "| `[[1],[2]]` |\t`[[3],[4]]` | `[[4],[6]]` |\n"
   ]
  },
  {
   "cell_type": "code",
   "execution_count": null,
   "metadata": {},
   "outputs": [],
   "source": [
    "def solution(arr1, arr2):\n",
    "    matrix = []\n",
    "    for row1, row2 in (zip(arr1, arr2)):\n",
    "        sum_row = []\n",
    "        for e1, e2 in zip(row1, row2):\n",
    "            sum_row.append(e1+e2)\n",
    "        matrix.append(sum_row)\n",
    "    return matrix"
   ]
  },
  {
   "cell_type": "markdown",
   "metadata": {},
   "source": [
    "<img src='https://imgur.com/jBpC5BD.png' width='70%' align='left'>"
   ]
  }
 ]
}