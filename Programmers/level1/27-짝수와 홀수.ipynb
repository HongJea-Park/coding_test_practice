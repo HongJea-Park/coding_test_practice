{
 "metadata": {
  "language_info": {
   "codemirror_mode": {
    "name": "ipython",
    "version": 3
   },
   "file_extension": ".py",
   "mimetype": "text/x-python",
   "name": "python",
   "nbconvert_exporter": "python",
   "pygments_lexer": "ipython3",
   "version": 3
  },
  "orig_nbformat": 2
 },
 "nbformat": 4,
 "nbformat_minor": 2,
 "cells": [
  {
   "cell_type": "markdown",
   "metadata": {},
   "source": [
    "# 짝수와 홀수\n",
    "\n",
    "[링크](https://programmers.co.kr/learn/courses/30/lessons/12937)\n",
    "\n",
    "<br>\n",
    "\n",
    "## 문제 설명\n",
    "정수 num이 짝수일 경우 Even을 반환하고 홀수인 경우 Odd를 반환하는 함수, solution을 완성해주세요.\n",
    "\n",
    "<br>\n",
    "\n",
    "## 제한 조건\n",
    "- num은 int 범위의 정수입니다.\n",
    "- 0은 짝수입니다.\n",
    "\n",
    "<br>\n",
    "\n",
    "## 입출력 예\n",
    "| num |\treturn |\n",
    "| :-: | :-: |\n",
    "| 3 | `Odd` |\n",
    "| 4 | `Even` |\n"
   ]
  },
  {
   "cell_type": "code",
   "execution_count": null,
   "metadata": {},
   "outputs": [],
   "source": [
    "def solution(num):\n",
    "    return 'Even' if num % 2 == 0 else 'Odd'"
   ]
  },
  {
   "cell_type": "markdown",
   "metadata": {},
   "source": [
    "<img src='https://imgur.com/HfX0Ssn.png' width='70%' align='left'>"
   ]
  }
 ]
}