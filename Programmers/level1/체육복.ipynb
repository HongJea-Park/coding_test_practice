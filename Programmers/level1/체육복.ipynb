{
 "cells": [
  {
   "cell_type": "markdown",
   "metadata": {},
   "source": [
    "# 체육복\n",
    "\n",
    "[문제 링크](https://programmers.co.kr/learn/courses/30/lessons/42862)\n",
    "\n",
    "### 문제 설명\n",
    "\n",
    "점심시간에 도둑이 들어, 일부 학생이 체육복을 도난당했습니다. 다행히 여벌 체육복이 있는 학생이 이들에게 체육복을 빌려주려 합니다. 학생들의 번호는 체격 순으로 매겨져 있어, 바로 앞번호의 학생이나 바로 뒷번호의 학생에게만 체육복을 빌려줄 수 있습니다. 예를 들어, 4번 학생은 3번 학생이나 5번 학생에게만 체육복을 빌려줄 수 있습니다. 체육복이 없으면 수업을 들을 수 없기 때문에 체육복을 적절히 빌려 최대한 많은 학생이 체육수업을 들어야 합니다.\n",
    "전체 학생의 수 n, 체육복을 도난당한 학생들의 번호가 담긴 배열 lost, 여벌의 체육복을 가져온 학생들의 번호가 담긴 배열 reserve가 매개변수로 주어질 때, 체육수업을 들을 수 있는 학생의 최댓값을 return 하도록 solution 함수를 작성해주세요.\n",
    "\n",
    "### 제한사항\n",
    "\n",
    "<ul>\n",
    "    <li> 전체 학생의 수는 2명 이상 30명 이하입니다. </li>\n",
    "    <li> 체육복을 도난당한 학생의 수는 1명 이상 n명 이하이고 중복되는 번호는 없습니다. </li>\n",
    "    <li> 여벌의 체육복을 가져온 학생의 수는 1명 이상 n명 이하이고 중복되는 번호는 없습니다. </li>\n",
    "    <li> 여벌 체육복이 있는 학생만 다른 학생에게 체육복을 빌려줄 수 있습니다. </li>\n",
    "    <li> 여벌 체육복을 가져온 학생이 체육복을 도난당했을 수 있습니다. 이때 이 학생은 체육복을 하나만 도난당했다고 가정하며, 남은 체육복이 하나이기에 다른 학생에게는 체육복을 빌려줄 수 없습니다. </li>\n",
    "</ul>\n",
    "\n",
    "### 입출력 예\n",
    "\n",
    "| n | lost | reserve | return |\n",
    "| --- | --- | --- | --- |\n",
    "| 5 | `[2, 4]` | `[1, 3, 5]` | 5 |\n",
    "| 5 | `[2, 4]` | `[3]` | 4 |\n",
    "| 3 | `[3]` | `[1]` | 2 |\n",
    "\n",
    "### 입출력 예 설명\n",
    "\n",
    "<ol>\n",
    "    <li> 예제 #1 <br>\n",
    "    1번 학생이 2번 학생에게 체육복을 빌려주고, 3번 학생이나 5번 학생이 4번 학생에게 체육복을 빌려주면 학생 5명이 체육수업을 들을 수 있습니다.\n",
    "    </li>\n",
    "    <li> 예제 #2 <br>\n",
    "    3번 학생이 2번 학생이나 4번 학생에게 체육복을 빌려주면 학생 4명이 체육수업을 들을 수 있습니다.\n",
    "    </li>\n",
    "</ol>\n"
   ]
  },
  {
   "cell_type": "code",
   "execution_count": 1,
   "metadata": {},
   "outputs": [],
   "source": [
    "from collections import Counter\n",
    "\n",
    "\n",
    "def solution(n, lost, reserve):\n",
    "\n",
    "    count = Counter([i for i in range(1, n+1)])\n",
    "\n",
    "    for s in lost:\n",
    "        count[s] -= 1\n",
    "\n",
    "    for s in reserve:\n",
    "        count[s] += 1\n",
    "\n",
    "    for s in reserve:\n",
    "        if count[s] == 2:\n",
    "            if s > 1 and count[s-1] == 0:\n",
    "                count[s-1] += 1\n",
    "                count[s] -= 1\n",
    "            elif s < n and count[s+1] == 0:\n",
    "                count[s+1] += 1\n",
    "                count[s] -= 1\n",
    "\n",
    "    answer = len([key for key, value in count.items() if value > 0])\n",
    "\n",
    "    return answer"
   ]
  },
  {
   "cell_type": "code",
   "execution_count": 2,
   "metadata": {
    "tags": []
   },
   "outputs": [
    {
     "output_type": "stream",
     "name": "stdout",
     "text": "5\n"
    }
   ],
   "source": [
    "n, lost, reserve = 5, [2, 4], [1, 3, 5]\n",
    "print(solution(n, lost, reserve))"
   ]
  },
  {
   "cell_type": "code",
   "execution_count": 3,
   "metadata": {
    "tags": []
   },
   "outputs": [
    {
     "output_type": "stream",
     "name": "stdout",
     "text": "4\n"
    }
   ],
   "source": [
    "n, lost, reserve = 5, [2, 4], [3]\n",
    "print(solution(n, lost, reserve))"
   ]
  },
  {
   "cell_type": "code",
   "execution_count": 4,
   "metadata": {
    "tags": []
   },
   "outputs": [
    {
     "output_type": "stream",
     "name": "stdout",
     "text": "2\n"
    }
   ],
   "source": [
    "n, lost, reserve = 3, [3], [1]\n",
    "print(solution(n, lost, reserve))"
   ]
  },
  {
   "cell_type": "code",
   "execution_count": 5,
   "metadata": {},
   "outputs": [],
   "source": [
    "def solution(n, lost, reserve):\n",
    "\n",
    "    has_reserve = set(reserve) - set(lost)\n",
    "    has_nothing = set(lost) - set(reserve)\n",
    "\n",
    "    for s in has_reserve:\n",
    "        if s-1 in has_nothing:\n",
    "            has_nothing.remove(s-1)\n",
    "        elif s+1 in has_nothing:\n",
    "            has_nothing.remove(s+1)\n",
    "\n",
    "    answer = n - len(has_nothing)\n",
    "\n",
    "    return answer"
   ]
  },
  {
   "cell_type": "code",
   "execution_count": 6,
   "metadata": {
    "tags": []
   },
   "outputs": [
    {
     "output_type": "stream",
     "name": "stdout",
     "text": "5\n"
    }
   ],
   "source": [
    "n, lost, reserve = 5, [2, 4], [1, 3, 5]\n",
    "print(solution(n, lost, reserve))"
   ]
  },
  {
   "cell_type": "code",
   "execution_count": 7,
   "metadata": {
    "tags": []
   },
   "outputs": [
    {
     "output_type": "stream",
     "name": "stdout",
     "text": "4\n"
    }
   ],
   "source": [
    "n, lost, reserve = 5, [2, 4], [3]\n",
    "print(solution(n, lost, reserve))"
   ]
  },
  {
   "cell_type": "code",
   "execution_count": 8,
   "metadata": {
    "tags": []
   },
   "outputs": [
    {
     "output_type": "stream",
     "name": "stdout",
     "text": "2\n"
    }
   ],
   "source": [
    "n, lost, reserve = 3, [3], [1]\n",
    "print(solution(n, lost, reserve))"
   ]
  }
 ],
 "metadata": {
  "kernelspec": {
   "display_name": "Python 3",
   "language": "python",
   "name": "python3"
  },
  "language_info": {
   "codemirror_mode": {
    "name": "ipython",
    "version": 3
   },
   "file_extension": ".py",
   "mimetype": "text/x-python",
   "name": "python",
   "nbconvert_exporter": "python",
   "pygments_lexer": "ipython3",
   "version": "3.7.6"
  }
 },
 "nbformat": 4,
 "nbformat_minor": 2
}