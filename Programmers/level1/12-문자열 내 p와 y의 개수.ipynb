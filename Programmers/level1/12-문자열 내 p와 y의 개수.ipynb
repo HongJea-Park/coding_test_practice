{
 "metadata": {
  "language_info": {
   "codemirror_mode": {
    "name": "ipython",
    "version": 3
   },
   "file_extension": ".py",
   "mimetype": "text/x-python",
   "name": "python",
   "nbconvert_exporter": "python",
   "pygments_lexer": "ipython3",
   "version": 3
  },
  "orig_nbformat": 2
 },
 "nbformat": 4,
 "nbformat_minor": 2,
 "cells": [
  {
   "cell_type": "markdown",
   "metadata": {},
   "source": [
    "# 문자열 내 p와 y의 개수\n",
    "\n",
    "[링크](https://programmers.co.kr/learn/courses/30/lessons/12916)\n",
    "\n",
    "### 문제 설명\n",
    "대문자와 소문자가 섞여있는 문자열 s가 주어집니다. \n",
    "<br>s에 'p'의 개수와 'y'의 개수를 비교해 같으면 `True`, 다르면 `False`를 return 하는 solution를 완성하세요. \n",
    "<br>'p', 'y' 모두 하나도 없는 경우는 항상 `True`를 리턴합니다. \n",
    "<br>단, 개수를 비교할 때 대문자와 소문자는 구별하지 않습니다.\n",
    "<br>\n",
    "<br>예를 들어 s가 pPoooyY면 `True`를 return하고 Pyy라면 `False`를 return합니다.\n",
    "\n",
    "### 제한사항\n",
    "- 문자열 s의 길이 : 50 이하의 자연수\n",
    "- 문자열 s는 알파벳으로만 이루어져 있습니다.\n",
    "\n",
    "### 입출력 예\n",
    "| s | answer |\n",
    "| :-: | :-: |\n",
    "| pPoooyY | `True` |\n",
    "| Pyy |\t`False` |\n",
    "\n",
    "### 입출력 예 설명\n",
    "- 입출력 예 #1\n",
    "    <br> 'p'의 개수 2개, 'y'의 개수 2개로 같으므로 `True`를 return 합니다.\n",
    "- 입출력 예 #2\n",
    "    <br> 'p'의 개수 1개, 'y'의 개수 2개로 다르므로 `False`를 return 합니다."
   ]
  },
  {
   "cell_type": "code",
   "execution_count": null,
   "metadata": {},
   "outputs": [],
   "source": [
    "def solution(s):\n",
    "    s = s.lower()\n",
    "    if s.count('p') == s.count('y'):\n",
    "        return True\n",
    "    else:\n",
    "        return False"
   ]
  },
  {
   "cell_type": "markdown",
   "metadata": {},
   "source": [
    "<img src='https://imgur.com/OujoK3z.png' width='70%' aling='left'>"
   ]
  }
 ]
}