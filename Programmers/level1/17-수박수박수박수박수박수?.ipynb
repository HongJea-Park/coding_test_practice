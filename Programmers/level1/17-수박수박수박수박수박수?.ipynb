{
 "metadata": {
  "language_info": {
   "codemirror_mode": {
    "name": "ipython",
    "version": 3
   },
   "file_extension": ".py",
   "mimetype": "text/x-python",
   "name": "python",
   "nbconvert_exporter": "python",
   "pygments_lexer": "ipython3",
   "version": 3
  },
  "orig_nbformat": 2
 },
 "nbformat": 4,
 "nbformat_minor": 2,
 "cells": [
  {
   "cell_type": "markdown",
   "metadata": {},
   "source": [
    "# 수박수박수박수박수박수?\n",
    "\n",
    "[링크](https://programmers.co.kr/learn/courses/30/lessons/12922)\n",
    "\n",
    "### 문제 설명\n",
    "길이가 n이고, 수박수박수박수....와 같은 패턴을 유지하는 문자열을 리턴하는 함수, solution을 완성하세요. \n",
    "<br>예를들어 n이 4이면 수박수박을 리턴하고 3이라면 수박수를 리턴하면 됩니다.\n",
    "\n",
    "### 제한 조건\n",
    "- n은 길이 10,000이하인 자연수입니다.\n",
    "\n",
    "### 입출력 예\n",
    "| n\t| return |\n",
    "| :-: | :-: |\n",
    "| 3\t| `'수박수'`|\n",
    "| 4\t| `'수박수박'` |"
   ]
  },
  {
   "cell_type": "code",
   "execution_count": null,
   "metadata": {},
   "outputs": [],
   "source": [
    "def solution(n):\n",
    "    q, r = divmod(n, 2)\n",
    "    return '수박'*q + '수'*r"
   ]
  },
  {
   "cell_type": "markdown",
   "metadata": {},
   "source": [
    "<img src='https://imgur.com/I19Be2m.png' width='70%' align='left'>"
   ]
  }
 ]
}