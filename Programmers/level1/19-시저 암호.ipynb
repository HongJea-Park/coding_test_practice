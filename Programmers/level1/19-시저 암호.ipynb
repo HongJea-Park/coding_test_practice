{
 "metadata": {
  "language_info": {
   "codemirror_mode": {
    "name": "ipython",
    "version": 3
   },
   "file_extension": ".py",
   "mimetype": "text/x-python",
   "name": "python",
   "nbconvert_exporter": "python",
   "pygments_lexer": "ipython3",
   "version": 3
  },
  "orig_nbformat": 2
 },
 "nbformat": 4,
 "nbformat_minor": 2,
 "cells": [
  {
   "cell_type": "markdown",
   "metadata": {},
   "source": [
    "# 시저 암호\n",
    "\n",
    "[링크](https://programmers.co.kr/learn/courses/30/lessons/12926)\n",
    "\n",
    "### 문제 설명\n",
    "어떤 문장의 각 알파벳을 일정한 거리만큼 밀어서 다른 알파벳으로 바꾸는 암호화 방식을 시저 암호라고 합니다. \n",
    "<br>예를 들어 AB는 1만큼 밀면 BC가 되고, 3만큼 밀면 DE가 됩니다. \n",
    "<br>z는 1만큼 밀면 a가 됩니다. \n",
    "<br>문자열 s와 거리 n을 입력받아 s를 n만큼 민 암호문을 만드는 함수, solution을 완성해 보세요.\n",
    "\n",
    "### 제한 조건\n",
    "- 공백은 아무리 밀어도 공백입니다.\n",
    "- s는 알파벳 소문자, 대문자, 공백으로만 이루어져 있습니다.\n",
    "- s의 길이는 8000이하입니다.\n",
    "- n은 1 이상, 25이하인 자연수입니다.\n",
    "\n",
    "### 입출력 예\n",
    "| s\t| n\t| result |\n",
    "| :-: | :-: | :-: |\n",
    "| `'AB'` | 1 | `'BC'` |\n",
    "| `'z'`\t| 1\t| `'a'` |\n",
    "| `'a B z'` | 4 | `'e F d'` |"
   ]
  },
  {
   "cell_type": "code",
   "execution_count": null,
   "metadata": {},
   "outputs": [],
   "source": [
    "import string\n",
    "\n",
    "\n",
    "lower = string.ascii_lowercase\n",
    "upper = string.ascii_uppercase\n",
    "lower_dict = dict([a, idx] for idx, a in enumerate(lower))\n",
    "upper_dict = dict([a, idx] for idx, a in enumerate(upper))\n",
    "le = len(lower)\n",
    "\n",
    "\n",
    "def solution(s, n):\n",
    "    answer = []\n",
    "    for char in s:\n",
    "        if char.isalpha():\n",
    "            if char.isupper():\n",
    "                answer.append(upper[(upper_dict[char]+n) % le])\n",
    "            else:\n",
    "                answer.append(lower[(lower_dict[char]+n) % le])\n",
    "        else:\n",
    "            answer.append(char)\n",
    "    return ''.join(answer)"
   ]
  },
  {
   "cell_type": "markdown",
   "metadata": {},
   "source": [
    "<img src='https://imgur.com/DE1BbBP.png' width='70%' align='left'>"
   ]
  }
 ]
}