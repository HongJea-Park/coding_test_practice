{
 "metadata": {
  "language_info": {
   "codemirror_mode": {
    "name": "ipython",
    "version": 3
   },
   "file_extension": ".py",
   "mimetype": "text/x-python",
   "name": "python",
   "nbconvert_exporter": "python",
   "pygments_lexer": "ipython3",
   "version": 3
  },
  "orig_nbformat": 2
 },
 "nbformat": 4,
 "nbformat_minor": 2,
 "cells": [
  {
   "cell_type": "markdown",
   "metadata": {},
   "source": [
    "# 최대공약수와 최소공배수\n",
    "\n",
    "[링크](https://programmers.co.kr/learn/courses/30/lessons/12940)\n",
    "\n",
    "<br>\n",
    "\n",
    "## 문제 설명\n",
    "두 수를 입력받아 두 수의 최대공약수와 최소공배수를 반환하는 함수, solution을 완성해 보세요. \n",
    "<br>배열의 맨 앞에 최대공약수, 그다음 최소공배수를 넣어 반환하면 됩니다. \n",
    "<br>예를 들어 두 수 3, 12의 최대공약수는 3, 최소공배수는 12이므로 `solution(3, 12)`는 `[3, 12]`를 반환해야 합니다.\n",
    "\n",
    "<br>\n",
    "\n",
    "## 제한 사항\n",
    "- 두 수는 1이상 1000000이하의 자연수입니다.\n",
    "\n",
    "<br>\n",
    "\n",
    "## 입출력 예\n",
    "| n | m\t| return |\n",
    "| :-: | :-: | :-: |\n",
    "| 3\t| 12 | `[3, 12]` |\n",
    "| 2\t| 5\t| `[1, 10]` |\n",
    "\n",
    "<br>\n",
    "\n",
    "## 입출력 예 설명\n",
    "\n",
    "### 입출력 예 #1\n",
    "\n",
    "위의 설명과 같습니다.\n",
    "\n",
    "### 입출력 예 #2\n",
    "\n",
    "자연수 2와 5의 최대공약수는 1, 최소공배수는 10이므로 [1, 10]을 리턴해야 합니다.\n",
    "\n"
   ]
  },
  {
   "cell_type": "code",
   "execution_count": null,
   "metadata": {},
   "outputs": [],
   "source": [
    "def solution(n, m):\n",
    "    product = n*m\n",
    "    n, m = min(n, m), max(n, m)\n",
    "    while n:\n",
    "        n, m = min(n, m%n), max(n, m%n)\n",
    "    return [m, product//m]"
   ]
  },
  {
   "cell_type": "markdown",
   "metadata": {},
   "source": [
    "<img src='https://imgur.com/LLMr7YR.png' width='70%' align='left'>"
   ]
  }
 ]
}