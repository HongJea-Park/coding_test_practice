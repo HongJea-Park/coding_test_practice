{
 "metadata": {
  "language_info": {
   "codemirror_mode": {
    "name": "ipython",
    "version": 3
   },
   "file_extension": ".py",
   "mimetype": "text/x-python",
   "name": "python",
   "nbconvert_exporter": "python",
   "pygments_lexer": "ipython3",
   "version": 3
  },
  "orig_nbformat": 2
 },
 "nbformat": 4,
 "nbformat_minor": 2,
 "cells": [
  {
   "cell_type": "markdown",
   "metadata": {},
   "source": [
    "# 직사각형 별찍기\n",
    "\n",
    "[링크](https://programmers.co.kr/learn/courses/30/lessons/12969)\n",
    "\n",
    "<br>\n",
    "\n",
    "## 문제 설명\n",
    "이 문제에는 표준 입력으로 두 개의 정수 n과 m이 주어집니다.\n",
    "<br>별(*) 문자를 이용해 가로의 길이가 n, 세로의 길이가 m인 직사각형 형태를 출력해보세요.\n",
    "\n",
    "<br>\n",
    "\n",
    "## 제한 조건\n",
    "- n과 m은 각각 1000 이하인 자연수입니다.\n",
    "\n",
    "<br>\n",
    "## 입력 예시\n",
    "\n",
    "`5 3`\n",
    "\n",
    "출력\n",
    "\n",
    "```\n",
    "*****\n",
    "*****\n",
    "*****\n",
    "```\n"
   ]
  },
  {
   "cell_type": "code",
   "execution_count": null,
   "metadata": {},
   "outputs": [],
   "source": [
    "a, b = map(int, input().strip().split(' '))\n",
    "for _ in range(b):\n",
    "    print('*'*a)"
   ]
  },
  {
   "cell_type": "markdown",
   "metadata": {},
   "source": [
    "<img src='https://imgur.com/8WwLNZP.png' width='70%' align='left'>"
   ]
  }
 ]
}