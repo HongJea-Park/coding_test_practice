{
 "metadata": {
  "language_info": {
   "codemirror_mode": {
    "name": "ipython",
    "version": 3
   },
   "file_extension": ".py",
   "mimetype": "text/x-python",
   "name": "python",
   "nbconvert_exporter": "python",
   "pygments_lexer": "ipython3",
   "version": 3
  },
  "orig_nbformat": 2
 },
 "nbformat": 4,
 "nbformat_minor": 2,
 "cells": [
  {
   "source": [
    "# 스킬트리\n",
    "\n",
    "[링크](https://programmers.co.kr/learn/courses/30/lessons/49993)\n",
    "\n",
    "<br>\n",
    "\n",
    "## 문제 설명\n",
    "\n",
    "선행 스킬이란 어떤 스킬을 배우기 전에 먼저 배워야 하는 스킬을 뜻합니다.<br>\n",
    "\n",
    "예를 들어 선행 스킬 순서가 `스파크 → 라이트닝 볼트 → 썬더`일때, 썬더를 배우려면 먼저 라이트닝 볼트를 배워야 하고, 라이트닝 볼트를 배우려면 먼저 스파크를 배워야 합니다. <br>\n",
    "\n",
    "위 순서에 없는 다른 스킬(힐링 등)은 순서에 상관없이 배울 수 있습니다. <br>\n",
    "\n",
    "따라서 `스파크 → 힐링 → 라이트닝 볼트 → 썬더`와 같은 스킬트리는 가능하지만, `썬더 → 스파크나 라이트닝 볼트 → 스파크 → 힐링 → 썬더`와 같은 스킬트리는 불가능합니다. <br>\n",
    "\n",
    "선행 스킬 순서 skill과 유저들이 만든 스킬트리1를 담은 배열 skill_trees가 매개변수로 주어질 때, 가능한 스킬트리 개수를 return 하는 solution 함수를 작성해주세요. <br>\n",
    "\n",
    "<br>\n",
    "\n",
    "## 제한 조건\n",
    "\n",
    "- 스킬은 알파벳 대문자로 표기하며, 모든 문자열은 알파벳 대문자로만 이루어져 있습니다.\n",
    "- 스킬 순서와 스킬트리는 문자열로 표기합니다.\n",
    "    - 예를 들어, `C → B → D` 라면 CBD로 표기합니다\n",
    "- 선행 스킬 순서 skill의 길이는 1 이상 26 이하이며, 스킬은 중복해 주어지지 않습니다.\n",
    "- skill_trees는 길이 1 이상 20 이하인 배열입니다.\n",
    "- skill_trees의 원소는 스킬을 나타내는 문자열입니다.\n",
    "    - skill_trees의 원소는 길이가 2 이상 26 이하인 문자열이며, 스킬이 중복해 주어지지 않습니다.\n",
    "\n",
    "<br>\n",
    "\n",
    "## 입출력 예\n",
    "| skill | skill_trees |\treturn |\n",
    "| :-: | :-: |\n",
    "| \"CBD\"\t| `[\"BACDE\", \"CBADF\", \"AECB\", \"BDA\"]` | 2 |\n",
    "\n",
    "<br>\n",
    "\n",
    "### 입출력 예 설명\n",
    "\n",
    "- BACDE: B 스킬을 배우기 전에 C 스킬을 먼저 배워야 합니다. 불가능한 스킬트립니다.\n",
    "- CBADF: 가능한 스킬트리입니다.\n",
    "- AECB: 가능한 스킬트리입니다.\n",
    "- BDA: B 스킬을 배우기 전에 C 스킬을 먼저 배워야 합니다. 불가능한 스킬트리입니다.\n"
   ],
   "cell_type": "markdown",
   "metadata": {}
  },
  {
   "source": [
    "# 풀이\n",
    "\n",
    "<br>\n",
    "\n",
    "문제 설명대로 `skill_trees`에 대해 스킬 중 선행스킬이 존재하는지 확인 후 존재하는 선행스킬을 `order` 변수를 저장한다. <br>\n",
    "이후 `order`가 존재하는 경우,\n",
    "\n",
    "1. 가장 먼저 등장하는 선행스킬이 존재하는지\n",
    "2. `skill` 내에 `order`가 존재하는지\n",
    "\n",
    "여부를 확인한다.\n",
    "<br>\n",
    "<br>"
   ],
   "cell_type": "markdown",
   "metadata": {}
  },
  {
   "cell_type": "code",
   "execution_count": null,
   "metadata": {},
   "outputs": [],
   "source": [
    "def solution(skill, skill_trees):\n",
    "    answer = 0\n",
    "    for tree in skill_trees:\n",
    "        order = ''.join([s for s in tree if s in skill])\n",
    "        if order:\n",
    "            if order[0] == skill[0] and order in skill:\n",
    "                answer += 1\n",
    "        else:\n",
    "            answer += 1\n",
    "    return answer"
   ]
  },
  {
   "source": [
    "<img src=\"https://i.imgur.com/LrBGArv.png\" align='left'>"
   ],
   "cell_type": "markdown",
   "metadata": {}
  }
 ]
}