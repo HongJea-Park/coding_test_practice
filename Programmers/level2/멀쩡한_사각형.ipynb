{
 "metadata": {
  "language_info": {
   "codemirror_mode": {
    "name": "ipython",
    "version": 3
   },
   "file_extension": ".py",
   "mimetype": "text/x-python",
   "name": "python",
   "nbconvert_exporter": "python",
   "pygments_lexer": "ipython3",
   "version": 3
  },
  "orig_nbformat": 2
 },
 "nbformat": 4,
 "nbformat_minor": 2,
 "cells": [
  {
   "source": [
    "# 멀쩡한 사각형\n",
    "\n",
    "[문제 링크](https://programmers.co.kr/learn/courses/30/lessons/62048)\n",
    "\n",
    "<br>\n",
    "\n",
    "## 문제 설명\n",
    "\n",
    "가로 길이가 Wcm, 세로 길이가 Hcm인 직사각형 종이가 있습니다. <br>\n",
    "종이에는 가로, 세로 방향과 평행하게 격자 형태로 선이 그어져 있으며, 모든 격자칸은 1cm x 1cm 크기입니다. <br>\n",
    "이 종이를 격자 선을 따라 1cm × 1cm의 정사각형으로 잘라 사용할 예정이었는데, 누군가가 이 종이를 대각선 꼭지점 2개를 잇는 방향으로 잘라 놓았습니다. <br>\n",
    "그러므로 현재 직사각형 종이는 크기가 같은 직각삼각형 2개로 나누어진 상태입니다. <br>\n",
    "새로운 종이를 구할 수 없는 상태이기 때문에, 이 종이에서 원래 종이의 가로, 세로 방향과 평행하게 1cm × 1cm로 잘라 사용할 수 있는 만큼만 사용하기로 하였습니다. <br>\n",
    "가로의 길이 W와 세로의 길이 H가 주어질 때, 사용할 수 있는 정사각형의 개수를 구하는 solution 함수를 완성해 주세요. <br>\n",
    "\n",
    "## 제한사항\n",
    "\n",
    "- W, H : 1억 이하의 자연수\n",
    "\n",
    "## 입출력 예\n",
    "\n",
    "| W\t| H\t| result |\n",
    "| :-: | :-: | :-: |\n",
    "| 8\t| 12 |\t80 |\n",
    "\n",
    "## 입출력 예 설명\n",
    "\n",
    "### 입출력 예 #1\n",
    "\n",
    "가로가 8, 세로가 12인 직사각형을 대각선 방향으로 자르면 총 16개 정사각형을 사용할 수 없게 됩니다. <br>\n",
    "원래 직사각형에서는 96개의 정사각형을 만들 수 있었으므로, 96 - 16 = 80 을 반환합니다. <br>\n",
    "\n",
    "<img src=\"https://grepp-programmers.s3.amazonaws.com/files/production/ee895b2cd9/567420db-20f4-4064-afc3-af54c4a46016.png\">\n"
   ],
   "cell_type": "markdown",
   "metadata": {}
  },
  {
   "source": [
    "# 풀이\n",
    "<br>\n",
    "삭제되는 사각형의 수는 (밑변+높이) - (밑변과 높이의 최대공약수) 가 된다.\n",
    "<br>\n",
    "<br>"
   ],
   "cell_type": "markdown",
   "metadata": {}
  },
  {
   "cell_type": "code",
   "execution_count": null,
   "metadata": {},
   "outputs": [],
   "source": [
    "def solution(w, h):\n",
    "    total = w*h\n",
    "    sum_ = w+h\n",
    "    w, h = min(w, h), max(w, h)\n",
    "    while w:\n",
    "        w, h = min(w, h%w), max(w, h%w)\n",
    "    return total - sum_ + h\n"
   ]
  },
  {
   "source": [
    "<img src=\"https://i.imgur.com/SiQ2B2J.png\">"
   ],
   "cell_type": "markdown",
   "metadata": {}
  }
 ]
}