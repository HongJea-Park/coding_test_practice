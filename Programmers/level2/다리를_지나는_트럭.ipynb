{
 "metadata": {
  "language_info": {
   "codemirror_mode": {
    "name": "ipython",
    "version": 3
   },
   "file_extension": ".py",
   "mimetype": "text/x-python",
   "name": "python",
   "nbconvert_exporter": "python",
   "pygments_lexer": "ipython3",
   "version": "3.7.6-final"
  },
  "orig_nbformat": 2,
  "kernelspec": {
   "name": "python3",
   "display_name": "Python 3.7.6 64-bit ('base': conda)",
   "metadata": {
    "interpreter": {
     "hash": "40d5d32362b92e9fa6f2bbc8b592a2ac94ac65eb8071a87f096870c3b258260c"
    }
   }
  }
 },
 "nbformat": 4,
 "nbformat_minor": 2,
 "cells": [
  {
   "source": [
    "# 다리를 지나는 트럭\n",
    "\n",
    "[문제 링크](https://programmers.co.kr/learn/courses/30/lessons/42583)\n",
    "\n",
    "<br>\n",
    "\n",
    "## 문제 설명\n",
    "\n",
    "트럭 여러 대가 강을 가로지르는 일 차선 다리를 정해진 순으로 건너려 합니다. <br>\n",
    "모든 트럭이 다리를 건너려면 최소 몇 초가 걸리는지 알아내야 합니다. <br>\n",
    "트럭은 1초에 1만큼 움직이며, 다리 길이는 bridge_length이고 다리는 무게 weight까지 견딥니다. <br>\n",
    "\n",
    "- 트럭이 다리에 완전히 오르지 않은 경우, 이 트럭의 무게는 고려하지 않습니다. <br>\n",
    "\n",
    "예를 들어, 길이가 2이고 10kg 무게를 견디는 다리가 있습니다. <br>\n",
    "무게가 `[7, 4, 5, 6]`kg인 트럭이 순서대로 최단 시간 안에 다리를 건너려면 다음과 같이 건너야 합니다. <br>\n",
    "\n",
    "| 경과 시간 |  다리를 지난 트럭 | 다리를 건너는 트럭 | 대기 트럭 |\n",
    "| :---: | :---: | :---: | :---: |\n",
    "| 0 | `[]` |\t`[]`\t| `[7,4,5,6]` |\n",
    "| 1~2 |\t`[]` |\t`[7]` |\t`[4,5,6]` |\n",
    "| 3\t| `[7]`\t| `[4]` |\t`[5,6]` |\n",
    "| 4\t| `[7]`\t| `[4,5]` |\t`[6]` |\n",
    "| 5\t| `[7,4]`\t| `[5]`\t| `[6]` |\n",
    "| 6~7 |\t`[7,4,5]`\t| `[6]`\t|`[]`|\n",
    "| 8 |\t`[7,4,5,6]` |\t`[]` |\t`[]` |\n",
    "<br>\n",
    "따라서, 모든 트럭이 다리를 지나려면 최소 8초가 걸립니다.\n",
    "\n",
    "solution 함수의 매개변수로 다리 길이 bridge_length, 다리가 견딜 수 있는 무게 weight, 트럭별 무게 truck_weights가 주어집니다. <br>\n",
    "이때 모든 트럭이 다리를 건너려면 최소 몇 초가 걸리는지 return 하도록 solution 함수를 완성하세요.\n",
    "\n",
    "## 제한 조건\n",
    "- bridge_length는 1 이상 10,000 이하입니다.\n",
    "- weight는 1 이상 10,000 이하입니다.\n",
    "- truck_weights의 길이는 1 이상 10,000 이하입니다.\n",
    "- 모든 트럭의 무게는 1 이상 weight 이하입니다.\n",
    "\n",
    "## 입출력 예\n",
    "| bridge_length |\tweight |\ttruck_weights | return |\n",
    "| :---: | :---: | :---: | :---: |\n",
    "| 2\t| 10 |\t`[7,4,5,6]` |\t8 |\n",
    "| 100 |\t100 |\t`[10]`\t| 101 |\n",
    "| 100 |\t100 |\t`[10,10,10,10,10,10,10,10,10,10]` | 110 |\n",
    "<br>\n",
    "\n",
    "[출처](http://icpckorea.org/2016/ONLINE/problem.pdf)\n",
    "\n",
    "※ 공지 - 2020년 4월 06일 테스트케이스가 추가되었습니다."
   ],
   "cell_type": "markdown",
   "metadata": {}
  },
  {
   "source": [
    "# 풀이\n",
    "<br>\n",
    "deque 자료구조를 활용하여 다리 위에 존재하는 트럭들의 무게를 저장(append)하고, 조건이 만족하면 제거(leftpop)\n",
    "<br>\n",
    "<br>"
   ],
   "cell_type": "markdown",
   "metadata": {}
  },
  {
   "cell_type": "code",
   "execution_count": null,
   "metadata": {},
   "outputs": [],
   "source": [
    "from collections import deque\n",
    "\n",
    "\n",
    "def solution(bridge_length, weight, truck_weights):\n",
    "    time = 0\n",
    "    sum_ = 0\n",
    "    on_bridge = deque([0])\n",
    "    truck_weights = deque(truck_weights)\n",
    "    while truck_weights or sum_ > 0:\n",
    "        if truck_weights and sum_ - on_bridge[0] + truck_weights[0] <= weight:\n",
    "            truck = truck_weights.popleft()\n",
    "            on_bridge.append(truck)\n",
    "            sum_ += truck\n",
    "        else:\n",
    "            on_bridge.append(0)\n",
    "        if len(on_bridge) == bridge_length+1:\n",
    "            sum_ -= on_bridge.popleft()\n",
    "        time += 1\n",
    "    return time"
   ]
  },
  {
   "source": [
    "<br>\n",
    "<img src='https://i.imgur.com/zzku9xs.png' width='30%' align='left'>"
   ],
   "cell_type": "markdown",
   "metadata": {}
  }
 ]
}