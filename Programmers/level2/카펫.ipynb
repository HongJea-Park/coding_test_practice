{
 "cells": [
  {
   "cell_type": "markdown",
   "metadata": {},
   "source": [
    "# 카펫문제\n",
    "[링크](https://programmers.co.kr/learn/courses/30/lessons/42842)\n",
    "\n",
    "Leo는 카펫을 사러 갔다가 아래 그림과 같이 중앙에는 노란색으로 칠해져 있고 테두리 1줄은 갈색으로 칠해져 있는 격자 모양 카펫을 봤습니다.<br><br>\n",
    "<img src=\"https://grepp-programmers.s3.ap-northeast-2.amazonaws.com/files/production/b1ebb809-f333-4df2-bc81-02682900dc2d/carpet.png\" width=\"20%\"><br><br>\n",
    "\n",
    "Leo는 집으로 돌아와서 아까 본 카펫의 노란색과 갈색으로 색칠된 격자의 개수는 기억했지만, 전체 카펫의 크기는 기억하지 못했습니다.<br>\n",
    "Leo가 본 카펫에서 갈색 격자의 수 brown, 노란색 격자의 수 yellow가 매개변수로 주어질 때 카펫의 가로, 세로 크기를 순서대로 배열에 담아 return 하도록 solution 함수를 작성해주세요.\n",
    "\n",
    "<br>\n",
    "\n",
    "\n",
    "| Brown | yellow | return |\n",
    "| :---: | :---: | :---: |\n",
    "| 10 | 2 | `[4, 3]` |\n",
    "| 8 | 1 | `[3, 3]` |\n",
    "| 24 | 24 | `[8, 6]` |"
   ]
  },
  {
   "source": [
    "# 풀이\n",
    "<br>\n",
    "기본적으로 반복문을 통해 답을 찾을 수도 있지만 조금만 생각해보면 반복문을 전혀 사용하지 않아도 솔루션을 찾을 수 있다.<br>\n",
    "가로와 세로의 길이를 \n",
    "\n",
    "$a, b$ \n",
    "\n",
    "라고 하면, 갈색 블록의 수는 다음과 같은 관계를 갖는다.\n",
    "\n",
    "$brown = 2a + 2b -4$\n",
    "\n",
    "<br>\n",
    "<br>\n",
    "이번에는 노란색 블록의 수는 다음과 같은 관계를 갖는다.<br>\n",
    "\n",
    "$yellow = (a-2)(b-2)$\n",
    "\n",
    "<br>\n",
    "위 식을 정리하면<br>\n",
    "<br>\n",
    "\n",
    "$a+b = \\displaystyle{brown+4 \\over 2}$\n",
    "\n",
    "$ab = yellow+2(a+b)-4$\n",
    "\n",
    "<br>\n",
    "문제에서 2개의 argument를 인자로 받기 때문에 연립 방정식을 풀면 a, b를 구할 수 있다. <br><br>\n",
    "\n",
    "$\\displaystyle{brown+4 \\over 2} = p$ , \n",
    "\n",
    "$yellow+2(a+b)-4 = q$ \n",
    "\n",
    "$b=p-a$ \n",
    "\n",
    "$ab = a(p-a) = -a^2 + ap = q$\n",
    "\n",
    "$\\therefore a^2-ap+q=0$\n",
    "\n",
    "위 2차 방정식의 해를 구하면 큰 값이 가로 길이, 작은 값이 세로 길이가 된다.<br><br>"
   ],
   "cell_type": "markdown",
   "metadata": {}
  },
  {
   "cell_type": "code",
   "execution_count": 1,
   "metadata": {},
   "outputs": [],
   "source": [
    "def solution(brown, yellow):\n",
    "    p = (brown+4) / 2\n",
    "    q = yellow + 2*p - 4\n",
    "    a = int(p + (p**2 - 4*q) ** 0.5) // 2\n",
    "    b = int(p - (p**2 - 4*q) ** 0.5) // 2\n",
    "    answer = [a, b]\n",
    "    return answer"
   ]
  },
  {
   "source": [
    "<img src=\"https://i.imgur.com/KpqLn7p.png\" width=\"30%\"><br><br>"
   ],
   "cell_type": "markdown",
   "metadata": {}
  }
 ],
 "metadata": {
  "language_info": {
   "codemirror_mode": {
    "name": "ipython",
    "version": 3
   },
   "file_extension": ".py",
   "mimetype": "text/x-python",
   "name": "python",
   "nbconvert_exporter": "python",
   "pygments_lexer": "ipython3",
   "version": 3
  },
  "orig_nbformat": 2,
  "kernelspec": {
   "name": "python_defaultSpec_1594885532936",
   "display_name": "Python 3.7.6 64-bit ('base': conda)"
  }
 },
 "nbformat": 4,
 "nbformat_minor": 2
}