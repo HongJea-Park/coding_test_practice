{
 "metadata": {
  "language_info": {
   "codemirror_mode": {
    "name": "ipython",
    "version": 3
   },
   "file_extension": ".py",
   "mimetype": "text/x-python",
   "name": "python",
   "nbconvert_exporter": "python",
   "pygments_lexer": "ipython3",
   "version": 3
  },
  "orig_nbformat": 2
 },
 "nbformat": 4,
 "nbformat_minor": 2,
 "cells": [
  {
   "source": [
    "# 기능개발\n",
    "\n",
    "[링크](https://programmers.co.kr/learn/courses/30/lessons/42586)\n",
    "\n",
    "<br>\n",
    "\n",
    "## 문제 설명\n",
    "\n",
    "프로그래머스 팀에서는 기능 개선 작업을 수행 중입니다. <br>\n",
    "\n",
    "각 기능은 진도가 100%일 때 서비스에 반영할 수 있습니다. <br>\n",
    "\n",
    "또, 각 기능의 개발속도는 모두 다르기 때문에 뒤에 있는 기능이 앞에 있는 기능보다 먼저 개발될 수 있고, 이때 뒤에 있는 기능은 앞에 있는 기능이 배포될 때 함께 배포됩니다. <br>\n",
    "\n",
    "먼저 배포되어야 하는 순서대로 작업의 진도가 적힌 정수 배열 `progresses`와 각 작업의 개발 속도가 적힌 정수 배열 `speeds`가 주어질 때<br>\n",
    "\n",
    "각 배포마다 몇 개의 기능이 배포되는지를 return 하도록 solution 함수를 완성하세요. <br>\n",
    "\n",
    "<br>\n",
    "\n",
    "## 제한 사항\n",
    "\n",
    "- 작업의 개수(`progresses`, `speeds`배열의 길이)는 100개 이하입니다.\n",
    "- 작업 진도는 100 미만의 자연수입니다.\n",
    "- 작업 속도는 100 이하의 자연수입니다.\n",
    "- 배포는 하루에 한 번만 할 수 있으며, 하루의 끝에 이루어진다고 가정합니다. 예를 들어 진도율이 95%인 작업의 개발 속도가 하루에 4%라면 배포는 2일 뒤에 이루어집니다.\n",
    "\n",
    "<br>\n",
    "\n",
    "## 입출력 예\n",
    "\n",
    "| progresses | speeds | return |\n",
    "| :-: | :-: | :-: |\n",
    "| `[93, 30, 55]` |\t`[1, 30, 5]` |\t`[2, 1]` |\n",
    "| `[95, 90, 99, 99, 80, 99]` | `[1, 1, 1, 1, 1, 1]` | `[1, 3, 2]` |\n",
    "\n",
    "<br>\n",
    "\n",
    "## 입출력 예 설명\n",
    "\n",
    "### 입출력 예 1\n",
    "\n",
    "첫 번째 기능은 93% 완료되어 있고 하루에 1%씩 작업이 가능하므로 7일간 작업 후 배포가 가능합니다. <br>\n",
    "두 번째 기능은 30%가 완료되어 있고 하루에 30%씩 작업이 가능하므로 3일간 작업 후 배포가 가능합니다. <br>\n",
    "하지만 이전 첫 번째 기능이 아직 완성된 상태가 아니기 때문에 첫 번째 기능이 배포되는 7일째 배포됩니다. <br>\n",
    "세 번째 기능은 55%가 완료되어 있고 하루에 5%씩 작업이 가능하므로 9일간 작업 후 배포가 가능합니다. <br>\n",
    "\n",
    "따라서 7일째에 2개의 기능, 9일째에 1개의 기능이 배포됩니다.\n",
    "\n",
    "<br>\n",
    "\n",
    "### 입출력 예 2\n",
    "\n",
    "모든 기능이 하루에 1%씩 작업이 가능하므로, 작업이 끝나기까지 남은 일수는 각각 5일, 10일, 1일, 1일, 20일, 1일입니다. <br>\n",
    "어떤 기능이 먼저 완성되었더라도 앞에 있는 모든 기능이 완성되지 않으면 배포가 불가능합니다. <br>\n",
    "\n",
    "따라서 5일째에 1개의 기능, 10일째에 3개의 기능, 20일째에 2개의 기능이 배포됩니다.\n",
    "\n",
    "<br>\n",
    "\n",
    "※ 공지 - 2020년 7월 14일 테스트케이스가 추가되었습니다.\n",
    "\n"
   ],
   "cell_type": "markdown",
   "metadata": {}
  },
  {
   "source": [
    "# 풀이\n",
    "<br>\n",
    "\n",
    "`time`이라는 list에 각 기능별로 작업이 완료되는 시간을 기록해놓는다. <br>\n",
    "이후 앞의 기능 개발이 완료되었는지 확인 후, 완료가 안됐으면 한번에 배포할 수 있도록 수를 더해준다.\n",
    "\n",
    "<br>\n",
    "<br>"
   ],
   "cell_type": "markdown",
   "metadata": {}
  },
  {
   "cell_type": "code",
   "execution_count": null,
   "metadata": {},
   "outputs": [],
   "source": [
    "from math import ceil\n",
    "from collections import deque\n",
    "\n",
    "\n",
    "def solution(progresses, speeds):\n",
    "    time = deque([])\n",
    "    for prog, sp in zip(progresses, speeds):\n",
    "        time.append(ceil((100-prog)/sp))\n",
    "    stack = [(time.popleft(), 1)]\n",
    "    for t in time:\n",
    "        if t > stack[-1][0]:\n",
    "            stack.append((t, 1))\n",
    "        else:\n",
    "            stack[-1] = (stack[-1][0], stack[-1][1]+1)\n",
    "    answer = [n for _, n in stack]\n",
    "    return answer"
   ]
  },
  {
   "source": [
    "<img src=\"https://i.imgur.com/cjguIH6.png\" align='left'>"
   ],
   "cell_type": "markdown",
   "metadata": {}
  }
 ]
}