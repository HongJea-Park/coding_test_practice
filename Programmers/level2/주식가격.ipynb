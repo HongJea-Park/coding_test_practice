{
 "metadata": {
  "language_info": {
   "codemirror_mode": {
    "name": "ipython",
    "version": 3
   },
   "file_extension": ".py",
   "mimetype": "text/x-python",
   "name": "python",
   "nbconvert_exporter": "python",
   "pygments_lexer": "ipython3",
   "version": 3
  },
  "orig_nbformat": 2
 },
 "nbformat": 4,
 "nbformat_minor": 2,
 "cells": [
  {
   "source": [
    "# 주식가격\n",
    "\n",
    "[링크](https://programmers.co.kr/learn/courses/30/lessons/42584)\n",
    "\n",
    "<br>\n",
    "\n",
    "## 문제 설명\n",
    "\n",
    "초 단위로 기록된 주식가격이 담긴 배열 prices가 매개변수로 주어질 때, 가격이 떨어지지 않은 기간은 몇 초인지를 return 하도록 solution 함수를 완성하세요. <br>\n",
    "\n",
    "<br>\n",
    "\n",
    "## 제한사항\n",
    "- prices의 각 가격은 1 이상 10,000 이하인 자연수입니다.\n",
    "- prices의 길이는 2 이상 100,000 이하입니다.\n",
    "\n",
    "<br>\n",
    "\n",
    "## 입출력 예\n",
    "\n",
    "| prices | return |\n",
    "| :-: | :-: |\n",
    "| `[1, 2, 3, 2, 3]` | `[4, 3, 1, 1, 0]` |\n",
    "\n",
    "<br>\n",
    "\n",
    "## 입출력 예 설명\n",
    "- 1초 시점의 ₩1은 끝까지 가격이 떨어지지 않았습니다.\n",
    "- 2초 시점의 ₩2은 끝까지 가격이 떨어지지 않았습니다.\n",
    "- 3초 시점의 ₩3은 1초뒤에 가격이 떨어집니다. 따라서 1초간 가격이 떨어지지 않은 것으로 봅니다.\n",
    "- 4초 시점의 ₩2은 1초간 가격이 떨어지지 않았습니다.\n",
    "- 5초 시점의 ₩3은 0초간 가격이 떨어지지 않았습니다.\n",
    "\n",
    "<br>\n",
    "\n",
    "※ 공지 - 2019년 2월 28일 지문이 리뉴얼되었습니다.\n",
    "\n"
   ],
   "cell_type": "markdown",
   "metadata": {}
  },
  {
   "source": [
    "# 풀이\n",
    "<br>\n",
    "입력으로 들어오는 prices에 순차적으로 검사하며 뒷 시간에 대한 price와 비교한다.\n",
    "<br>\n",
    "<br>"
   ],
   "cell_type": "markdown",
   "metadata": {}
  },
  {
   "cell_type": "code",
   "execution_count": null,
   "metadata": {},
   "outputs": [],
   "source": [
    "def solution(prices):\n",
    "    answer, length = [], len(prices)\n",
    "    for i, price in enumerate(prices):\n",
    "        for j in range(i+1, length):\n",
    "            if price > prices[j]:\n",
    "                break\n",
    "        answer.append(j-i)\n",
    "    return answer"
   ]
  },
  {
   "source": [
    "<img src=\"https://i.imgur.com/UzIKNvQ.png\" align='left'>"
   ],
   "cell_type": "markdown",
   "metadata": {}
  }
 ]
}