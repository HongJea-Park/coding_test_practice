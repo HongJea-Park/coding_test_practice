{
 "metadata": {
  "language_info": {
   "codemirror_mode": {
    "name": "ipython",
    "version": 3
   },
   "file_extension": ".py",
   "mimetype": "text/x-python",
   "name": "python",
   "nbconvert_exporter": "python",
   "pygments_lexer": "ipython3",
   "version": "3.7.6-final"
  },
  "orig_nbformat": 2,
  "kernelspec": {
   "name": "python3",
   "display_name": "Python 3.7.6 64-bit ('base': conda)",
   "metadata": {
    "interpreter": {
     "hash": "40d5d32362b92e9fa6f2bbc8b592a2ac94ac65eb8071a87f096870c3b258260c"
    }
   }
  }
 },
 "nbformat": 4,
 "nbformat_minor": 2,
 "cells": [
  {
   "cell_type": "code",
   "execution_count": 1,
   "metadata": {},
   "outputs": [
    {
     "output_type": "display_data",
     "data": {
      "text/plain": "<IPython.core.display.HTML object>",
      "text/html": "<style>\ntable {margin-left: 0 !important;}\nimg {margin-left: 0 !important;}\n</style>\n"
     },
     "metadata": {}
    }
   ],
   "source": [
    "%%html\n",
    "<style>\n",
    "table {margin-left: 0 !important;}\n",
    "img {margin-left: 0 !important;}\n",
    "</style>"
   ]
  },
  {
   "source": [
    "# (3차) 압축\n",
    "\n",
    "[링크](https://programmers.co.kr/learn/courses/30/lessons/17684)\n",
    "\n",
    "<br>\n",
    "\n",
    "## 문제 설명\n",
    "\n",
    "신입사원 어피치는 카카오톡으로 전송되는 메시지를 압축하여 전송 효율을 높이는 업무를 맡게 되었다. <br>\n",
    "메시지를 압축하더라도 전달되는 정보가 바뀌어서는 안 되므로, 압축 전의 정보를 완벽하게 복원 가능한 무손실 압축 알고리즘을 구현하기로 했다.<br>\n",
    "\n",
    "어피치는 여러 압축 알고리즘 중에서 성능이 좋고 구현이 간단한 LZW(Lempel–Ziv–Welch) 압축을 구현하기로 했다. <br>\n",
    "LZW 압축은 1983년 발표된 알고리즘으로, 이미지 파일 포맷인 GIF 등 다양한 응용에서 사용되었다.<br>\n",
    "\n",
    "LZW 압축은 다음 과정을 거친다.<br>\n",
    "\n",
    "1. 길이가 1인 모든 단어를 포함하도록 사전을 초기화한다.\n",
    "2. 사전에서 현재 입력과 일치하는 가장 긴 문자열 `w`를 찾는다.\n",
    "3. `w`에 해당하는 사전의 색인 번호를 출력하고, 입력에서 `w`를 제거한다.\n",
    "4. 입력에서 처리되지 않은 다음 글자가 남아있다면(`c`), `w+c`에 해당하는 단어를 사전에 등록한다.\n",
    "5. 단계 2로 돌아간다.\n",
    "\n",
    "압축 알고리즘이 영문 대문자만 처리한다고 할 때, 사전은 다음과 같이 초기화된다. <br>\n",
    "사전의 색인 번호는 정수값으로 주어지며, 1부터 시작한다고 하자.<br>\n",
    "\n",
    "| 색인 번호 | 1\t| 2\t| 3\t| $\\dots$ | 24 | 25 | 26 |\n",
    "| :-: | :-: | :-: | :-: | :-: | :-: | :-: | :-: |\n",
    "| 단어\t| A\t| B\t| C\t| $\\dots$ | X | Y | Z |\n",
    "\n",
    "예를 들어 입력으로 `KAKAO`가 들어온다고 하자.<br>\n",
    "\n",
    "1. 현재 사전에는 `KAKAO`의 첫 글자 K는 등록되어 있으나, 두 번째 글자까지인 `KA`는 없으므로, 첫 글자 `K`에 해당하는 색인 번호 11을 출력하고, 다음 글자인 `A`를 포함한 `KA`를 사전에 27 번째로 등록한다.\n",
    "2. 두 번째 글자 A는 사전에 있으나, 세 번째 글자까지인 `AK`는 사전에 없으므로, `A`의 색인 번호 1을 출력하고, `AK`를 사전에 28 번째로 등록한다.\n",
    "3. 세 번째 글자에서 시작하는 `KA`가 사전에 있으므로, `KA`에 해당하는 색인 번호 27을 출력하고, 다음 글자 `O`를 포함한 `KAO`를 29 번째로 등록한다.\n",
    "4. 마지막으로 처리되지 않은 글자 `O`에 해당하는 색인 번호 15를 출력한다.\n",
    "\n",
    "| 현재 입력(w) | 다음 글자(c) | 출력 | 사전 추가(w+c) |\n",
    "| :-: | :-: | :-: | :-: |\n",
    "| K\t| A\t| 11 | 27: KA |\n",
    "| A | K | 1\t| 28: AK |\n",
    "| KA | O | 27 | 29: KAO |\n",
    "| O | | 15 | |\n",
    "\n",
    "이 과정을 거쳐 다섯 글자의 문장 `KAKAO`가 4개의 색인 번호 [11, 1, 27, 15]로 압축된다. <br>\n",
    "\n",
    "입력으로 `TOBEORNOTTOBEORTOBEORNOT`가 들어오면 다음과 같이 압축이 진행된다.<br>\n",
    "\n",
    "| 현재 입력(w) | 다음 글자(c) | 출력 | 사전 추가(w+c) |\n",
    "| :-: | :-: | :-: | :-: |\n",
    "| T | O | 20 | 27: TO |\n",
    "| O | B\t| 15 | 28: OB |\n",
    "| B\t| E\t| 2\t| 29: BE |\n",
    "| E\t| O\t| 5\t| 30: EO |\n",
    "| O\t| R\t| 15 | 31: OR |\n",
    "| R\t| N\t| 18 | 32: RN |\n",
    "| N\t| O\t| 14 | 33: NO |\n",
    "| O\t| T\t| 15 | 34: OT |\n",
    "| T\t| T\t| 20 | 35: TT |\n",
    "| TO | B |\t27 | 36: TOB |\n",
    "| BE | O |\t29 | 37: BEO |\n",
    "| OR | T |\t31 | 38: ORT |\n",
    "| TOB | E |\t36 | 39: TOBE |\n",
    "| EO | R | 30 | 40: EOR |\n",
    "| RN | O | 32 | 41: RNO |\n",
    "| OT | | 34\t| |\n",
    "\n",
    "<br>\n",
    "\n",
    "## 입력 형식\n",
    "\n",
    "입력으로 영문 대문자로만 이뤄진 문자열 `msg`가 주어진다. `msg`의 길이는 1 글자 이상, 1000 글자 이하이다.<br>\n",
    "\n",
    "<br>\n",
    "\n",
    "## 출력 형식\n",
    "\n",
    "주어진 문자열을 압축한 후의 사전 색인 번호를 배열로 출력하라. <br>\n",
    "\n",
    "<br>\n",
    "\n",
    "## 입출력 예제\n",
    "\n",
    "| msg | answer |\n",
    "| :- | :- |\n",
    "| `KAKAO` | `[11, 1, 27, 15]` |\n",
    "| `TOBEORNOTTOBEORTOBEORNOT` | `[20, 15, 2, 5, 15, 18, 14, 15, 20, 27, 29, 31, 36, 30, 32, 34]` |\n",
    "| `ABABABABABABABAB` | `[1, 2, 27, 29, 28, 31, 30]` |\n"
   ],
   "cell_type": "markdown",
   "metadata": {}
  },
  {
   "source": [
    "# 풀이\n",
    "<br>\n",
    "\n",
    "Dictionary를 이용하여 해당 substring이 dictionary의 key로 존재하는지 확인한다. 이 때 value는 해당 word의 index를 할당한다.\n",
    "\n",
    "<br>\n",
    "<br>"
   ],
   "cell_type": "markdown",
   "metadata": {}
  },
  {
   "cell_type": "code",
   "execution_count": null,
   "metadata": {},
   "outputs": [],
   "source": [
    "from collections import deque\n",
    "\n",
    "\n",
    "dictionary = {a: i+1 for i, a in enumerate('ABCDEFGHIJKLMNOPQRSTUVWXYZ')}\n",
    "\n",
    "\n",
    "def solution(msg):\n",
    "    msg = deque(msg)\n",
    "    last_value, answer = 27, []\n",
    "    w = msg.popleft()\n",
    "    while msg:\n",
    "        c = msg.popleft()\n",
    "        if w+c not in dictionary.keys():\n",
    "            dictionary[w+c] = last_value\n",
    "            last_value += 1\n",
    "            answer.append(dictionary[w])\n",
    "            w = c\n",
    "        else:\n",
    "            w += c\n",
    "    answer.append(dictionary[w])\n",
    "    return answer"
   ]
  },
  {
   "source": [
    "<img src=\"https://imgur.com/asdT6QU.png\" align='left'>"
   ],
   "cell_type": "markdown",
   "metadata": {}
  }
 ]
}