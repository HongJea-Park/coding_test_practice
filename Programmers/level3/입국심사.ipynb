{
 "metadata": {
  "language_info": {
   "codemirror_mode": {
    "name": "ipython",
    "version": 3
   },
   "file_extension": ".py",
   "mimetype": "text/x-python",
   "name": "python",
   "nbconvert_exporter": "python",
   "pygments_lexer": "ipython3",
   "version": "3.7.6-final"
  },
  "orig_nbformat": 2,
  "kernelspec": {
   "name": "python3",
   "display_name": "Python 3.7.6 64-bit ('base': conda)",
   "metadata": {
    "interpreter": {
     "hash": "40d5d32362b92e9fa6f2bbc8b592a2ac94ac65eb8071a87f096870c3b258260c"
    }
   }
  }
 },
 "nbformat": 4,
 "nbformat_minor": 2,
 "cells": [
  {
   "cell_type": "code",
   "execution_count": 1,
   "metadata": {},
   "outputs": [
    {
     "output_type": "display_data",
     "data": {
      "text/plain": "<IPython.core.display.HTML object>",
      "text/html": "<style>\ntable {margin-left: 0 !important;}\nimg {margin-left: 0 !important;}\n</style>\n"
     },
     "metadata": {}
    }
   ],
   "source": [
    "%%html\n",
    "<style>\n",
    "table {margin-left: 0 !important;}\n",
    "img {margin-left: 0 !important;}\n",
    "</style>"
   ]
  },
  {
   "source": [
    "# 입국심사\n",
    "\n",
    "[링크](https://programmers.co.kr/learn/courses/30/lessons/43238)\n",
    "\n",
    "<br>\n",
    "\n",
    "## 문제 설명\n",
    "\n",
    "n명이 입국심사를 위해 줄을 서서 기다리고 있습니다. <br>\n",
    "각 입국심사대에 있는 심사관마다 심사하는데 걸리는 시간은 다릅니다.<br>\n",
    "\n",
    "처음에 모든 심사대는 비어있습니다. <br>\n",
    "한 심사대에서는 동시에 한 명만 심사를 할 수 있습니다. <br>\n",
    "가장 앞에 서 있는 사람은 비어 있는 심사대로 가서 심사를 받을 수 있습니다. <br>\n",
    "하지만 더 빨리 끝나는 심사대가 있으면 기다렸다가 그곳으로 가서 심사를 받을 수도 있습니다.<br>\n",
    "\n",
    "모든 사람이 심사를 받는데 걸리는 시간을 최소로 하고 싶습니다.<br>\n",
    "\n",
    "입국심사를 기다리는 사람 수 n, 각 심사관이 한 명을 심사하는데 걸리는 시간이 담긴 배열 times가 매개변수로 주어질 때, 모든 사람이 심사를 받는데 걸리는 시간의 최솟값을 return 하도록 solution 함수를 작성해주세요.<br>\n",
    "\n",
    "<br>\n",
    "\n",
    "## 제한사항\n",
    "\n",
    "- 입국심사를 기다리는 사람은 1명 이상 1,000,000,000명 이하입니다.\n",
    "- 각 심사관이 한 명을 심사하는데 걸리는 시간은 1분 이상 1,000,000,000분 이하입니다.\n",
    "- 심사관은 1명 이상 100,000명 이하입니다.\n",
    "\n",
    "<br>\n",
    "\n",
    "## 입출력 예\n",
    "\n",
    "| n | times | return |\n",
    "| :- | :- | :- |\n",
    "| 6 | `[7, 10]` | 28 |\n",
    "\n",
    "<br>\n",
    "\n",
    "## 입출력 예 설명\n",
    "\n",
    "- 가장 첫 두 사람은 바로 심사를 받으러 갑니다.\n",
    "\n",
    "- 7분이 되었을 때, 첫 번째 심사대가 비고 3번째 사람이 심사를 받습니다.\n",
    "\n",
    "- 10분이 되었을 때, 두 번째 심사대가 비고 4번째 사람이 심사를 받습니다.\n",
    "\n",
    "- 14분이 되었을 때, 첫 번째 심사대가 비고 5번째 사람이 심사를 받습니다.\n",
    "\n",
    "- 20분이 되었을 때, 두 번째 심사대가 비지만 6번째 사람이 그곳에서 심사를 받지 않고 1분을 더 기다린 후에 첫 번째 심사대에서 심사를 받으면 28분에 모든 사람의 심사가 끝납니다.\n",
    "\n"
   ],
   "cell_type": "markdown",
   "metadata": {}
  },
  {
   "source": [
    "# 풀이\n",
    "<br>\n",
    "\n",
    "각 심사대에서 손님을 처리하는 시간은 고정되어 있다. <br>\n",
    "또한, 특정 시간이 주어진다면, 그동안 각 심사대에서 몇 사람을 처리했는지를 계산할 수 있다.<br>\n",
    "마지막으로, 시간은 최소 0 최대 심사가 가장 오래 걸리는 시간 * 손님의 수(`max(times)*n`)임을 알 수 있다.<br>\n",
    "\n",
    "이를 통해, binary search를 활용하면 모든 사람이 심사를 받는데 걸리는 시간의 최솟값을 효율적으로 탐색할 수 있다.<br>\n",
    "\n",
    "\n",
    "<br>\n",
    "<br>"
   ],
   "cell_type": "markdown",
   "metadata": {}
  },
  {
   "cell_type": "code",
   "execution_count": null,
   "metadata": {},
   "outputs": [],
   "source": [
    "def solution(n, times):\n",
    "    left, right = 0, max(times)*n\n",
    "    answer = right\n",
    "    while left <= right:\n",
    "        mid = (left+right)//2\n",
    "        count = sum([mid//t for t in times])\n",
    "        if n <= count:\n",
    "            answer = mid\n",
    "            right = mid-1\n",
    "        else:\n",
    "            left = mid+1\n",
    "    return answer"
   ]
  },
  {
   "source": [
    "<img src='https://i.imgur.com/o1MIPyD.png'>"
   ],
   "cell_type": "markdown",
   "metadata": {}
  }
 ]
}