{
 "metadata": {
  "language_info": {
   "codemirror_mode": {
    "name": "ipython",
    "version": 3
   },
   "file_extension": ".py",
   "mimetype": "text/x-python",
   "name": "python",
   "nbconvert_exporter": "python",
   "pygments_lexer": "ipython3",
   "version": "3.7.6-final"
  },
  "orig_nbformat": 2,
  "kernelspec": {
   "name": "python3",
   "display_name": "Python 3.7.6 64-bit ('base': conda)",
   "metadata": {
    "interpreter": {
     "hash": "40d5d32362b92e9fa6f2bbc8b592a2ac94ac65eb8071a87f096870c3b258260c"
    }
   }
  }
 },
 "nbformat": 4,
 "nbformat_minor": 2,
 "cells": [
  {
   "cell_type": "code",
   "execution_count": 1,
   "metadata": {},
   "outputs": [
    {
     "output_type": "display_data",
     "data": {
      "text/plain": "<IPython.core.display.HTML object>",
      "text/html": "<style>\ntable {margin-left: 0 !important;}\nimg {margin-left: 0 !important;}\n</style>\n"
     },
     "metadata": {}
    }
   ],
   "source": [
    "%%html\n",
    "<style>\n",
    "table {margin-left: 0 !important;}\n",
    "img {margin-left: 0 !important;}\n",
    "</style>"
   ]
  },
  {
   "source": [
    "# N으로 표현\n",
    "\n",
    "[링크](https://programmers.co.kr/learn/courses/30/lessons/42895)\n",
    "\n",
    "<br>\n",
    "\n",
    "## 문제 설명\n",
    "\n",
    "아래와 같이 5와 사칙연산만으로 12를 표현할 수 있습니다.<br>\n",
    "\n",
    "`12 = 5 + 5 + (5 / 5) + (5 / 5)`\n",
    "`12 = 55 / 5 + 5 / 5`\n",
    "`12 = (55 + 5) / 5`\n",
    "\n",
    "5를 사용한 횟수는 각각 6,5,4 입니다. <br>\n",
    "그리고 이중 가장 작은 경우는 4입니다.<br>\n",
    "이처럼 숫자 N과 number가 주어질 때, N과 사칙연산만 사용해서 표현 할 수 있는 방법 중 N 사용횟수의 최솟값을 return 하도록 solution 함수를 작성하세요.<br>\n",
    "\n",
    "<br>\n",
    "\n",
    "## 제한사항\n",
    "\n",
    "- N은 1 이상 9 이하입니다.\n",
    "- number는 1 이상 32,000 이하입니다.\n",
    "- 수식에는 괄호와 사칙연산만 가능하며 나누기 연산에서 나머지는 무시합니다.\n",
    "- 최솟값이 8보다 크면 -1을 return 합니다.\n",
    "\n",
    "<br>\n",
    "\n",
    "## 입출력 예\n",
    "\n",
    "| N\t| number | return |\n",
    "| :- | :- | :- |\n",
    "| 5\t| 12 | 4 |\n",
    "| 2\t| 11 | 3 |\n",
    "\n",
    "<br>\n",
    "\n",
    "## 입출력 예 설명\n",
    "\n",
    "### 예제 #1\n",
    "\n",
    "문제에 나온 예와 같습니다.\n",
    "\n",
    "### 예제 #2\n",
    "\n",
    "`11 = 22 / 2`와 같이 2를 3번만 사용하여 표현할 수 있습니다.\n",
    "\n"
   ],
   "cell_type": "markdown",
   "metadata": {}
  },
  {
   "source": [
    "# 풀이\n",
    "<br>\n",
    "\n",
    "N을 여러 개 활용하여 number를 만들어야 한다.<br>\n",
    "이 때, N을 2개 이용하여 만들 수 있는 수부터 차례대로 저장해놓고, 뒤에서 이를 활용하면 문제를 해결할 수 있다.<br>\n",
    "즉, 이 문제는 DP를 활용해 문제를 해결해야 한다.<br>\n",
    "\n",
    "<br>\n",
    "<br>"
   ],
   "cell_type": "markdown",
   "metadata": {}
  },
  {
   "cell_type": "code",
   "execution_count": null,
   "metadata": {},
   "outputs": [],
   "source": [
    "def solution(N, number):\n",
    "    records = {}\n",
    "    for n in range(1, 9):\n",
    "        tmp = set([int(str(N)*n)])\n",
    "        for m in range(1, n):\n",
    "            for e1 in records[n-m]:\n",
    "                for e2 in records[m]:\n",
    "                    tmp.add(e1+e2)\n",
    "                    tmp.add(e1-e2)\n",
    "                    tmp.add(e1*e2)\n",
    "                    if e2 != 0:\n",
    "                        tmp.add(e1//e2)\n",
    "        if number in tmp:\n",
    "            return n\n",
    "        records[n] = tmp\n",
    "    return -1"
   ]
  },
  {
   "source": [
    "<img src='https://i.imgur.com/pj09TQN.png'>"
   ],
   "cell_type": "markdown",
   "metadata": {}
  }
 ]
}