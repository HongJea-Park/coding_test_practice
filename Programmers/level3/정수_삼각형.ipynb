{
 "metadata": {
  "language_info": {
   "codemirror_mode": {
    "name": "ipython",
    "version": 3
   },
   "file_extension": ".py",
   "mimetype": "text/x-python",
   "name": "python",
   "nbconvert_exporter": "python",
   "pygments_lexer": "ipython3",
   "version": "3.7.6-final"
  },
  "orig_nbformat": 2,
  "kernelspec": {
   "name": "python3",
   "display_name": "Python 3.7.6 64-bit ('base': conda)",
   "metadata": {
    "interpreter": {
     "hash": "40d5d32362b92e9fa6f2bbc8b592a2ac94ac65eb8071a87f096870c3b258260c"
    }
   }
  }
 },
 "nbformat": 4,
 "nbformat_minor": 2,
 "cells": [
  {
   "cell_type": "code",
   "execution_count": 1,
   "metadata": {},
   "outputs": [
    {
     "output_type": "display_data",
     "data": {
      "text/plain": "<IPython.core.display.HTML object>",
      "text/html": "<style>\ntable {margin-left: 0 !important;}\nimg {margin-left: 0 !important;}\n</style>\n"
     },
     "metadata": {}
    }
   ],
   "source": [
    "%%html\n",
    "<style>\n",
    "table {margin-left: 0 !important;}\n",
    "img {margin-left: 0 !important;}\n",
    "</style>"
   ]
  },
  {
   "source": [
    "# 정수 삼각형\n",
    "\n",
    "[링크](https://programmers.co.kr/learn/courses/30/lessons/43105)\n",
    "\n",
    "<br>\n",
    "\n",
    "## 문제 설명\n",
    "\n",
    "<img src='https://grepp-programmers.s3.amazonaws.com/files/production/97ec02cc39/296a0863-a418-431d-9e8c-e57f7a9722ac.png'>\n",
    "\n",
    "위와 같은 삼각형의 꼭대기에서 바닥까지 이어지는 경로 중, 거쳐간 숫자의 합이 가장 큰 경우를 찾아보려고 합니다. <br>\n",
    "아래 칸으로 이동할 때는 대각선 방향으로 한 칸 오른쪽 또는 왼쪽으로만 이동 가능합니다. <br>\n",
    "예를 들어 3에서는 그 아래칸의 8 또는 1로만 이동이 가능합니다.<br>\n",
    "\n",
    "삼각형의 정보가 담긴 배열 triangle이 매개변수로 주어질 때, 거쳐간 숫자의 최댓값을 return 하도록 solution 함수를 완성하세요.<br>\n",
    "\n",
    "<br>\n",
    "\n",
    "## 제한사항\n",
    "\n",
    "- 삼각형의 높이는 1 이상 500 이하입니다.\n",
    "- 삼각형을 이루고 있는 숫자는 0 이상 9,999 이하의 정수입니다.\n",
    "\n",
    "<br>\n",
    "\n",
    "## 입출력 예\n",
    "| triangle | result |\n",
    "| :- | :- |\n",
    "| `[[7], [3, 8], [8, 1, 0], [2, 7, 4, 4], [4, 5, 2, 6, 5]]`\t| 30 |\n",
    "\n"
   ],
   "cell_type": "markdown",
   "metadata": {}
  },
  {
   "source": [
    "# 풀이\n",
    "<br>\n",
    "\n",
    "삼각형 꼭대기부터 시작해서 아래로 내려올 때, 이전 단계의 대각선 방향에 위치한 숫자뿐이므로, DP를 이용하며 순차적으로 삼각형을 내려오면 정답을 구할 수 있다.<br>\n",
    "이 때, 해당 스텝에서 맨 왼쪽과 맨 오른쪽은 숫자 하나만 받을 수 있으므로 이 부분만 신경써주면 쉽게 풀 수 있다.<br>\n",
    "\n",
    "<br>\n",
    "<br>"
   ],
   "cell_type": "markdown",
   "metadata": {}
  },
  {
   "cell_type": "code",
   "execution_count": null,
   "metadata": {},
   "outputs": [],
   "source": [
    "def solution(triangle):\n",
    "    for i, line in enumerate(triangle[1:]):\n",
    "        triangle[i+1][0] += triangle[i][0]\n",
    "        triangle[i+1][-1] += triangle[i][-1]\n",
    "        for j, e in enumerate(line[1:-1]):\n",
    "            triangle[i+1][j+1] += max(triangle[i][j], triangle[i][j+1])\n",
    "    return max(triangle[-1])"
   ]
  },
  {
   "source": [
    "<img src='https://i.imgur.com/29Oe1G5.png'>"
   ],
   "cell_type": "markdown",
   "metadata": {}
  }
 ]
}