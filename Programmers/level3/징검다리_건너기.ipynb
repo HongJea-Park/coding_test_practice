{
 "cells": [
  {
   "cell_type": "code",
   "execution_count": 1,
   "metadata": {},
   "outputs": [
    {
     "data": {
      "text/html": [
       "<style>\n",
       "table {margin-left: 0 !important;}\n",
       "img {margin-left: 0 !important;}\n",
       "</style>\n"
      ],
      "text/plain": [
       "<IPython.core.display.HTML object>"
      ]
     },
     "metadata": {},
     "output_type": "display_data"
    }
   ],
   "source": [
    "%%html\n",
    "<style>\n",
    "table {margin-left: 0 !important;}\n",
    "img {margin-left: 0 !important;}\n",
    "</style>"
   ]
  },
  {
   "cell_type": "markdown",
   "metadata": {},
   "source": [
    "# 징검다리 건너기\n",
    "\n",
    "[링크]()\n",
    "\n",
    "<br>\n",
    "\n",
    "## 문제 설명\n",
    "\n",
    "**본 문제는 정확성과 효율성 테스트 각각 점수가 있는 문제입니다.**<br>\n",
    "\n",
    "카카오 초등학교의 니니즈 친구들이 라이언 선생님과 함께 가을 소풍을 가는 중에 징검다리가 있는 개울을 만나서 건너편으로 건너려고 합니다. <br>\n",
    "라이언 선생님은 니니즈 친구들이 무사히 징검다리를 건널 수 있도록 다음과 같이 규칙을 만들었습니다.<br>\n",
    "\n",
    "- 징검다리는 일렬로 놓여 있고 각 징검다리의 디딤돌에는 모두 숫자가 적혀 있으며 디딤돌의 숫자는 한 번 밟을 때마다 1씩 줄어듭니다.\n",
    "- 디딤돌의 숫자가 0이 되면 더 이상 밟을 수 없으며 이때는 그 다음 디딤돌로 한번에 여러 칸을 건너 뛸 수 있습니다.\n",
    "- 단, 다음으로 밟을 수 있는 디딤돌이 여러 개인 경우 무조건 가장 가까운 디딤돌로만 건너뛸 수 있습니다.\n",
    "\n",
    "니니즈 친구들은 개울의 왼쪽에 있으며, 개울의 오른쪽 건너편에 도착해야 징검다리를 건넌 것으로 인정합니다. <br>\n",
    "니니즈 친구들은 한 번에 한 명씩 징검다리를 건너야 하며, 한 친구가 징검다리를 모두 건넌 후에 그 다음 친구가 건너기 시작합니다. <br>\n",
    "\n",
    "디딤돌에 적힌 숫자가 순서대로 담긴 배열 stones와 한 번에 건너뛸 수 있는 디딤돌의 최대 칸수 k가 매개변수로 주어질 때, 최대 몇 명까지 징검다리를 건널 수 있는지 return 하도록 solution 함수를 완성해주세요.\n",
    "\n",
    "<br>\n",
    "\n",
    "## 제한사항\n",
    "\n",
    "- 징검다리를 건너야 하는 니니즈 친구들의 수는 무제한 이라고 간주합니다.\n",
    "- stones 배열의 크기는 1 이상 200,000 이하입니다.\n",
    "- stones 배열 각 원소들의 값은 1 이상 200,000,000 이하인 자연수입니다.\n",
    "- k는 1 이상 stones의 길이 이하인 자연수입니다.\n",
    "\n",
    "## 입출력 예\n",
    "\n",
    "| stones | k | result |\n",
    "| :-: | :-: | :-: |\n",
    "| `[2, 4, 5, 3, 2, 1, 4, 2, 5, 1]` | 3 | 3 |\n",
    "\n",
    "<br>\n",
    "\n",
    "## 입출력 예에 대한 설명\n",
    "\n",
    "<br>\n",
    "\n",
    "### 입출력 예 1\n",
    "\n",
    "첫 번째 친구는 다음과 같이 징검다리를 건널 수 있습니다.\n",
    "\n",
    "<img src='https://grepp-programmers.s3.ap-northeast-2.amazonaws.com/files/production/4560e242-cf83-4e77-a14c-174f3831499d/step_stones_104.png'><br>\n",
    "\n",
    "<br>\n",
    "\n",
    "첫 번째 친구가 징검다리를 건넌 후 디딤돌에 적힌 숫자는 아래 그림과 같습니다. <br>\n",
    "두 번째 친구도 아래 그림과 같이 징검다리를 건널 수 있습니다. <br>\n",
    "\n",
    "<img src='https://grepp-programmers.s3.ap-northeast-2.amazonaws.com/files/production/d64f29ac-3e35-4fd3-91fa-4d70e3b6c80a/step_stones_101.png'><br>\n",
    "\n",
    "<br>\n",
    "\n",
    "두 번째 친구가 징검다리를 건넌 후 디딤돌에 적힌 숫자는 아래 그림과 같습니다. <br>\n",
    "세 번째 친구도 아래 그림과 같이 징검다리를 건널 수 있습니다. <br>\n",
    "\n",
    "<img src='https://grepp-programmers.s3.ap-northeast-2.amazonaws.com/files/production/369bc8a1-7017-4135-a499-505247ab9cfc/step_stones_102.png'><br>\n",
    "\n",
    "<br>\n",
    "\n",
    "세 번째 친구가 징검다리를 건넌 후 디딤돌에 적힌 숫자는 아래 그림과 같습니다.<br>\n",
    "네 번째 친구가 징검다리를 건너려면, 세 번째 디딤돌에서 일곱 번째 디딤돌로 네 칸을 건너뛰어야 합니다. 하지만 k = 3 이므로 건너뛸 수 없습니다.<br>\n",
    "\n",
    "<img src='https://grepp-programmers.s3.ap-northeast-2.amazonaws.com/files/production/e44e0a83-e637-48ad-858c-4c135c3b078f/step_stones_103.png'><br>\n",
    "\n",
    "따라서 최대 3명이 디딤돌을 모두 건널 수 있습니다.<br>\n",
    "\n",
    "<br>\n",
    "<br>\n",
    "<br>\n",
    "<br>\n",
    "<br>"
   ]
  },
  {
   "cell_type": "markdown",
   "metadata": {},
   "source": [
    "# 풀이\n",
    "<br>\n",
    "\n",
    "한 사람이 징검다리를 건널 수 있는지 확인하기 위해서는 stones를 모두 살펴본 뒤 연속으로 0이 k번 나오는지 확인해야 한다.<br>\n",
    "모든 사람들에 대해 한 명씩 모두 검사하는 것은 시간이 오래 소모될 수 밖에 없다. <br>\n",
    "이 문제는 건널 수 있는 사람의 수가 200,000,000으로 제한되어 있다.<br>\n",
    "이를 활용하여 binary search를 이용하여 n명이 이 다리를 건널 수 있는지 체크하면, 효율성 테스트까지 모두 통과할 수 있다.<br>\n",
    "\n",
    "<br>\n",
    "<br>"
   ]
  },
  {
   "cell_type": "code",
   "execution_count": null,
   "metadata": {},
   "outputs": [],
   "source": [
    "def solution(stones, k):\n",
    "    left, right = 1, max(stones)\n",
    "    while left <= right:\n",
    "        mid = (left+right)//2\n",
    "        count = 0\n",
    "        for s in stones:\n",
    "            if s <= mid:\n",
    "                count += 1\n",
    "                if count == k:\n",
    "                    right = mid - 1\n",
    "                    break\n",
    "            else:\n",
    "                count = 0\n",
    "        if right != mid-1:\n",
    "            left = mid + 1\n",
    "    return left"
   ]
  },
  {
   "cell_type": "markdown",
   "metadata": {},
   "source": [
    "<img src=\"https://i.imgur.com/dvaN7Yw.png\" align='left'>\n",
    "<img src=\"https://i.imgur.com/aGDiXEt.png\" align='left'>"
   ]
  }
 ],
 "metadata": {
  "kernelspec": {
   "display_name": "Python 3",
   "language": "python",
   "name": "python3"
  },
  "language_info": {
   "codemirror_mode": {
    "name": "ipython",
    "version": 3
   },
   "file_extension": ".py",
   "mimetype": "text/x-python",
   "name": "python",
   "nbconvert_exporter": "python",
   "pygments_lexer": "ipython3",
   "version": "3.7.6"
  }
 },
 "nbformat": 4,
 "nbformat_minor": 2
}
