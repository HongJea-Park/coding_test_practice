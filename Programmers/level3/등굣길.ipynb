{
 "metadata": {
  "language_info": {
   "codemirror_mode": {
    "name": "ipython",
    "version": 3
   },
   "file_extension": ".py",
   "mimetype": "text/x-python",
   "name": "python",
   "nbconvert_exporter": "python",
   "pygments_lexer": "ipython3",
   "version": "3.7.6-final"
  },
  "orig_nbformat": 2,
  "kernelspec": {
   "name": "python3",
   "display_name": "Python 3.7.6 64-bit ('base': conda)",
   "metadata": {
    "interpreter": {
     "hash": "40d5d32362b92e9fa6f2bbc8b592a2ac94ac65eb8071a87f096870c3b258260c"
    }
   }
  }
 },
 "nbformat": 4,
 "nbformat_minor": 2,
 "cells": [
  {
   "cell_type": "code",
   "execution_count": 1,
   "metadata": {},
   "outputs": [
    {
     "output_type": "display_data",
     "data": {
      "text/plain": "<IPython.core.display.HTML object>",
      "text/html": "<style>\ntable {margin-left: 0 !important;}\nimg {margin-left: 0 !important;}\n</style>\n"
     },
     "metadata": {}
    }
   ],
   "source": [
    "%%html\n",
    "<style>\n",
    "table {margin-left: 0 !important;}\n",
    "img {margin-left: 0 !important;}\n",
    "</style>"
   ]
  },
  {
   "source": [
    "# 등굣길\n",
    "\n",
    "[링크](https://programmers.co.kr/learn/courses/30/lessons/42898)\n",
    "\n",
    "<br>\n",
    "\n",
    "## 문제 설명\n",
    "\n",
    "계속되는 폭우로 일부 지역이 물에 잠겼습니다. <br>\n",
    "물에 잠기지 않은 지역을 통해 학교를 가려고 합니다. <br>\n",
    "집에서 학교까지 가는 길은 m x n 크기의 격자모양으로 나타낼 수 있습니다.<br>\n",
    "\n",
    "아래 그림은 m = 4, n = 3 인 경우입니다.\n",
    "\n",
    "<img src = \"https://grepp-programmers.s3.amazonaws.com/files/ybm/056f54e618/f167a3bc-e140-4fa8-a8f8-326a99e0f567.png\">\n",
    "\n",
    "<br>\n",
    "\n",
    "가장 왼쪽 위, 즉 집이 있는 곳의 좌표는 (1, 1)로 나타내고 가장 오른쪽 아래, 즉 학교가 있는 곳의 좌표는 (m, n)으로 나타냅니다.<br>\n",
    "\n",
    "격자의 크기 m, n과 물이 잠긴 지역의 좌표를 담은 2차원 배열 puddles이 매개변수로 주어집니다. <br>\n",
    "오른쪽과 아래쪽으로만 움직여 집에서 학교까지 갈 수 있는 최단경로의 개수를 1,000,000,007로 나눈 나머지를 return 하도록 solution 함수를 작성해주세요.<br>\n",
    "\n",
    "<br>\n",
    "\n",
    "## 제한사항\n",
    "\n",
    "- 격자의 크기 m, n은 1 이상 100 이하인 자연수입니다.\n",
    "    - m과 n이 모두 1인 경우는 입력으로 주어지지 않습니다.\n",
    "- 물에 잠긴 지역은 0개 이상 10개 이하입니다.\n",
    "- 집과 학교가 물에 잠긴 경우는 입력으로 주어지지 않습니다.\n",
    "\n",
    "<br>\n",
    "\n",
    "## 입출력 예\n",
    "\n",
    "| m | n | puddles | return |\n",
    "| :- | :- | :- | :- |\n",
    "| 4 | 3 | `[[2, 2]]` | 4 |\n",
    "\n",
    "<br>\n",
    "\n",
    "### 입출력 예 설명\n",
    "\n",
    "<img src = \"https://grepp-programmers.s3.amazonaws.com/files/ybm/32c67958d5/729216f3-f305-4ad1-b3b0-04c2ba0b379a.png\">"
   ],
   "cell_type": "markdown",
   "metadata": {}
  },
  {
   "source": [
    "# 풀이\n",
    "<br>\n",
    "\n",
    "고등교육과정에서 주어지는 일반적인 길 찾기 문제와는 다른 유형이다.<br>\n",
    "고등교육과정에서 주어지는 문제는 장애물이 없거나 하나 존재하기 때문에 순열조합으로 해결할 수 있으나, 해당 문제에서는 최대 10개까지 존재할 수 있기 때문이다.<br>\n",
    "\n",
    "<br>\n",
    "길 찾기 문제를 조금 자세히 생각해본다면, 작은 문제들이 모여 큰 문제를 구성하는 걸 확인할 수 있다.\n",
    "따라서 DP를 활용하여 값들을 차례대로 저장해나간다면 문제를 쉽게 해결할 수 있다.\n",
    "\n",
    "<br>\n",
    "<br>"
   ],
   "cell_type": "markdown",
   "metadata": {}
  },
  {
   "cell_type": "code",
   "execution_count": null,
   "metadata": {},
   "outputs": [],
   "source": [
    "def solution(m, n, puddles):\n",
    "    coor = {(1, 1): 1}\n",
    "    for a in range(m):\n",
    "        for b in range(n):\n",
    "            x = coor.setdefault((a, b+1), 0)\n",
    "            y = coor.setdefault((a+1, b), 0)\n",
    "            if [a+1, b+1] not in puddles:\n",
    "                coor.setdefault((a+1, b+1), (x+y)%(1e9+7))\n",
    "            else:\n",
    "                coor.setdefault((a+1, b+1), 0)\n",
    "    return coor[(m, n)]"
   ]
  },
  {
   "source": [
    "<img src=\"https://i.imgur.com/nFuDiXK.png\">"
   ],
   "cell_type": "markdown",
   "metadata": {}
  }
 ]
}