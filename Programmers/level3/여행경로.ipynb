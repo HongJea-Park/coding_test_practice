{
 "metadata": {
  "language_info": {
   "codemirror_mode": {
    "name": "ipython",
    "version": 3
   },
   "file_extension": ".py",
   "mimetype": "text/x-python",
   "name": "python",
   "nbconvert_exporter": "python",
   "pygments_lexer": "ipython3",
   "version": "3.7.6-final"
  },
  "orig_nbformat": 2,
  "kernelspec": {
   "name": "python3",
   "display_name": "Python 3.7.6 64-bit ('base': conda)",
   "metadata": {
    "interpreter": {
     "hash": "40d5d32362b92e9fa6f2bbc8b592a2ac94ac65eb8071a87f096870c3b258260c"
    }
   }
  }
 },
 "nbformat": 4,
 "nbformat_minor": 2,
 "cells": [
  {
   "cell_type": "code",
   "execution_count": 1,
   "metadata": {},
   "outputs": [
    {
     "output_type": "display_data",
     "data": {
      "text/plain": "<IPython.core.display.HTML object>",
      "text/html": "<style>\ntable {margin-left: 0 !important;}\nimg {margin-left: 0 !important;}\n</style>\n"
     },
     "metadata": {}
    }
   ],
   "source": [
    "%%html\n",
    "<style>\n",
    "table {margin-left: 0 !important;}\n",
    "img {margin-left: 0 !important;}\n",
    "</style>"
   ]
  },
  {
   "source": [
    "# 여행경로\n",
    "\n",
    "[링크]()\n",
    "\n",
    "<br>\n",
    "\n",
    "## 문제 설명\n",
    "\n",
    "주어진 항공권을 모두 이용하여 여행경로를 짜려고 합니다. 항상 \"ICN\" 공항에서 출발합니다. <br>\n",
    "\n",
    "항공권 정보가 담긴 2차원 배열 tickets가 매개변수로 주어질 때, 방문하는 공항 경로를 배열에 담아 return 하도록 solution 함수를 작성해주세요. <br>\n",
    "\n",
    "<br>\n",
    "\n",
    "## 제한사항\n",
    "\n",
    "- 모든 공항은 알파벳 대문자 3글자로 이루어집니다.\n",
    "- 주어진 공항 수는 3개 이상 10,000개 이하입니다.\n",
    "- tickets의 각 행 `[a, b]`는 a 공항에서 b 공항으로 가는 항공권이 있다는 의미입니다.\n",
    "- 주어진 항공권은 모두 사용해야 합니다.\n",
    "- 만일 가능한 경로가 2개 이상일 경우 알파벳 순서가 앞서는 경로를 return 합니다.\n",
    "- 모든 도시를 방문할 수 없는 경우는 주어지지 않습니다.\n",
    "\n",
    "<br>\n",
    "\n",
    "## 입출력 예\n",
    "\n",
    "|tickets | return |\n",
    "| :- | :- |\n",
    "| `[[\"ICN\", \"JFK\"], [\"HND\", \"IAD\"], [\"JFK\", \"HND\"]]` | `[\"ICN\", \"JFK\", \"HND\", \"IAD\"]` |\n",
    "| `[[\"ICN\", \"SFO\"], [\"ICN\", \"ATL\"], [\"SFO\", \"ATL\"], [\"ATL\", \"ICN\"], [\"ATL\",\"SFO\"]]` | `[\"ICN\", \"ATL\", \"ICN\", \"SFO\", \"ATL\", \"SFO\"]` |\n",
    "\n",
    "## 입출력 예 설명\n",
    "\n",
    "### 예제 #1\n",
    "\n",
    "`[\"ICN\", \"JFK\", \"HND\", \"IAD\"]` 순으로 방문할 수 있습니다.\n",
    "\n",
    "### 예제 #2\n",
    "\n",
    "`[\"ICN\", \"SFO\", \"ATL\", \"ICN\", \"ATL\", \"SFO\"]` 순으로 방문할 수도 있지만 <br>\n",
    "`[\"ICN\", \"ATL\", \"ICN\", \"SFO\", \"ATL\", \"SFO\"]` 가 알파벳 순으로 앞섭니다.\n",
    "\n"
   ],
   "cell_type": "markdown",
   "metadata": {}
  },
  {
   "source": [
    "# 풀이\n",
    "<br>\n",
    "\n",
    "tickets는 그래프에서 edge로 볼 수 있다. <br>\n",
    "이 때 모든 tickets를 활용하여 모든 도시를 방문할 수 있는 경우의 수 중 알파벳 순서가 앞서는 경로를 return해야하는 문제다.<br>\n",
    "\n",
    "수 많은 경우의 수가 존재할 수 있지만 결국엔 하나의 path를 출력해야 하므로, BFS보다 DFS를 통해 접근한다.<br>\n",
    "알파벳 순서가 앞서는 path를 찾기 위해 각 도시에서 이동할 수 있는 다른 도시들에 대한 list를 내립차순으로 정렬하여 알파벳 순서가 가장 앞서는 도시를 list의 맨 앞에 위치시킨다.<br>\n",
    "이후 stack에 DFS를 통해 도시들을 차례로 append 시킨다.<br>\n",
    "가장 마지막에 stack에 들어간 도시에서 출발하는 ticket이 없는 경우 해당 도시를 path에 append시키면 path는 역순으로 저장된다.<br>\n",
    "마지막으로 path를 역순으로 return시키면 문제를 해결할 수 있다.\n",
    "\n",
    "\n",
    "<br>\n",
    "<br>"
   ],
   "cell_type": "markdown",
   "metadata": {}
  },
  {
   "cell_type": "code",
   "execution_count": null,
   "metadata": {},
   "outputs": [],
   "source": [
    "def solution(tickets):\n",
    "    answer, ticketDict, numTickets = [], {}, len(tickets)\n",
    "    for f, t in tickets:\n",
    "        destination = ticketDict.setdefault(f, [])\n",
    "        destination.append(t)\n",
    "    for key in ticketDict:\n",
    "        ticketDict[key].sort(reverse=True)\n",
    "    stack = ['ICN']\n",
    "    path = []\n",
    "    while stack:\n",
    "        start = stack[-1]\n",
    "        if start not in ticketDict.keys() or not ticketDict[start]:\n",
    "            path.append(stack.pop())\n",
    "        else:\n",
    "            stack.append(ticketDict[start].pop())\n",
    "    return path[::-1]"
   ]
  },
  {
   "source": [
    "<img src='https://i.imgur.com/JUV2lNL.png'>"
   ],
   "cell_type": "markdown",
   "metadata": {}
  }
 ]
}