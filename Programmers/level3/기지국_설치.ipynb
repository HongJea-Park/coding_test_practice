{
 "metadata": {
  "language_info": {
   "codemirror_mode": {
    "name": "ipython",
    "version": 3
   },
   "file_extension": ".py",
   "mimetype": "text/x-python",
   "name": "python",
   "nbconvert_exporter": "python",
   "pygments_lexer": "ipython3",
   "version": 3
  },
  "orig_nbformat": 2
 },
 "nbformat": 4,
 "nbformat_minor": 2,
 "cells": [
  {
   "cell_type": "code",
   "execution_count": null,
   "metadata": {},
   "outputs": [],
   "source": [
    "%%html\n",
    "<style>\n",
    "table {margin-left: 0 !important;}\n",
    "img {margin-left: 0 !important;}\n",
    "</style>"
   ]
  },
  {
   "source": [
    "# 기지국 설치\n",
    "\n",
    "[링크](https://programmers.co.kr/learn/courses/30/lessons/12979)\n",
    "\n",
    "<br>\n",
    "\n",
    "## 문제 설명\n",
    "\n",
    "N개의 아파트가 일렬로 쭉 늘어서 있습니다. <br>\n",
    "이 중에서 일부 아파트 옥상에는 4g 기지국이 설치되어 있습니다. <br>\n",
    "기술이 발전해 5g 수요가 높아져 4g 기지국을 5g 기지국으로 바꾸려 합니다. <br>\n",
    "그런데 5g 기지국은 4g 기지국보다 전달 범위가 좁아, 4g 기지국을 5g 기지국으로 바꾸면 어떤 아파트에는 전파가 도달하지 않습니다.<br>\n",
    "\n",
    "<br>\n",
    "\n",
    "예를 들어 11개의 아파트가 쭉 늘어서 있고, [4, 11] 번째 아파트 옥상에는 4g 기지국이 설치되어 있습니다. <br>\n",
    "만약 이 4g 기지국이 전파 도달 거리가 1인 5g 기지국으로 바뀔 경우 모든 아파트에 전파를 전달할 수 없습니다. <br>\n",
    "(전파의 도달 거리가 W일 땐, 기지국이 설치된 아파트를 기준으로 전파를 양쪽으로 W만큼 전달할 수 있습니다.)<br>\n",
    "\n",
    "<br>\n",
    "\n",
    "- 초기에, 1, 2, 6, 7, 8, 9번째 아파트에는 전파가 전달되지 않습니다. <br>\n",
    "    <img src=\"https://grepp-programmers.s3.ap-northeast-2.amazonaws.com/files/production/fcb45e06-ebb2-4d93-98cc-b6203185e933/%E1%84%80%E1%85%B5%E1%84%8C%E1%85%B5%E1%84%80%E1%85%AE%E1%86%A8%E1%84%89%E1%85%A5%E1%86%AF%E1%84%8E%E1%85%B51_pvskxt.png\">\n",
    "\n",
    "- 1, 7, 9번째 아파트 옥상에 기지국을 설치할 경우, 모든 아파트에 전파를 전달할 수 있습니다. <br>\n",
    "    <img src=\"https://grepp-programmers.s3.ap-northeast-2.amazonaws.com/files/production/dd31ddb8-f50d-404c-a6f5-8d6a1d88f620/%E1%84%80%E1%85%B5%E1%84%8C%E1%85%B5%E1%84%80%E1%85%AE%E1%86%A8%E1%84%89%E1%85%A5%E1%86%AF%E1%84%8E%E1%85%B52_kml0pb.png\">\n",
    "\n",
    "- 3개의 아파트보다 더 많은 아파트 옥상에 기지국을 설치할 경우에도 모든 아파트에 전파를 전달할 수 있습니다. <br>\n",
    "    <img src=\"https://grepp-programmers.s3.ap-northeast-2.amazonaws.com/files/production/f5801b12-f683-422d-b26f-5e23e72915dc/%E1%84%80%E1%85%B5%E1%84%8C%E1%85%B5%E1%84%80%E1%85%AE%E1%86%A8%E1%84%89%E1%85%A5%E1%86%AF%E1%84%8E%E1%85%B53_xhv7r3.png\">\n",
    "\n",
    "<br>\n",
    "\n",
    "이때, 우리는 기지국을 최소로 설치하면서 모든 아파트에 전파를 전달하려고 합니다. <br>\n",
    "위의 예시에선 최소 3개의 아파트 옥상에 기지국을 설치해야 모든 아파트에 전파를 전달할 수 있습니다. <br>\n",
    "\n",
    "<br>\n",
    "\n",
    "아파트의 개수 N, 현재 기지국이 설치된 아파트의 번호가 담긴 1차원 배열 stations, 전파의 도달 거리 W가 매개변수로 주어질 때, <br>\n",
    "모든 아파트에 전파를 전달하기 위해 증설해야 할 기지국 개수의 최솟값을 리턴하는 solution 함수를 완성해주세요\n",
    "\n",
    "<br>\n",
    "\n",
    "## 제한사항\n",
    "\n",
    "- N: 200,000,000 이하의 자연수\n",
    "- stations의 크기: 10,000 이하의 자연수\n",
    "- stations는 오름차순으로 정렬되어 있고, 배열에 담긴 수는 N보다 같거나 작은 자연수입니다.\n",
    "- W: 10,000 이하의 자연수\n",
    "\n",
    "<br>\n",
    "\n",
    "## 입출력 예\n",
    "\n",
    "| N | stations | W | answer |\n",
    "| :-: | :-: | :-: | :-: |\n",
    "| 11 | `[4, 11]` | 1 | 3 |\n",
    "| 16 | `[9]` | 2 | 3 |\n",
    "\n",
    "<br>\n",
    "\n",
    "## 입출력 예 설명\n",
    "\n",
    "### 입출력 예 #1\n",
    "\n",
    "문제의 예시와 같습니다\n",
    "\n",
    "### 입출력 예 #2\n",
    "\n",
    "초기에, 1~6, 12~16번째 아파트에는 전파가 전달되지 않습니다.<br>\n",
    "\n",
    "<img src=\"https://grepp-programmers.s3.ap-northeast-2.amazonaws.com/files/production/1d766102-f684-4643-bea2-02daea82e710/%E1%84%80%E1%85%B5%E1%84%8C%E1%85%B5%E1%84%80%E1%85%AE%E1%86%A8%E1%84%89%E1%85%A5%E1%86%AF%E1%84%8E%E1%85%B54_nqfrmm.png\">\n",
    "\n",
    "3, 6, 14번째 아파트 옥상에 기지국을 설치할 경우 모든 아파트에 전파를 전달할 수 있습니다.<br>\n",
    "\n",
    "<img src=\"https://grepp-programmers.s3.ap-northeast-2.amazonaws.com/files/production/bc7d4fdb-cb48-4f45-b2eb-977cfb2c54dd/%E1%84%80%E1%85%B5%E1%84%8C%E1%85%B5%E1%84%80%E1%85%AE%E1%86%A8%E1%84%89%E1%85%A5%E1%86%AF%E1%84%8E%E1%85%B55_zh4ebk.png\">\n",
    "\n"
   ],
   "cell_type": "markdown",
   "metadata": {}
  },
  {
   "source": [
    "# 풀이\n",
    "<br>\n",
    "\n",
    "아파트를 한 동씩 이동하며 전파가 전달되는지 확인하는 방법은 매우 비효율적이다.<br>\n",
    "기지국의 위치에 대한 `stations`가 오름차순으로 정렬되어 있으므로, `stations`를 차례대로 살펴보며 전파가 전달되지 못하는 동의 수를 확인한다.<br>\n",
    "\n",
    "초기 시작위치를 정하고 기지국에 의해 전파가 전달되지 못하는 아파트 수를 체크한 뒤 추가적으로 설치할 기지국의 수를 계속해서 더해간다.<br>\n",
    "\n",
    "<br>\n",
    "<br>"
   ],
   "cell_type": "markdown",
   "metadata": {}
  },
  {
   "cell_type": "code",
   "execution_count": null,
   "metadata": {},
   "outputs": [],
   "source": [
    "def solution(n, stations, w):\n",
    "    answer = 0\n",
    "    idx = 0\n",
    "    for s in stations:\n",
    "        if idx < s - 1 - w:\n",
    "            quotient, remainder = divmod(s-1-w-idx, (2*w+1))\n",
    "            answer += quotient + (remainder != 0)            \n",
    "        idx = s + w\n",
    "    if idx < n:\n",
    "        quotient, remainder = divmod(n-idx, (2*w+1))\n",
    "        answer += quotient + (remainder != 0)\n",
    "    return answer"
   ]
  },
  {
   "source": [
    "<img src=\"https://i.imgur.com/bY9hGyl.png\" width='20%'>"
   ],
   "cell_type": "markdown",
   "metadata": {}
  }
 ]
}