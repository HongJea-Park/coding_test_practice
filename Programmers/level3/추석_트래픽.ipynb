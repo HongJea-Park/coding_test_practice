{
 "metadata": {
  "language_info": {
   "codemirror_mode": {
    "name": "ipython",
    "version": 3
   },
   "file_extension": ".py",
   "mimetype": "text/x-python",
   "name": "python",
   "nbconvert_exporter": "python",
   "pygments_lexer": "ipython3",
   "version": "3.7.6-final"
  },
  "orig_nbformat": 2,
  "kernelspec": {
   "name": "python3",
   "display_name": "Python 3.7.6 64-bit ('base': conda)",
   "metadata": {
    "interpreter": {
     "hash": "40d5d32362b92e9fa6f2bbc8b592a2ac94ac65eb8071a87f096870c3b258260c"
    }
   }
  }
 },
 "nbformat": 4,
 "nbformat_minor": 2,
 "cells": [
  {
   "cell_type": "code",
   "execution_count": 1,
   "metadata": {},
   "outputs": [
    {
     "output_type": "display_data",
     "data": {
      "text/plain": "<IPython.core.display.HTML object>",
      "text/html": "<style>\ntable {margin-left: 0 !important;}\nimg {margin-left: 0 !important;}\n</style>\n"
     },
     "metadata": {}
    }
   ],
   "source": [
    "%%html\n",
    "<style>\n",
    "table {margin-left: 0 !important;}\n",
    "img {margin-left: 0 !important;}\n",
    "</style>"
   ]
  },
  {
   "source": [
    "# (1차) 추석 트래픽\n",
    "\n",
    "[링크](https://programmers.co.kr/learn/courses/30/lessons/17676)\n",
    "\n",
    "<br>\n",
    "\n",
    "## 문제 설명\n",
    "\n",
    "이번 추석에도 시스템 장애가 없는 명절을 보내고 싶은 어피치는 서버를 증설해야 할지 고민이다. <br>\n",
    "장애 대비용 서버 증설 여부를 결정하기 위해 작년 추석 기간인 9월 15일 로그 데이터를 분석한 후 초당 최대 처리량을 계산해보기로 했다. <br>\n",
    "초당 최대 처리량은 요청의 응답 완료 여부에 관계없이 임의 시간부터 1초(=1,000밀리초)간 처리하는 요청의 최대 개수를 의미한다.<br>\n",
    "\n",
    "## 입력 형식\n",
    "\n",
    "- `solution` 함수에 전달되는 `lines` 배열은 N(1 ≦ N ≦ 2,000)개의 로그 문자열로 되어 있으며, 각 로그 문자열마다 요청에 대한 응답완료시간 S와 처리시간 T가 공백으로 구분되어 있다.\n",
    "- 응답완료시간 S는 작년 추석인 2016년 9월 15일만 포함하여 고정 길이 `2016-09-15 hh:mm:ss.sss` 형식으로 되어 있다.\n",
    "- 처리시간 T는 `0.1s`, `0.312s`, `2s` 와 같이 최대 소수점 셋째 자리까지 기록하며 뒤에는 초 단위를 의미하는 s로 끝난다.\n",
    "- 예를 들어, 로그 문자열 `2016-09-15 03:10:33.020 0.011s`은 \"2016년 9월 15일 오전 3시 10분 33.010초\"부터 \"2016년 9월 15일 오전 3시 10분 33.020초\"까지 \"0.011초\" 동안 처리된 요청을 의미한다. (처리시간은 시작시간과 끝시간을 포함)\n",
    "- 서버에는 타임아웃이 3초로 적용되어 있기 때문에 처리시간은 0.001 ≦ T ≦ 3.000이다.\n",
    "- `lines` 배열은 응답완료시간 S를 기준으로 오름차순 정렬되어 있다.\n",
    "\n",
    "<br>\n",
    "\n",
    "## 출력 형식\n",
    "\n",
    "- `solution` 함수에서는 로그 데이터 `lines` 배열에 대해 초당 최대 처리량을 리턴한다.\n",
    "\n",
    "<br>\n",
    "\n",
    "## 입출력 예제\n",
    "\n",
    "### 예제1\n",
    "\n",
    "- 입력: \n",
    "        ```\n",
    "        [\n",
    "        \"2016-09-15 01:00:04.001 2.0s\", \n",
    "        \"2016-09-15 01:00:07.000 2s\"\n",
    "        ]\n",
    "        ```\n",
    "\n",
    "- 출력: 1\n",
    "\n",
    "<br>\n",
    "\n",
    "### 예제2\n",
    "\n",
    "- 입력: \n",
    "        ```\n",
    "        [\n",
    "        \"2016-09-15 01:00:04.002 2.0s\",\n",
    "        \"2016-09-15 01:00:07.000 2s\"\n",
    "        ]\n",
    "        ```\n",
    "\n",
    "- 출력: 2\n",
    "\n",
    "- 설명: <br>\n",
    "        처리시간은 시작시간과 끝시간을 포함하므로 <br>\n",
    "        첫 번째 로그는 `01:00:02.003 ~ 01:00:04.002`에서 2초 동안 처리되었으며, <br>\n",
    "        두 번째 로그는 `01:00:05.001 ~ 01:00:07.000`에서 2초 동안 처리된다. <br>\n",
    "        따라서, 첫 번째 로그가 끝나는 시점과 두 번째 로그가 시작하는 시점의 구간인 `01:00:04.002 ~ 01:00:05.001` 1초 동안 최대 2개가 된다. <br>\n",
    "\n",
    "<br>\n",
    "\n",
    "### 예제3\n",
    "\n",
    "- 입력: \n",
    "        ```\n",
    "        [\n",
    "        \"2016-09-15 20:59:57.421 0.351s\",\n",
    "        \"2016-09-15 20:59:58.233 1.181s\",\n",
    "        \"2016-09-15 20:59:58.299 0.8s\",\n",
    "        \"2016-09-15 20:59:58.688 1.041s\",\n",
    "        \"2016-09-15 20:59:59.591 1.412s\",\n",
    "        \"2016-09-15 21:00:00.464 1.466s\",\n",
    "        \"2016-09-15 21:00:00.741 1.581s\",\n",
    "        \"2016-09-15 21:00:00.748 2.31s\",\n",
    "        \"2016-09-15 21:00:00.966 0.381s\",\n",
    "        \"2016-09-15 21:00:02.066 2.62s\"\n",
    "        ]\n",
    "        ```\n",
    "\n",
    "- 출력: 7\n",
    "\n",
    "- 설명: <br>\n",
    "        아래 타임라인 그림에서 빨간색으로 표시된 1초 각 구간의 처리량을 구해보면 (1)은 4개, (2)는 7개, (3)는 2개임을 알 수 있다. <br>\n",
    "        따라서 초당 최대 처리량은 7이 되며, 동일한 최대 처리량을 갖는 1초 구간은 여러 개 존재할 수 있으므로 이 문제에서는 구간이 아닌 개수만 출력한다.<br>\n",
    "        <br>\n",
    "        <img src=\"http://t1.kakaocdn.net/welcome2018/chuseok-01-v5.png\">\n",
    "\n"
   ],
   "cell_type": "markdown",
   "metadata": {}
  },
  {
   "source": [
    "# 풀이\n",
    "<br>\n",
    "\n",
    "특별한 알고리즘을 활용하여 푸는 문제보다는, 문제 조건을 천천히 따라가다보면 풀 수 있는 문제라고 생각한다.<br>\n",
    "다만 sliding window방식으로 1초씩 움직이며 카운트를 한다면 매우 오래걸릴 수 밖에 없다.<br>\n",
    "하루를 초 단위로 환산하면 `60*60*24` 이며, 매 초마다 `lines`의 모든 트래픽과 비교해야하기 때문에 이러한 접근은 효율성 테스트를 절대 통과할 수 없다.<br>\n",
    "\n",
    "<br>\n",
    "\n",
    "이 문제를 효율적으로 풀기 위해서는 트래픽 단위로 확인을 해야한다.<br>\n",
    "트래픽의 시작점과 끝점을 통해 해당 트래픽이 존재하는 시간에 카운트를 해준다면 효율적인 접근법이 될 수 있다.<br>\n",
    "dictionary를 이용하여 트래픽이 존재하는 시간에 값들을 순차적으로 저장하면 풀 수 있다.<br>\n",
    "\n",
    "<br>\n",
    "<br>"
   ],
   "cell_type": "markdown",
   "metadata": {}
  },
  {
   "cell_type": "code",
   "execution_count": null,
   "metadata": {},
   "outputs": [],
   "source": [
    "def solution(lines):\n",
    "    record = {}\n",
    "    num_lines = len(lines)\n",
    "    for i in range(num_lines):\n",
    "        h, m, s = lines[i][11:].split(':')\n",
    "        s, p = s[:-1].split()\n",
    "        end = int(h)*3600 + int(m)*60 + float(s)\n",
    "        start = end - float(p)\n",
    "        for i in range(int(float(p)) + (float(p)-int(float(p)) != 0)):\n",
    "            record.setdefault(start+i, 0)\n",
    "            record.setdefault(end-i, 0)\n",
    "        for key in record.keys():\n",
    "            if ((key <= start and start < key+0.999) or\n",
    "                (key <= end and end < key+0.999) or\n",
    "                (start <= key and key+0.999 < end)):\n",
    "                record[key] += 1\n",
    "    return max(record.values())"
   ]
  },
  {
   "source": [
    "<img src=\"https://i.imgur.com/DkJIwLS.png\">"
   ],
   "cell_type": "markdown",
   "metadata": {}
  }
 ]
}