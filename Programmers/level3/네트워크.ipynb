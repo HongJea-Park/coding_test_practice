{
 "metadata": {
  "language_info": {
   "codemirror_mode": {
    "name": "ipython",
    "version": 3
   },
   "file_extension": ".py",
   "mimetype": "text/x-python",
   "name": "python",
   "nbconvert_exporter": "python",
   "pygments_lexer": "ipython3",
   "version": "3.7.6-final"
  },
  "orig_nbformat": 2,
  "kernelspec": {
   "name": "python3",
   "display_name": "Python 3.7.6 64-bit ('base': conda)",
   "metadata": {
    "interpreter": {
     "hash": "40d5d32362b92e9fa6f2bbc8b592a2ac94ac65eb8071a87f096870c3b258260c"
    }
   }
  }
 },
 "nbformat": 4,
 "nbformat_minor": 2,
 "cells": [
  {
   "cell_type": "code",
   "execution_count": 1,
   "metadata": {},
   "outputs": [
    {
     "output_type": "display_data",
     "data": {
      "text/plain": "<IPython.core.display.HTML object>",
      "text/html": "<style>\ntable {margin-left: 0 !important;}\nimg {margin-left: 0 !important;}\n</style>\n"
     },
     "metadata": {}
    }
   ],
   "source": [
    "%%html\n",
    "<style>\n",
    "table {margin-left: 0 !important;}\n",
    "img {margin-left: 0 !important;}\n",
    "</style>"
   ]
  },
  {
   "source": [
    "# 네트워크\n",
    "\n",
    "[링크](https://programmers.co.kr/learn/courses/30/lessons/43162)\n",
    "\n",
    "<br>\n",
    "\n",
    "## 문제 설명\n",
    "\n",
    "네트워크란 컴퓨터 상호 간에 정보를 교환할 수 있도록 연결된 형태를 의미합니다. <br>\n",
    "예를 들어, 컴퓨터 A와 컴퓨터 B가 직접적으로 연결되어있고, 컴퓨터 B와 컴퓨터 C가 직접적으로 연결되어 있을 때 컴퓨터 A와 컴퓨터 C도 간접적으로 연결되어 정보를 교환할 수 있습니다. <br>\n",
    "따라서 컴퓨터 A, B, C는 모두 같은 네트워크 상에 있다고 할 수 있습니다.<br>\n",
    "\n",
    "컴퓨터의 개수 n, 연결에 대한 정보가 담긴 2차원 배열 computers가 매개변수로 주어질 때, 네트워크의 개수를 return 하도록 solution 함수를 작성하시오.<br>\n",
    "\n",
    "<br>\n",
    "\n",
    "## 제한사항\n",
    "\n",
    "- 컴퓨터의 개수 n은 1 이상 200 이하인 자연수입니다.\n",
    "- 각 컴퓨터는 0부터 n-1인 정수로 표현합니다.\n",
    "- i번 컴퓨터와 j번 컴퓨터가 연결되어 있으면 `computers[i][j]`를 1로 표현합니다.\n",
    "- `computer[i][i]`는 항상 1입니다.\n",
    "\n",
    "<br>\n",
    "\n",
    "## 입출력 예\n",
    "\n",
    "| n | computers | return |\n",
    "| :-: | :-: | :-: |\n",
    "| 3\t| `[[1, 1, 0], [1, 1, 0], [0, 0, 1]]` | 2 |\n",
    "| 3\t| `[[1, 1, 0], [1, 1, 1], [0, 1, 1]]` | 1 |\n",
    "\n",
    "<br>\n",
    "\n",
    "## 입출력 예 설명\n",
    "\n",
    "### 예제 #1\n",
    "\n",
    "아래와 같이 2개의 네트워크가 있습니다.\n",
    "\n",
    "<img src='https://grepp-programmers.s3.amazonaws.com/files/ybm/5b61d6ca97/cc1e7816-b6d7-4649-98e0-e95ea2007fd7.png'>\n",
    "\n",
    "<br>\n",
    "\n",
    "### 예제 #2\n",
    "\n",
    "아래와 같이 1개의 네트워크가 있습니다.\n",
    "\n",
    "<img src='https://grepp-programmers.s3.amazonaws.com/files/ybm/7554746da2/edb61632-59f4-4799-9154-de9ca98c9e55.png'>"
   ],
   "cell_type": "markdown",
   "metadata": {}
  },
  {
   "source": [
    "# 풀이\n",
    "<br>\n",
    "\n",
    "노드와 엣지로 구성된 그래프(네트워크)에서 DFS나 BFS를 통해 그래프를 탐색하면, 연결된 모든 노드들을 확인할 수 있다.<br>\n",
    "DFS 혹은 BFS를 통해 모든 노드들을 탐색한다면, 문제에서 요구하는 네트워크의 갯수를 셀 수 있다.\n",
    "\n",
    "<br>\n",
    "<br>"
   ],
   "cell_type": "markdown",
   "metadata": {}
  },
  {
   "cell_type": "code",
   "execution_count": null,
   "metadata": {},
   "outputs": [],
   "source": [
    "from collections import deque\n",
    "\n",
    "\n",
    "def bfs(n, computers):\n",
    "    answer, queue, visited = 0, deque([]), set()\n",
    "    comList = [i for i in range(n)]\n",
    "    while len(visited) < n:\n",
    "        nextCom = comList.pop()\n",
    "        if nextCom not in visited:\n",
    "            queue.append(nextCom)\n",
    "            while queue:\n",
    "                idx = queue.popleft()\n",
    "                visited.add(idx)\n",
    "                for com, connected in enumerate(computers[idx]):\n",
    "                    if com not in visited and connected:\n",
    "                        queue.append(com)\n",
    "            answer += 1\n",
    "    return answer    \n",
    "\n",
    "\n",
    "def dfs(n, computers):\n",
    "    answer, stack, visited = 0, [], set()\n",
    "    comList = [i for i in range(n)]\n",
    "    while len(visited) < n:\n",
    "        nextCom = comList.pop()\n",
    "        if nextCom not in visited:\n",
    "            stack.append(nextCom)\n",
    "            while stack:\n",
    "                idx = stack.pop()\n",
    "                visited.add(idx)\n",
    "                for com, connected in enumerate(computers[idx]):\n",
    "                    if com not in visited and connected:\n",
    "                        stack.append(com)\n",
    "            answer += 1\n",
    "    return answer\n",
    "\n",
    "\n",
    "def solution(n, computers):\n",
    "    return bfs(n, computers)"
   ]
  },
  {
   "source": [
    "### DFS를 활용한 결과\n",
    "\n",
    "<img src='https://i.imgur.com/qPk8H76.png'>\n",
    "\n",
    "<br>\n",
    "\n",
    "### BFS를 활용한 결과\n",
    "\n",
    "<img src='https://i.imgur.com/REtGItr.png'>"
   ],
   "cell_type": "markdown",
   "metadata": {}
  }
 ]
}