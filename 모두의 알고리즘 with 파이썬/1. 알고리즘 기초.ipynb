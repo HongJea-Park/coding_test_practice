{
 "cells": [
  {
   "cell_type": "markdown",
   "metadata": {},
   "source": [
    "# 1. 알고리즘 기초"
   ]
  },
  {
   "cell_type": "markdown",
   "metadata": {},
   "source": [
    "## Prmblem 1"
   ]
  },
  {
   "cell_type": "markdown",
   "metadata": {},
   "source": [
    "### Problem 1.1\n",
    "\n",
    "1부터 n까지 연속한 숫자의 제곱의 합을 구하는 프로그램을 for 반복문으로 만들어 보세요.\n",
    "(예를 들어 n = 10 이라면 $1^2 + 2^2 + 3^2 + \\cdots + 10^2 = 385$를 계산하는 프로그램입니다.)"
   ]
  },
  {
   "cell_type": "code",
   "execution_count": 3,
   "metadata": {
    "tags": []
   },
   "outputs": [
    {
     "output_type": "stream",
     "name": "stdout",
     "text": "1.9520011846907437e-06\n0.28985527400072897\n"
    }
   ],
   "source": [
    "from timeit import timeit\n",
    "\n",
    "\n",
    "def sum_of_squared_equation(n: int):\n",
    "\n",
    "    return n*(n+1)*(2*n+1)//6\n",
    "\n",
    "\n",
    "def sum_of_squared_for(n: int):\n",
    "\n",
    "    s = 0\n",
    "    for i in range(int(n)):\n",
    "        s += (i+1)**2\n",
    "    return s\n",
    "\n",
    "\n",
    "print(timeit('sum_of_squared_equation(10**6)',\n",
    "             setup='from __main__ import sum_of_squared_equation',\n",
    "             number=1))\n",
    "print(timeit('sum_of_squared_for(10**6)',\n",
    "             setup='from __main__ import sum_of_squared_for',\n",
    "             number=1))"
   ]
  },
  {
   "cell_type": "markdown",
   "metadata": {},
   "source": [
    "### Problem 1.2\n",
    "\n",
    "연습문제 1-1 프로그램의 계산 복잡도는 $O(1)$과 $O(n)$ 중 무엇일까요?\n",
    "\n",
    "\n",
    "$O(n)$"
   ]
  },
  {
   "cell_type": "markdown",
   "metadata": {},
   "source": [
    "### Problem 1.3\n",
    "\n",
    "1부터 n까지 연속한 숫자의 제곱의 합을 구하는 공식은 $n(n+1)(2n+1)\\over6$로 알려져 있습니다. \n",
    "for 반복문 대신 이 공식을 이용하면 알고리즘의 계산 복잡도는 $O(1)$과 $O(n)$ 중 무엇이 될까요?\n",
    "\n",
    "$O(1)$"
   ]
  },
  {
   "cell_type": "markdown",
   "metadata": {},
   "source": [
    "## Problem 2\n",
    "\n",
    "숫자 n개를 리스트로 입력받아 최솟값을 구하는 프로그램을 만들어 보세요.\n"
   ]
  },
  {
   "cell_type": "code",
   "execution_count": 4,
   "metadata": {
    "tags": []
   },
   "outputs": [
    {
     "output_type": "stream",
     "name": "stdout",
     "text": "0.14449758300179383\n0.07900530899860314\n0.0006214079985511489\n"
    }
   ],
   "source": [
    "import numpy as np\n",
    "from timeit import timeit\n",
    "\n",
    "\n",
    "def find_min(a: list):\n",
    "\n",
    "    min_ = a[0]\n",
    "    for i in range(1, len(a)):\n",
    "        if min_ > a[i]:\n",
    "            min_ = a[i]\n",
    "\n",
    "    return min_\n",
    "\n",
    "\n",
    "a = np.random.normal(size=10**6)\n",
    "\n",
    "print(timeit('find_min(a)',\n",
    "             setup='from __main__ import find_min, a',\n",
    "             number=1))\n",
    "print(timeit('min(a)',\n",
    "             setup='from __main__ import a',\n",
    "             number=1))\n",
    "print(timeit('a.min()',\n",
    "             setup='from __main__ import a',\n",
    "             number=1))\n"
   ]
  },
  {
   "cell_type": "markdown",
   "metadata": {},
   "source": [
    "## Problem 3\n",
    "\n"
   ]
  },
  {
   "cell_type": "markdown",
   "metadata": {},
   "source": [
    "### Problem 3.1\n",
    "\n",
    "n명 중 두 명을 뽑아 짝을 짓는다고 할 때 짝을 지을 수 있는 모든 조합을 출력하는 알고리즘을 만들어 보세요.\n",
    "\n",
    "예를 들어 입력이 리스트 `[\"Tom\", \"Jerry\", \"Mike\"]` 라면 다음과 같은 세 가지 경우를 출력합니다.\n",
    "\n",
    "`Tom - Jerry`\n",
    "\n",
    "`Tom - Mike`\n",
    "\n",
    "`Jerry - Mike`"
   ]
  },
  {
   "cell_type": "code",
   "execution_count": 5,
   "metadata": {
    "tags": []
   },
   "outputs": [
    {
     "output_type": "stream",
     "name": "stdout",
     "text": "True\n0.4075862239988055\n0.0431051599989587\n"
    }
   ],
   "source": [
    "import numpy as np\n",
    "from itertools import combinations\n",
    "from timeit import timeit\n",
    "\n",
    "\n",
    "def find_combinations(a: list):\n",
    "\n",
    "    combination_list = []\n",
    "\n",
    "    for i in range(len(a)-1):\n",
    "        for j in range(i+1, len(a)):\n",
    "            combination_list.append(f'{a[i]}-{a[j]}')\n",
    "\n",
    "    return combination_list\n",
    "\n",
    "\n",
    "a = np.arange(1000)\n",
    "\n",
    "print(len(find_combinations(a)) == len(list(combinations(a, 2))))\n",
    "print(timeit('find_combinations(a)',\n",
    "             setup='from __main__ import find_combinations, a',\n",
    "             number=1))\n",
    "print(timeit('list(combinations(a, 2))',\n",
    "             setup='from itertools import combinations;from __main__ import a',\n",
    "             number=1))"
   ]
  },
  {
   "cell_type": "markdown",
   "metadata": {},
   "source": [
    "### Problem 3.2\n",
    "\n",
    "다음 식을 각각 대문자 O 표기법으로 표현해 보세요.\n",
    "\n",
    "A. 65536\n",
    "    → $O(1)$\n",
    "\n",
    "B. $n-1$\n",
    "    → $O(n)$\n",
    "\n",
    "C. ${2n^2\\over3} + 10000n$\n",
    "    → $O(n^2)$\n",
    "\n",
    "D. $3n^4 - 4n^3 + 5n^2 - 6n + 7$\n",
    "    → $O(n^4)$"
   ]
  }
 ],
 "metadata": {
  "language_info": {
   "codemirror_mode": {
    "name": "ipython",
    "version": 3
   },
   "file_extension": ".py",
   "mimetype": "text/x-python",
   "name": "python",
   "nbconvert_exporter": "python",
   "pygments_lexer": "ipython3",
   "version": "3.7.6-final"
  },
  "orig_nbformat": 2,
  "kernelspec": {
   "name": "python_defaultSpec_1594858922358",
   "display_name": "Python 3.7.6 64-bit ('base': conda)"
  }
 },
 "nbformat": 4,
 "nbformat_minor": 2
}