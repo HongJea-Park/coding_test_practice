{
 "cells": [
  {
   "cell_type": "markdown",
   "metadata": {},
   "source": [
    "# 2. 재귀 호출"
   ]
  },
  {
   "cell_type": "markdown",
   "metadata": {},
   "source": [
    "## Problem 4"
   ]
  },
  {
   "cell_type": "markdown",
   "metadata": {},
   "source": [
    "### Problem 4.1\n",
    "\n",
    "`문제-01`의 1부터 n까지의 합 구하기를 재귀 호출로 만들어 보세요."
   ]
  },
  {
   "cell_type": "code",
   "execution_count": 2,
   "metadata": {
    "tags": []
   },
   "outputs": [
    {
     "output_type": "stream",
     "name": "stdout",
     "text": "0.0011231930000121793\n1.3699999783511885e-06\n0.00021192799999880663\n"
    }
   ],
   "source": [
    "import sys\n",
    "from timeit import timeit\n",
    "\n",
    "sys.setrecursionlimit(3000)  # 파이썬 내부 함수 재귀호출 횟수제한을 늘려줌\n",
    "\n",
    "\n",
    "def sum_recursive(n: int):\n",
    "\n",
    "    if n == 1:\n",
    "        return 1\n",
    "    return n + sum_recursive(n-1)\n",
    "\n",
    "\n",
    "# 문제-01\n",
    "def sum_equation(n: int):\n",
    "\n",
    "    return n*(n+1)//2\n",
    "\n",
    "\n",
    "def sum_for(n: int):\n",
    "\n",
    "    s = 0\n",
    "    for i in range(int(n)):\n",
    "        s += (i+1)\n",
    "    return s\n",
    "\n",
    "\n",
    "n = 2000\n",
    "\n",
    "print(timeit('sum_recursive(n)',\n",
    "             setup='from __main__ import sum_recursive, n',\n",
    "             number=1))\n",
    "print(timeit('sum_equation(n)',\n",
    "             setup='from __main__ import sum_equation, n',\n",
    "             number=1))\n",
    "print(timeit('sum_for(n)',\n",
    "             setup='from __main__ import sum_for, n',\n",
    "             number=1))"
   ]
  },
  {
   "cell_type": "markdown",
   "metadata": {},
   "source": [
    "- Python의 함수 재귀 호출은 사용자가 실수로 무한번 호출하는 경우에 대비해여 1,000번으로 제한되어 있다고 한다. <br>1,000번 이상 함수를 호출하게 되면 `RecursionError: maximum recursion depth exceeded in comparison` 가 발생한다. <br>이 횟수 제한을 늘려주기 위해 `sys`모듈의 `setrecursionlimit`함수에 원하는 제한 횟수를 넣어 설정을 바꿀 수 있다. <br>하지만 시스템 상의 이러한 변동은 매우 위험하기에 너무 큰 숫자로 셋팅하는 것은 좋지 않다고 한다. \n",
    "(출처: [stackoverflow](https://stackoverflow.com/questions/3323001/what-is-the-maximum-recursion-depth-in-python-and-how-to-increase-it))"
   ]
  },
  {
   "cell_type": "markdown",
   "metadata": {},
   "source": [
    "### Problem 4.2\n",
    "\n",
    "`문제-02`의 숫자 n개 중에서 최댓값 찾기를 재귀 호출로 만들어 보세요."
   ]
  },
  {
   "cell_type": "code",
   "execution_count": 3,
   "metadata": {
    "tags": []
   },
   "outputs": [
    {
     "output_type": "stream",
     "name": "stdout",
     "text": "0.0017004610000412868\n0.00036459599999716374\n0.00020823400001290793\n5.095800003118711e-05\n"
    }
   ],
   "source": [
    "import sys\n",
    "import numpy as np\n",
    "from timeit import timeit\n",
    "\n",
    "sys.setrecursionlimit(3000)\n",
    "\n",
    "\n",
    "def find_max_recursive(a: list):\n",
    "\n",
    "    if len(a) == 1:\n",
    "        return a[0]\n",
    "\n",
    "    max_ = find_max_recursive(a[1:])\n",
    "\n",
    "    if a[0] > max_:\n",
    "        return a[0]\n",
    "    else:\n",
    "        return max_\n",
    "\n",
    "\n",
    "# 문제-02\n",
    "def find_max_for(a: list):\n",
    "\n",
    "    max_ = a[0]\n",
    "    for i in range(1, len(a)):\n",
    "        if max_ < a[i]:\n",
    "            max_ = a[i]\n",
    "\n",
    "    return max_\n",
    "\n",
    "\n",
    "a = np.random.normal(size=2000)\n",
    "\n",
    "print(timeit('find_max_recursive(a)',\n",
    "             setup='from __main__ import find_max_recursive, a',\n",
    "             number=1))\n",
    "print(timeit('find_max_for(a)',\n",
    "             setup='from __main__ import find_max_for, a',\n",
    "             number=1))\n",
    "print(timeit('max(a)',\n",
    "             setup='from __main__ import a',\n",
    "             number=1))\n",
    "print(timeit('a.max()',\n",
    "             setup='from __main__ import a',\n",
    "             number=1))\n"
   ]
  },
  {
   "cell_type": "markdown",
   "metadata": {},
   "source": [
    "## Problem 5"
   ]
  },
  {
   "cell_type": "markdown",
   "metadata": {},
   "source": [
    "### Problem 5.1\n",
    "\n",
    "0과 1부터 시작해서 바로 앞의 두 수를 더한 값을 다음 값으로 추가하는 방식으로 만든 수열을 피보나치 수열이라고 합니다. 즉, $0+1=1$, $1+1=2$, $1+2=3$이므로 피보나치 수열은 다음과 같습니다. <br>\n",
    "<br> $0, 1, 1, 2, 3, 5, 8, 13, 21, 34, 55, \\cdots$ <br><br>\n",
    "피보나치 수열이 파이썬의 리스트처럼 0번부터 시작한다고 가정을 할 때 n번째 피보나치 수를 구하는 알고리즘을 재귀 호출을 이용해서 구현해 보세요.(힌트: 7번 값 = 5번 값 + 6번 값)\n"
   ]
  },
  {
   "cell_type": "code",
   "execution_count": 4,
   "metadata": {
    "tags": []
   },
   "outputs": [
    {
     "output_type": "stream",
     "name": "stdout",
     "text": "0.28231854800003475\n6.960999996863393e-06\n"
    }
   ],
   "source": [
    "from timeit import timeit\n",
    "\n",
    "\n",
    "def fibo_recursive(n: int):\n",
    "\n",
    "    return fibo_recursive(n-1) + fibo_recursive(n-2) if n >= 2 else n\n",
    "\n",
    "\n",
    "def fibo_for(n: int):\n",
    "\n",
    "    a = [0, 1]\n",
    "    if n >= 2:\n",
    "        for _ in range(2, n+1):\n",
    "            a.append(a[-1]+a[-2])\n",
    "\n",
    "    return a[-1]\n",
    "\n",
    "\n",
    "n = 30\n",
    "\n",
    "print(timeit('fibo_recursive(n)',\n",
    "             setup='from __main__ import fibo_recursive, n',\n",
    "             number=1))\n",
    "print(timeit('fibo_for(n)',\n",
    "             setup='from __main__ import fibo_for, n',\n",
    "             number=1))"
   ]
  },
  {
   "cell_type": "markdown",
   "metadata": {},
   "source": [
    "- 재귀호출을 이용하여 함수를 구현하면, 함수가 한번 호출될 때마다 2번씩 자기 자신을 다시 호출하기 때문에 시간 복잡도는 $O(2^n)$가 된다. \n",
    "<br>exponentially하게 증가하기 때문에 n이 조금만 커져도 계산이 엄청 오래걸린다. \n",
    "<br>\n",
    "- 이러한 문제의 경우 list와 for문을 활용한 경우가 효율성 측면에서는 이점이 커 보인다. \n",
    "<br>input `n` 만큼 for문을 반복하면 되기 때문에 시간 복잡도는 $O(n)$이 되어 훨씬 효율적이다. \n",
    "<br> 다만 `n` 까지의 모든 피보나치 수열을 리스트에 담아야하기 때문에 메모리를 상대적으로 많이 사용한다는 점은 단점으로 보인다."
   ]
  },
  {
   "cell_type": "markdown",
   "metadata": {},
   "source": [
    "## Problem 6"
   ]
  },
  {
   "cell_type": "markdown",
   "metadata": {},
   "source": [
    "~~재귀 호출의 원리는 컴퓨터 그래픽에서도 많이 사용됩니다. 다음 그림은 모두 재귀 호출을 이용해서 만든 컴퓨터 그래픽입니다.~~\n",
    "<br> ![https://thebook.io/img/006935/078.jpg](https://thebook.io/img/006935/078.jpg) <br>\n",
    "<br>~~재귀 호출로 어떻게 이런 그림을 그릴 수 있을지 상상해보고 부록 D에 있는 '재귀 호출을 이용한 그림 그리기' 부분을 읽어 보세요.~~"
   ]
  }
 ],
 "metadata": {
  "kernelspec": {
   "name": "python_defaultSpec_1594880553445",
   "display_name": "Python 3.7.6 64-bit ('base': conda)"
  }
 },
 "nbformat": 4,
 "nbformat_minor": 4
}