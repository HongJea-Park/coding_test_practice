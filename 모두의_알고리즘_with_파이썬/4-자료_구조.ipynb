{
 "metadata": {
  "language_info": {
   "codemirror_mode": {
    "name": "ipython",
    "version": 3
   },
   "file_extension": ".py",
   "mimetype": "text/x-python",
   "name": "python",
   "nbconvert_exporter": "python",
   "pygments_lexer": "ipython3",
   "version": 3
  },
  "orig_nbformat": 2,
  "kernelspec": {
   "name": "python_defaultSpec_1595232412592",
   "display_name": "Python 3.7.6 64-bit ('base': conda)"
  }
 },
 "nbformat": 4,
 "nbformat_minor": 2,
 "cells": [
  {
   "cell_type": "markdown",
   "metadata": {},
   "source": [
    "# 자료 구조"
   ]
  },
  {
   "cell_type": "markdown",
   "metadata": {},
   "source": [
    "## Problem 13\n",
    "### Problem 13.1\n",
    "<br>\n",
    "\n",
    "큐와 스택을 이용하지 않고 회문인지 아닌지 판달할 수 있는 방법이 있습니다. 문장의 앞뒤를 차례로 비교하면서 각 문자가 같은지 확인하는 방법입니다. 이 방법으로 회문인지 아닌지 판단하는 알고리즘을 만들어 보세요. <br>\n",
    "**회문(Palindrome) : 순서대로 읽어도, 거꾸로 읽어도 그 내용이 같은 낱말이나 문장**\n",
    "\n",
    "| Input | Output |\n",
    "|:---:|:---:|\n",
    "| mom | `True` |\n",
    "| wow | `True` |\n",
    "| God's dog | `True`\n",
    "| Madam, I'm Adam | `True` |\n",
    "| Madam, I am Adam | `False` |\n"
   ]
  },
  {
   "cell_type": "code",
   "execution_count": 5,
   "metadata": {
    "tags": []
   },
   "outputs": [
    {
     "output_type": "stream",
     "name": "stdout",
     "text": "True\nTrue\nTrue\nTrue\nFalse\n0.00034750400027405703\n"
    }
   ],
   "source": [
    "from timeit import timeit\n",
    "\n",
    "\n",
    "def palindrome(text: str):\n",
    "\n",
    "    text = ''.join([s.lower() for s in text if s.isalpha()])\n",
    "\n",
    "    for i in range(len(text)//2):\n",
    "        if text[i] != text[-(i+1)]:\n",
    "            return False\n",
    "    return True\n",
    "\n",
    "\n",
    "def print_return(input_list: list):\n",
    "\n",
    "    for x in input_list:\n",
    "        print(palindrome(x))\n",
    "\n",
    "\n",
    "input_list = [\n",
    "    \"mom\",\n",
    "    \"wow\",\n",
    "    \"God's dog\",\n",
    "    \"Madam, I'm Adam\",\n",
    "    \"Madam, I am Adam\"\n",
    "]\n",
    "\n",
    "print(timeit(\n",
    "    stmt='print_return(input_list)',\n",
    "    setup='from __main__ import print_return, input_list',\n",
    "    number=1\n",
    "))\n"
   ]
  },
  {
   "cell_type": "markdown",
   "metadata": {},
   "source": [
    "## Problem 14\n",
    "### Problem 14.1\n",
    "<br>\n",
    "연습 문제 7-3에서 풀어 본 학생 번호로 학생 이름을 찾는 문제를 딕셔너리를 이용하여 풀어 보세요.<br>\n",
    "다음과 같이 학생 번호와 이름이 주어졌을 때 학생 번호를 입력하면 그 학생 번호에 해당하는 이름을 돌려주고, <br>\n",
    "해당하는 학생 번호가 없으면 물음표를 돌려줘야 합니다.<br>\n",
    "\n",
    "```\n",
    "39: Justin\n",
    "14: John\n",
    "67: Mike\n",
    "105: Summer\n",
    "```"
   ]
  },
  {
   "cell_type": "code",
   "execution_count": 6,
   "metadata": {
    "tags": []
   },
   "outputs": [
    {
     "output_type": "stream",
     "name": "stdout",
     "text": "Justin\nJohn\nMike\nSummer\n?\n?\n0.0003411919988138834\n"
    }
   ],
   "source": [
    "from timeit import timeit\n",
    "\n",
    "\n",
    "def get_stu_name(stu_no_list: list, stu_name_list: list, no: int):\n",
    "\n",
    "    stu_dict = {}\n",
    "\n",
    "    for name, num in zip(stu_name_list, stu_no_list):\n",
    "        stu_dict[num] = name\n",
    "\n",
    "    try:\n",
    "        return stu_dict[no]\n",
    "    except KeyError:\n",
    "        return '?'\n",
    "\n",
    "\n",
    "def print_return(stu_no_list: list, stu_name_list: list, no_list: list):\n",
    "\n",
    "    for no in no_list:\n",
    "        print(get_stu_name(stu_no_list, stu_name_list, no))\n",
    "\n",
    "\n",
    "input_dict = {\n",
    "    'stu_no_list': [39, 14, 67, 105],\n",
    "    'stu_name_list': ['Justin', 'John', 'Mike', 'Summer'],\n",
    "    'no_list': [39, 14, 67, 105, 99, 33]\n",
    "}\n",
    "\n",
    "print(timeit(\n",
    "    stmt='print_return(**input_dict)',\n",
    "    setup='from __main__ import print_return, input_dict',\n",
    "    number=1\n",
    "))\n"
   ]
  },
  {
   "cell_type": "markdown",
   "metadata": {},
   "source": [
    "## Problem 15\n",
    "### Problem 15.1\n",
    "<br>\n",
    "문제 15에서 배운 그래프 탐색 알고리즘을 이용하여 다음 그래프를 탐색하는 프로그램을 만들어 보세요. (시작 꼭짓점: 1)<br><br>\n",
    "\n",
    "\n",
    "<img src=\"https://imgur.com/1OJsotB.jpg\" width=\"20%\">\n"
   ]
  },
  {
   "cell_type": "code",
   "execution_count": 7,
   "metadata": {
    "tags": []
   },
   "outputs": [
    {
     "output_type": "stream",
     "name": "stdout",
     "text": "start node: 1\n-> 2\n-> 3\n-> 4\n-> 5\n0.00047599900062778033\n"
    }
   ],
   "source": [
    "from timeit import timeit\n",
    "\n",
    "\n",
    "def graph_search(graph: dict, node: int):\n",
    "\n",
    "    print(f'start node: {node}')\n",
    "    todo = graph[node].copy()\n",
    "    done = [node]\n",
    "\n",
    "    while todo:\n",
    "\n",
    "        node = todo.pop(0)\n",
    "        print(f'-> {node}')\n",
    "        for element in graph[node]:\n",
    "            if element not in done:\n",
    "                todo.append(element)\n",
    "        done.append(node)\n",
    "\n",
    "    return done\n",
    "\n",
    "\n",
    "graph = {\n",
    "    1: [2, 3],\n",
    "    2: [1, 4, 5],\n",
    "    3: [1],\n",
    "    4: [2],\n",
    "    5: [2]\n",
    "}\n",
    "\n",
    "print(timeit(\n",
    "    stmt='graph_search(graph, 1)',\n",
    "    setup='from __main__ import graph_search, graph',\n",
    "    number=1\n",
    "))\n"
   ]
  }
 ]
}