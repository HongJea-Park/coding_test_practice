{
 "metadata": {
  "language_info": {
   "codemirror_mode": {
    "name": "ipython",
    "version": 3
   },
   "file_extension": ".py",
   "mimetype": "text/x-python",
   "name": "python",
   "nbconvert_exporter": "python",
   "pygments_lexer": "ipython3",
   "version": 3
  },
  "orig_nbformat": 2,
  "kernelspec": {
   "name": "python_defaultSpec_1595272723397",
   "display_name": "Python 3.7.6 64-bit ('base': conda)"
  }
 },
 "nbformat": 4,
 "nbformat_minor": 2,
 "cells": [
  {
   "cell_type": "markdown",
   "metadata": {},
   "source": [
    "# 응용 문제"
   ]
  },
  {
   "cell_type": "markdown",
   "metadata": {},
   "source": [
    "## Problem 16\n",
    "### Problem 16.1\n",
    "<br>\n",
    "출발점 a에서 시작하여 벽으로 막히지 않은 위치로 차례로 이동하여 도착점 p에 이르는 가장 짧은 경로를 구하고, <br>\n",
    "그 과정에서 지나간 위치의 이름을 출력해 보세요.\n",
    "<br><br>\n",
    "<img src=\"https://imgur.com/jzYwn23.jpg\" width=\"20%\">\n"
   ]
  },
  {
   "cell_type": "code",
   "execution_count": 1,
   "metadata": {
    "tags": []
   },
   "outputs": [
    {
     "output_type": "stream",
     "name": "stdout",
     "text": "shortest path: aeimnjfghlp\n0.00020034000000013208\n"
    }
   ],
   "source": [
    "from timeit import timeit\n",
    "\n",
    "\n",
    "def get_shortest_path(graph: dict, start: str, end: str):\n",
    "\n",
    "    path, done, todo = start, set([start]), graph[start].copy()\n",
    "\n",
    "    while todo:\n",
    "\n",
    "        if path[-1] == end:\n",
    "            print(f'shortest path: {path}')\n",
    "            return path\n",
    "\n",
    "        diff = set(graph[path[-1]]).difference(done)\n",
    "        if diff:\n",
    "            node = todo.pop()\n",
    "            for element in graph[node]:\n",
    "                if element not in done:\n",
    "                    todo.append(element)\n",
    "            done.add(node)\n",
    "            path += node\n",
    "        else:\n",
    "            path = path[:-1]\n",
    "\n",
    "    print('there is no way')\n",
    "    return path\n",
    "\n",
    "\n",
    "graph = {\n",
    "    'a': ['e'],\n",
    "    'b': ['c', 'f'],\n",
    "    'c': ['b', 'd'],\n",
    "    'd': ['c'],\n",
    "    'e': ['a', 'i'],\n",
    "    'f': ['b', 'g', 'j'],\n",
    "    'g': ['f', 'h'],\n",
    "    'h': ['g', 'l'],\n",
    "    'i': ['e', 'm'],\n",
    "    'j': ['f', 'k', 'n'],\n",
    "    'k': ['j', 'o'],\n",
    "    'l': ['h', 'p'],\n",
    "    'm': ['i', 'n'],\n",
    "    'n': ['m', 'j'],\n",
    "    'o': ['k'],\n",
    "    'p': ['l']\n",
    "}\n",
    "start, end = 'a', 'p'\n",
    "input_dict = {\n",
    "    'graph': graph,\n",
    "    'start': start,\n",
    "    'end': end\n",
    "}\n",
    "\n",
    "print(timeit(\n",
    "    stmt='get_shortest_path(**input_dict)',\n",
    "    setup='from __main__ import get_shortest_path, input_dict',\n",
    "    number=1\n",
    "))\n"
   ]
  },
  {
   "cell_type": "markdown",
   "metadata": {},
   "source": [
    "## Problem 17\n",
    "### Problem 17.1\n",
    "<br>\n",
    "겉보기에는 똑같은 동전이 n개 있습니다. 이 중에서 한 개는 싸고 가벼운 재료로 만들어진 '가짜 동전'입니다. <br>\n",
    "좌우 무게를 비교할 수 있는 양팔 저울을 이용해서 다른 동전보다 가벼운 가짜 동전을 찾아내는 알고리즘을 만들어 보세요.<br>\n",
    "(교재에 input과 output 예제가 없으니 numpy로 임의의 array를 만들어서 진행하시면 될 듯 합니다.) <br>\n"
   ]
  },
  {
   "cell_type": "code",
   "execution_count": 3,
   "metadata": {
    "tags": []
   },
   "outputs": [
    {
     "output_type": "stream",
     "name": "stdout",
     "text": "Fake index: 15795\nFound index: 15795\nCheck if function is correct: True\nComputation time is\n0.13432150200003434\n"
    }
   ],
   "source": [
    "import numpy as np\n",
    "from timeit import timeit\n",
    "\n",
    "\n",
    "def scale(left, right):\n",
    "\n",
    "    if sum(left) == sum(right):\n",
    "        return 0\n",
    "    elif sum(left) < sum(right):\n",
    "        return -1\n",
    "    else:\n",
    "        return 1\n",
    "\n",
    "\n",
    "def find_faker(coins: list):\n",
    "\n",
    "    start, end = 0, len(coins)\n",
    "    state = 1\n",
    "\n",
    "    while end - start > 1:\n",
    "\n",
    "        q, r = divmod(start+end, 2)\n",
    "        left, right = coins[start:q], coins[q+r:end]\n",
    "        state = scale(left, right)\n",
    "\n",
    "        if state == 0:\n",
    "            return q\n",
    "        elif state < 0:\n",
    "            end = q\n",
    "        else:\n",
    "            start = q\n",
    "\n",
    "    return q - (state < 0)\n",
    "\n",
    "\n",
    "random_state = 42\n",
    "np.random.seed(random_state)\n",
    "num_coins = np.random.randint(0, 10**6)\n",
    "fake_index = np.random.randint(0, num_coins)\n",
    "coins = np.full_like(np.arange(num_coins), 2)\n",
    "coins[fake_index] -= 1\n",
    "\n",
    "stmt = 'print(f\"Fake index: {fake_index}\") \\n' \\\n",
    "    'print(f\"Found index: {find_faker(coins)}\") \\n' \\\n",
    "    'print(f\"Check if function is correct: {fake_index == find_faker(coins)}\") \\n' \\\n",
    "    'print(\"Computation time is\")'\n",
    "\n",
    "print(timeit(\n",
    "    stmt=stmt,\n",
    "    setup='from __main__ import find_faker, fake_index, coins',\n",
    "    number=1\n",
    "))\n"
   ]
  },
  {
   "cell_type": "markdown",
   "metadata": {},
   "source": [
    "## Problem 18\n",
    "### Problem 18.1\n",
    "<br>\n",
    "어떤 주식에 대해 특정 기간 동안의 가격 변화가 주어졌을 때, 그 주식 한 주를 한 번 사고 팔아 <br>\n",
    "얻을 수 있는 최대 수익을 계산하는 알고리즘을 만들어 보세요. <br>\n",
    "시간 순서에 주의하세요.<br>\n",
    "\n",
    "```python\n",
    "stock = [10300, 9600, 9800, 8200, 7800, 8300, 9500, 9800, 10200, 9500]\n",
    "```\n",
    "```plain text\n",
    "2400\n",
    "```"
   ]
  },
  {
   "cell_type": "code",
   "execution_count": 5,
   "metadata": {
    "tags": []
   },
   "outputs": [
    {
     "output_type": "stream",
     "name": "stdout",
     "text": "Function execution time using double for loop\nReturn: 14997\nComputation time is\n3.6072407970000313\n-------------------------\nFunction execution time using once for loop\nReturn: 14997\nComputation time is\n0.0007048539999914283\n"
    }
   ],
   "source": [
    "import numpy as np\n",
    "from timeit import timeit\n",
    "\n",
    "\n",
    "def max_profit_for_twice(stock: list):\n",
    "\n",
    "    max_profit = 0\n",
    "    for i in range(len(stock)-1):\n",
    "        profit = max([price - stock[i] for price in stock[i+1:]])\n",
    "        if max_profit < profit:\n",
    "            max_profit = profit\n",
    "    return max_profit\n",
    "\n",
    "\n",
    "def max_profit_for_once(stock: list):\n",
    "\n",
    "    max_profit = 0\n",
    "    min_price = stock[0]\n",
    "    for price in stock[1:]:\n",
    "        if price - min_price > max_profit:\n",
    "            max_profit = price - min_price\n",
    "        elif price < min_price:\n",
    "            min_price = price\n",
    "    return max_profit\n",
    "\n",
    "\n",
    "random_state = 42\n",
    "np.random.seed(random_state)\n",
    "stock = np.random.randint(5000, 20000, size=10000).tolist()\n",
    "\n",
    "stmt = 'print(\"Function execution time using double for loop\") \\n' \\\n",
    "    'print(f\"Return: {max_profit_for_twice(stock)}\") \\n' \\\n",
    "    'print(\"Computation time is\")'\n",
    "print(timeit(\n",
    "    stmt=stmt,\n",
    "    setup='from __main__ import max_profit_for_twice, stock',\n",
    "    number=1\n",
    "))\n",
    "print('-'*25)\n",
    "stmt = 'print(\"Function execution time using once for loop\") \\n' \\\n",
    "    'print(f\"Return: {max_profit_for_once(stock)}\") \\n' \\\n",
    "    'print(\"Computation time is\")'\n",
    "print(timeit(\n",
    "    stmt=stmt,\n",
    "    setup='from __main__ import max_profit_for_once, stock',\n",
    "    number=1\n",
    "))\n"
   ]
  }
 ]
}