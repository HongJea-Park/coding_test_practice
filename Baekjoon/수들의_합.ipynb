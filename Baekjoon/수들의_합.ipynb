{
 "cells": [
  {
   "cell_type": "code",
   "execution_count": 1,
   "metadata": {},
   "outputs": [
    {
     "data": {
      "text/html": [
       "<style>\n",
       "table {margin-left: 0 !important;}\n",
       "img {margin-left: 0 !important;}\n",
       "</style>\n"
      ],
      "text/plain": [
       "<IPython.core.display.HTML object>"
      ]
     },
     "metadata": {},
     "output_type": "display_data"
    }
   ],
   "source": [
    "%%html\n",
    "<style>\n",
    "table {margin-left: 0 !important;}\n",
    "img {margin-left: 0 !important;}\n",
    "</style>"
   ]
  },
  {
   "cell_type": "markdown",
   "metadata": {},
   "source": [
    "# 수들의 합\n",
    "\n",
    "[링크](https://www.acmicpc.net/problem/1789)\n",
    "\n",
    "<br>\n",
    "\n",
    "## 문제 설명\n",
    "\n",
    "서로 다른 N개의 자연수의 합이 S라고 한다. S를 알 때, 자연수 N의 최댓값은 얼마일까?<br>\n",
    "\n",
    "<br>\n",
    "\n",
    "## 입력\n",
    "\n",
    "첫째 줄에 자연수 S(1 ≤ S ≤ 4,294,967,295)가 주어진다.<br>\n",
    "\n",
    "<br>\n",
    "\n",
    "## 출력\n",
    "\n",
    "첫째 줄에 자연수 N의 최댓값을 출력한다.<br>\n",
    "\n",
    "<br>\n",
    "\n",
    "### 예제 입력 1 \n",
    "\n",
    "```\n",
    "200\n",
    "```\n",
    "\n",
    "### 예제 출력 1 \n",
    "\n",
    "```\n",
    "19\n",
    "```\n",
    "\n",
    "<br>\n",
    "\n",
    "**출처**\n",
    "\n",
    "문제를 만든 사람: author5 <br>\n",
    "데이터를 추가한 사람: newton08, upple1 <br>\n",
    "\n",
    "<br>\n",
    "<br>\n",
    "<br>\n",
    "<br>\n",
    "<br>\n"
   ]
  },
  {
   "cell_type": "markdown",
   "metadata": {},
   "source": [
    "# 풀이\n",
    "<br>\n",
    "\n",
    "서로 다른 N개의 자연수의 합이 고정되어 있을 때, N이 최대가 되기 위해서는 1부터 N-1까지의 수의 합 $\\displaystyle\\sum_{i}^{N-1} i$ 을 이용하면 된다.<br>\n",
    "$\\displaystyle\\sum_{i}^{N-1} i$을 알면 나머지 하나의 수는 $\\displaystyle S - \\sum_{i}^{N-1} i$ 이 되기 때문이다.<br>\n",
    "따라서 N을 바꿔가며 $\\displaystyle\\sum_{i}^{N-1} i$이 $S$ 보다 작은지 체크하면 된다.<br>\n",
    "이 때 N은 S보다 클 수 없으므로, N을 순차적으로 바꾸는 것이 아닌 binary search를 통해 탐색한다.<br>\n",
    "\n",
    "<br>\n",
    "<br>"
   ]
  },
  {
   "cell_type": "code",
   "execution_count": null,
   "metadata": {},
   "outputs": [],
   "source": [
    "def binary_search(s):\n",
    "    left, right = 1, s\n",
    "    while left <= right:\n",
    "        mid = (left+right)//2\n",
    "        if (mid*(mid+1))/2 <= s:\n",
    "            left = mid+1\n",
    "        else:\n",
    "            right = mid-1\n",
    "    return left-1\n",
    "\n",
    "\n",
    "print(binary_search(int(input())))"
   ]
  },
  {
   "cell_type": "markdown",
   "metadata": {},
   "source": [
    "<img src='https://i.imgur.com/Bcc0TeV.png' align='left'>"
   ]
  }
 ],
 "metadata": {
  "kernelspec": {
   "display_name": "Python 3",
   "language": "python",
   "name": "python3"
  },
  "language_info": {
   "codemirror_mode": {
    "name": "ipython",
    "version": 3
   },
   "file_extension": ".py",
   "mimetype": "text/x-python",
   "name": "python",
   "nbconvert_exporter": "python",
   "pygments_lexer": "ipython3",
   "version": "3.7.6"
  }
 },
 "nbformat": 4,
 "nbformat_minor": 2
}
