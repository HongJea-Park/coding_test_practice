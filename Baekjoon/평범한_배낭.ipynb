{
 "metadata": {
  "language_info": {
   "codemirror_mode": {
    "name": "ipython",
    "version": 3
   },
   "file_extension": ".py",
   "mimetype": "text/x-python",
   "name": "python",
   "nbconvert_exporter": "python",
   "pygments_lexer": "ipython3",
   "version": 3
  },
  "orig_nbformat": 2
 },
 "nbformat": 4,
 "nbformat_minor": 2,
 "cells": [
  {
   "source": [
    "# 평범한 배낭\n",
    "\n",
    "[링크](https://www.acmicpc.net/problem/12865)\n",
    "\n",
    "<br>\n",
    "\n",
    "## 문제 설명\n",
    "\n",
    "이 문제는 아주 평범한 배낭에 관한 문제이다.<br>\n",
    "\n",
    "한 달 후면 국가의 부름을 받게 되는 준서는 여행을 가려고 한다.<br>\n",
    "세상과의 단절을 슬퍼하며 최대한 즐기기 위한 여행이기 때문에, 가지고 다닐 배낭 또한 최대한 가치 있게 싸려고 한다.<br>\n",
    "\n",
    "준서가 여행에 필요하다고 생각하는 N개의 물건이 있다. <br>\n",
    "각 물건은 무게 W와 가치 V를 가지는데, 해당 물건을 배낭에 넣어서 가면 준서가 V만큼 즐길 수 있다.<br>\n",
    "아직 행군을 해본 적이 없는 준서는 최대 K만큼의 무게만을 넣을 수 있는 배낭만 들고 다닐 수 있다. <br>\n",
    "준서가 최대한 즐거운 여행을 하기 위해 배낭에 넣을 수 있는 물건들의 가치의 최댓값을 알려주자.<br>\n",
    "\n",
    "<br>\n",
    "\n",
    "## 입력\n",
    "\n",
    "첫 줄에 물품의 수 `N(1 ≤ N ≤ 100)`과 준서가 버틸 수 있는 무게 `K(1 ≤ K ≤ 100,000)`가 주어진다. <br>\n",
    "두 번째 줄부터 N개의 줄에 거쳐 각 물건의 무게 `W(1 ≤ W ≤ 100,000)`와 해당 물건의 가치 `V(0 ≤ V ≤ 1,000)`가 주어진다. <br>\n",
    "\n",
    "입력으로 주어지는 모든 수는 정수이다. <br>\n",
    "\n",
    "<br>\n",
    "\n",
    "## 출력\n",
    "\n",
    "한 줄에 배낭에 넣을 수 있는 물건들의 가치합의 최댓값을 출력한다. <br>\n",
    "\n",
    "<br>\n",
    "\n",
    "### 예제 입력 1 \n",
    "\n",
    "```\n",
    "4 7\n",
    "6 13\n",
    "4 8\n",
    "3 6\n",
    "5 12\n",
    "```\n",
    "\n",
    "### 예제 출력 1 \n",
    "\n",
    "```\n",
    "14\n",
    "```\n",
    "\n",
    "## 출처\n",
    "\n",
    "문제를 만든 사람: Acka <br>\n",
    "데이터를 추가한 사람: leedongbin <br>\n"
   ],
   "cell_type": "markdown",
   "metadata": {}
  },
  {
   "source": [
    "# 풀이\n",
    "<br>\n",
    "\n",
    "DP 문제 중 하나인 '냅색 문제'로, 하나의 리스트를 만들어 가방에 들어가는 물품의 무게에 따른 최대 가치값을 저장한다. <br>\n",
    "그 뒤 다음 물품이 들어올 때 이전에 저장된 값들을 활용한다.\n",
    "\n",
    "<br>\n",
    "<br>"
   ],
   "cell_type": "markdown",
   "metadata": {}
  },
  {
   "cell_type": "code",
   "execution_count": null,
   "metadata": {},
   "outputs": [],
   "source": [
    "import sys\n",
    "\n",
    "\n",
    "n, k = map(int, sys.stdin.readline().split())\n",
    "record = {w: 0 for w in range(1, k+1)}\n",
    "\n",
    "for _ in range(n):\n",
    "    w, v = map(int, sys.stdin.readline().split())\n",
    "    history = record.copy()\n",
    "    if w <= k:\n",
    "        record[w] = v if v > record[w] else record[w]\n",
    "        for i in range(w+1, k+1):\n",
    "            if history[i] < history[i-w] + v:\n",
    "                record[i] = history[i-w] + v\n",
    "\n",
    "print(record[k])\n"
   ]
  },
  {
   "source": [
    "<img src=\"https://i.imgur.com/Hsawvq4.png\" align='left'>"
   ],
   "cell_type": "markdown",
   "metadata": {}
  }
 ]
}