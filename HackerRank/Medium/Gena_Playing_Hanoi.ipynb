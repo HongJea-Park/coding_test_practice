{
 "cells": [
  {
   "cell_type": "code",
   "execution_count": 1,
   "metadata": {},
   "outputs": [
    {
     "data": {
      "text/html": [
       "<style>\n",
       "table {margin-left: 0 !important;}\n",
       "img {margin-left: 0 !important;}\n",
       "</style>\n"
      ],
      "text/plain": [
       "<IPython.core.display.HTML object>"
      ]
     },
     "metadata": {},
     "output_type": "display_data"
    }
   ],
   "source": [
    "%%html\n",
    "<style>\n",
    "table {margin-left: 0 !important;}\n",
    "img {margin-left: 0 !important;}\n",
    "</style>"
   ]
  },
  {
   "cell_type": "markdown",
   "metadata": {},
   "source": [
    "# Gena Playing Hanoi\n",
    "\n",
    "[링크]()\n",
    "\n",
    "<br>\n",
    "\n",
    "## 문제 설명\n",
    "\n",
    "The Tower of Hanoi is a famous game consisting of 3 rods and a number of discs of incrementally different diameters. <br>\n",
    "The puzzle starts with the discs neatly stacked on one rod, ordered by ascending size with the smallest disc at the top. <br>\n",
    "The game's objective is to move the entire stack to another rod, obeying the following rules: <br>\n",
    "\n",
    "1. Only one disc can be moved at a time.\n",
    "2. Each move consists of taking the topmost disc from a stack and moving it to the top of another stack.\n",
    "3. No disc may be placed on top of a smaller disc.\n",
    "\n",
    "\n",
    "Gena has a modified version of the Tower of Hanoi. <br>\n",
    "His Hanoi has 4 rods and $N$ discs ordered by ascending size. <br>\n",
    "He made a few moves (following the rules above), but stopped and lost his place. <br>\n",
    "He wants to restore the tower to its original state by making valid moves. <br>\n",
    "Given the state of Gena's Hanoi, help him calculate the minimum number of moves needed to restore the tower to its original state.<br>\n",
    "\n",
    "Note: Gena's rods are numbered from 1 to 4. <br>\n",
    "All discs are initially located on rod 1.\n",
    "\n",
    "## Input Format\n",
    "\n",
    "The first line contains a single integer, $N$, denoting the number of discs. <br>\n",
    "The second line contains $N$ space-separated integers, where the $i^{th}$ integer is the index of the rod where the disk with diameter $i$ is located.\n",
    "\n",
    "## Constraints\n",
    "\n",
    "- $1 \\le N \\le 10$\n",
    "\n",
    "## Output Format\n",
    "\n",
    "Print the minimum number of moves Gena must make to restore the tower to its initial, ordered state on the first rod.\n",
    "\n",
    "## Sample Input\n",
    "\n",
    "\t3\n",
    "\t1 4 1\n",
    "\n",
    "### Sample Output\n",
    "\n",
    "\t3\n",
    "\t\n",
    "### Explanation\n",
    "\n",
    "3 moves are enough to build the tower. Here is one possible solution:\n",
    "\n",
    "<img src='https://s3.amazonaws.com/hr-challenge-images/11782/1440789936-2576093316-gena1.png'>\n",
    "<br>\n",
    "\n",
    "<img src='https://s3.amazonaws.com/hr-challenge-images/11782/1440789939-3adf8c7ca6-gena2.png'>\n"
   ]
  },
  {
   "cell_type": "markdown",
   "metadata": {},
   "source": [
    "# 풀이\n",
    "<br>\n",
    "\n",
    "문제에서 rod는 4개로 항상 고정되어 있다. <br>\n",
    "따라서 주어진 rod에 대해 한 번 disc를 이동시킴으로써 새로 생성될 수 있는 rod의 수는 최대 12개이다. (조건을 만족시켜야하기 때문이며, 12개 경우의 수가 모두 가능한 경우는 없을 것임.)<br>\n",
    "\n",
    "이 때 rod를 노드, edge를 move(이동횟수)로 두면 tree 구조를 만들 수 있고, 최소 이동횟수를 구하면 되기 때문에 BFS를 통해 탐색할 수 있다. <br>\n",
    "Tree를 만드는 방법은 \n",
    "\n",
    "1. rodList를 parentNode로\n",
    "2. 최종 만들어져야 하는 목표(1번 rod에 순차적으로 정렬된 상태)를 parentNode로\n",
    "\n",
    "단, childNode를 만들 때 rodList에 대한 정보를 저장하기 위해 deepcopy를 사용할 경우 6개 test case에 대해 시간초과가 뜬다.<br>\n",
    "이는 deepcopy를 사용할 경우 새로운 변수에 값들을 모두 재할당해서 time cost가 매우 크기 때문인 것으로 보인다.<br>\n",
    "\n",
    "<br>\n",
    "<br>"
   ]
  },
  {
   "cell_type": "code",
   "execution_count": null,
   "metadata": {},
   "outputs": [],
   "source": [
    "from collections import deque\n",
    "from itertools import permutations\n",
    "\n",
    "\n",
    "def encoding(rodList):\n",
    "    return ','.join([''.join([str(disc) for disc in rod]) for rod in rodList])\n",
    "\n",
    "\n",
    "def possible_rodList(rodList):\n",
    "    newRodList = []\n",
    "    rodList = tuple(tuple(r) for r in rodList)\n",
    "    for i, j in permutations(range(4), 2):\n",
    "        if rodList[i]:\n",
    "            if not rodList[j] or rodList[j][-1] > rodList[i][-1]:\n",
    "                tmp = [list(r) for r in rodList]\n",
    "                tmp[j].append(tmp[i].pop())\n",
    "                newRodList.append(sort_rodList(tmp))\n",
    "    return newRodList\n",
    "\n",
    "\n",
    "def sort_rodList(rodList):\n",
    "    return [rodList[0]]+sorted(rodList[1:], key=lambda x: x[-1] if x else 0)\n",
    "\n",
    "\n",
    "def solution(rodList, N):\n",
    "    rodList = sort_rodList(rodList)\n",
    "    parentNode = ([[i for i in range(N, 0, -1)], [], [], []], 0)\n",
    "    queue = deque([parentNode])\n",
    "    visited = set()\n",
    "\n",
    "    while queue:\n",
    "\n",
    "        node, depth = queue.popleft()\n",
    "\n",
    "        if node == rodList:\n",
    "            return depth\n",
    "\n",
    "        for newRodList in possible_rodList(node):\n",
    "            newRodList = sort_rodList(newRodList)\n",
    "            encoded = encoding(newRodList)\n",
    "            if encoded not in visited:\n",
    "                visited.add(encoded)\n",
    "                queue.append((newRodList, depth+1))\n",
    "\n",
    "\n",
    "if __name__ == '__main__':\n",
    "    N = int(input())\n",
    "\n",
    "    rodList = [deque([]) for i in range(4)]\n",
    "    idxList = list(map(int, input().rstrip().split()))\n",
    "    step = 0\n",
    "\n",
    "    for disc, idx in enumerate(idxList):\n",
    "        rodList[idx-1].appendleft(disc+1)\n",
    "\n",
    "    rodList = list(map(lambda x: list(x), rodList))\n",
    "    print(solution(rodList, N))\n"
   ]
  },
  {
   "cell_type": "markdown",
   "metadata": {},
   "source": [
    "<img src='https://i.imgur.com/NchVZbI.png'>"
   ]
  }
 ],
 "metadata": {
  "kernelspec": {
   "display_name": "Python 3",
   "language": "python",
   "name": "python3"
  },
  "language_info": {
   "codemirror_mode": {
    "name": "ipython",
    "version": 3
   },
   "file_extension": ".py",
   "mimetype": "text/x-python",
   "name": "python",
   "nbconvert_exporter": "python",
   "pygments_lexer": "ipython3",
   "version": "3.7.6"
  }
 },
 "nbformat": 4,
 "nbformat_minor": 2
}
