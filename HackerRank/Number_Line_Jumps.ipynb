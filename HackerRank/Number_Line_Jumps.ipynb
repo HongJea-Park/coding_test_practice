{
 "cells": [
  {
   "cell_type": "code",
   "execution_count": 1,
   "metadata": {},
   "outputs": [
    {
     "data": {
      "text/html": [
       "<style>\n",
       "table {margin-left: 0 !important;}\n",
       "img {margin-left: 0 !important;}\n",
       "</style>\n"
      ],
      "text/plain": [
       "<IPython.core.display.HTML object>"
      ]
     },
     "metadata": {},
     "output_type": "display_data"
    }
   ],
   "source": [
    "%%html\n",
    "<style>\n",
    "table {margin-left: 0 !important;}\n",
    "img {margin-left: 0 !important;}\n",
    "</style>"
   ]
  },
  {
   "cell_type": "markdown",
   "metadata": {},
   "source": [
    "# Hacckerrank\n",
    "\n",
    "### Kangaroo\n",
    "\n",
    "<img src=\"https://s3.amazonaws.com/hr-assets/0/1516005283-e74e76ff0c-kangaroo.png\" width=\"100%\"><br>\n",
    "\n",
    "<br>You are choreographing a circus show with various animals. \n",
    "<br>For one act, you are given two kangaroos on a number line ready to jump in the positive direction (i.e, toward positive infinity).\n",
    "\n",
    "- The first kangaroo starts at location  and moves at a rate of  meters per jump.\n",
    "- The second kangaroo starts at location  and moves at a rate of  meters per jump.\n",
    "\n",
    "<br>You have to figure out a way to get both kangaroos at the same location at the same time as part of the show.\n",
    "<br>If it is possible, return `YES`, otherwise return `NO`.\n",
    "<br>\n",
    "<br>For example, kangaroo  starts at  with a jump distance  and kangaroo  starts at  with a jump distance of. \n",
    "<br>After one jump, they are both at , (, ), so our answer is `YES`.\n",
    "<br>\n",
    "<br>\n",
    "<br>**Function Description**\n",
    "<br>\n",
    "<br>Complete the function kangaroo in the editor below. \n",
    "<br>It should return `YES` if they reach the same position at the same time, or `NO` if they don't.\n",
    "<br>\n",
    "<br>kangaroo has the following parameter(s):\n",
    "<br>\n",
    "- x1, v1: integers, starting position and jump distance for kangaroo 1\n",
    "- x2, v2: integers, starting position and jump distance for kangaroo 2\n",
    "\n",
    "<br>**Input Format**\n",
    "<br>\n",
    "<br>A single line of four space-separated integers denoting the respective values of , , , and .\n",
    "<br>\n",
    "<br>**Constraints**\n",
    "<br>\n",
    "<br>Output Format\n",
    "<br>Print `YES` if they can land on the same location at the same time; otherwise, print `NO`.\n",
    "<br>**Note**: The two kangaroos must land at the same location after making the same number of jumps.\n",
    "<br>\n",
    "<br>\n",
    "<br>**Sample Input 0**\n",
    "<br>\n",
    "`0 3 4 2`\n",
    "<br>**Sample Output 0**\n",
    "<br>\n",
    "`YES`\n",
    "<br>\n",
    "<br>**Sample Input 0**\n",
    "<br>\n",
    "`0 2 5 3`\n",
    "<br>**Sample Output 0**\n",
    "<br>\n",
    "`NO`\n",
    "\n",
    "<br>\n",
    "<br>\n",
    "<br>\n",
    "<br>\n",
    "<br>\n",
    "\n"
   ]
  },
  {
   "cell_type": "code",
   "execution_count": 1,
   "metadata": {},
   "outputs": [],
   "source": [
    "def kangaroo(x1, v1, x2, v2):\n",
    "\n",
    "    if v2 == v1:\n",
    "        return 'NO'\n",
    "\n",
    "    q, r = divmod((x1-x2), (v2-v1))\n",
    "\n",
    "    return 'YES' if q > 0 and r == 0 else 'NO'"
   ]
  },
  {
   "cell_type": "markdown",
   "metadata": {},
   "source": [
    "<img src=\"https://i.imgur.com/hmBEJd7.png\" width=\"50%\"><br>\n"
   ]
  }
 ],
 "metadata": {
  "kernelspec": {
   "display_name": "Python 3",
   "language": "python",
   "name": "python3"
  },
  "language_info": {
   "codemirror_mode": {
    "name": "ipython",
    "version": 3
   },
   "file_extension": ".py",
   "mimetype": "text/x-python",
   "name": "python",
   "nbconvert_exporter": "python",
   "pygments_lexer": "ipython3",
   "version": "3.7.6"
  }
 },
 "nbformat": 4,
 "nbformat_minor": 2
}
